{
 "cells": [
  {
   "cell_type": "code",
   "execution_count": 1,
   "metadata": {},
   "outputs": [
    {
     "name": "stdout",
     "output_type": "stream",
     "text": [
      "WARNING:tensorflow:From c:\\Users\\ardit\\miniconda3\\envs\\env1\\Lib\\site-packages\\tf_keras\\src\\losses.py:2976: The name tf.losses.sparse_softmax_cross_entropy is deprecated. Please use tf.compat.v1.losses.sparse_softmax_cross_entropy instead.\n",
      "\n"
     ]
    }
   ],
   "source": [
    "import os\n",
    "import warnings\n",
    "\n",
    "# move directory to the root of this repo\n",
    "os.chdir('\\\\'.join(os.getcwd().split('\\\\')[:-2]))\n",
    "warnings.simplefilter(\"ignore\")\n",
    "\n",
    "import pandas as pd\n",
    "import numpy as np\n",
    "from simtag.filter import simtag_filter"
   ]
  },
  {
   "cell_type": "code",
   "execution_count": 2,
   "metadata": {},
   "outputs": [],
   "source": [
    "# import raw data\n",
    "df = pd.read_parquet('notebooks/steam-games/games.parquet').dropna()\n",
    "df['Tags'] = df['Tags'].apply(lambda x : x.split(','))\n",
    "df['Genres'] = df['Genres'].apply(lambda x : x.split(','))\n",
    "df = df.drop(['game_vector', 'game_indices', 'Score', 'Recommendations'], axis=1)\n",
    "\n",
    "# extract raw lists\n",
    "sample_list = df['Tags'].values.tolist()"
   ]
  },
  {
   "cell_type": "markdown",
   "metadata": {},
   "source": [
    "### client"
   ]
  },
  {
   "cell_type": "code",
   "execution_count": 4,
   "metadata": {},
   "outputs": [],
   "source": [
    "# initiate recommender\n",
    "engine = simtag_filter(\n",
    "    sample_list=sample_list,\n",
    "    model_name='sentence-transformers/all-MiniLM-L6-v2'\n",
    ")"
   ]
  },
  {
   "cell_type": "code",
   "execution_count": 5,
   "metadata": {},
   "outputs": [
    {
     "name": "stderr",
     "output_type": "stream",
     "text": [
      "100%|██████████| 446/446 [00:08<00:00, 50.16it/s]\n"
     ]
    }
   ],
   "source": [
    "# if not existing, compute M\n",
    "M, df_M = engine.compute_M(method='encoding')\n",
    "# df_M.to_parquet('notebooks/steam-games/M.parquet')\n",
    "\n",
    "# if existing, load M\n",
    "# df_M = pd.read_parquet('notebooks/steam-games/M.parquet')\n",
    "# engine.load_M(df_M) # we need to apply encryption option"
   ]
  },
  {
   "cell_type": "code",
   "execution_count": 6,
   "metadata": {},
   "outputs": [],
   "source": [
    "def shuffle_columns(M):\n",
    "\t\"\"\"Shuffle the columns of a matrix and return the shuffled column indices\"\"\"\n",
    "\tpermutation = np.random.permutation(M.shape[0])\n",
    "\tM_shuffled = M[permutation, :]\n",
    "\treturn M_shuffled, permutation\n",
    "\n",
    "def generate_key(size):\n",
    "\t\"\"\"Generate a random key matrix\"\"\"\n",
    "\treturn np.random.randint(0, 256, size=(size, size), dtype=np.uint8)\n",
    "\n",
    "def orthogonal_transformation(M_shuffled, A):\n",
    "\t\"\"\"Apply the orthogonal_transformation\"\"\"\n",
    "\tM_transformed = np.dot(M_shuffled, A)\n",
    "\treturn M_transformed"
   ]
  },
  {
   "cell_type": "code",
   "execution_count": 14,
   "metadata": {},
   "outputs": [],
   "source": [
    "engine.df_M = df_M\n",
    "engine.M = np.array(df_M['vector_tags'].tolist())\n",
    "\n",
    "### encryption-1: shuffling\n",
    "engine.M_shuffled, engine.permutation = shuffle_columns(engine.M)\n",
    "\n",
    "### encryption-2: orthogonal_transformation\n",
    "A, _ = np.linalg.qr(np.random.randn(engine.M.shape[-1], engine.M.shape[-1]))\n",
    "engine.M_transformed = orthogonal_transformation(engine.M_shuffled, A)\n",
    "\n",
    "engine.M = engine.M_transformed\n",
    "\n",
    "# we either compress or expand M\n",
    "engine.covariate_transformation = 'dot_product'"
   ]
  },
  {
   "cell_type": "code",
   "execution_count": 23,
   "metadata": {},
   "outputs": [],
   "source": [
    "from tqdm import tqdm\n",
    "\n",
    "def encrypt_tags(query_tag_list, permutation):\n",
    "\t\n",
    "\tindexes = [engine.tag_list.index(x) for x in query_tag_list]\n",
    "\tencrypted_indexes = [np.where(permutation==x)[0].tolist()[0] for x in indexes]\n",
    "\n",
    "\treturn indexes, encrypted_indexes\n",
    "\n",
    "def encode_samples_encrypted(sample_list_encrypted, n_tags):\n",
    "\n",
    "\tdef encode_sample_encrypted(encrypted_indexes, n):\n",
    "\t\t\n",
    "\t\t# convert into one hot\n",
    "\t\tvector_length = n_tags\n",
    "\t\tonehot_covariate_vector = np.zeros(vector_length)\n",
    "\t\tfor index in encrypted_indexes:\n",
    "\t\t\tonehot_covariate_vector[index] = 1\n",
    "\n",
    "\t\t# adjust vector\n",
    "\t\tonehot_covariate_vector = engine.adjust_oneshot_vector(onehot_covariate_vector)\n",
    "\n",
    "\t\treturn onehot_covariate_vector\n",
    "\t\n",
    "\trow_list = list()\n",
    "\tfor sample_encrypted in tqdm(sample_list_encrypted, desc=\"processing samples\"):\n",
    "\t\trow_list.append(encode_sample_encrypted(sample_encrypted, n_tags))\n",
    "\n",
    "\treturn row_list\n",
    "\n",
    "def encode_query_encrypted(encrypted_indexes, n_tags):\n",
    "\n",
    "\t# convert into one hot\n",
    "\tvector_length = n_tags\n",
    "\tonehot_covariate_vector = np.zeros(vector_length)\n",
    "\tfor index in encrypted_indexes:\n",
    "\t\tonehot_covariate_vector[index] = 1\n",
    "\n",
    "\t# adjust vector\n",
    "\tonehot_covariate_vector = engine.adjust_oneshot_vector(onehot_covariate_vector)\n",
    "\n",
    "\treturn onehot_covariate_vector"
   ]
  },
  {
   "cell_type": "markdown",
   "metadata": {},
   "source": [
    "# recommendation process"
   ]
  },
  {
   "cell_type": "code",
   "execution_count": 18,
   "metadata": {},
   "outputs": [
    {
     "name": "stdout",
     "output_type": "stream",
     "text": [
      "[[106, 122, 92, 72], [106, 234, 298, 408, 366, 405, 276, 258, 432, 299, 364, 122, 133, 316, 384, 210, 269, 259, 329, 349], [402, 436, 54, 334, 314, 408, 71, 384, 346, 386, 215, 429, 45, 258, 442, 185, 275, 299, 236, 339], [211, 213, 19, 45, 299, 310], [234, 106, 211, 203, 405, 361]]\n"
     ]
    }
   ],
   "source": [
    "# client\n",
    "sample_list_encrypted = [encrypt_tags(x, engine.permutation)[1] for x in sample_list]\n",
    "print(sample_list_encrypted[0:5])\n",
    "\n",
    "# information to be shared with the db\n",
    "n_tags = len(engine.tag_list)"
   ]
  },
  {
   "cell_type": "code",
   "execution_count": 19,
   "metadata": {},
   "outputs": [
    {
     "name": "stderr",
     "output_type": "stream",
     "text": [
      "processing samples: 100%|██████████| 41895/41895 [00:06<00:00, 6893.45it/s]\n"
     ]
    }
   ],
   "source": [
    "# database\n",
    "sample_vectors_encrypted = encode_samples_encrypted(sample_list_encrypted, n_tags)\n",
    "nbrs = engine.compute_nbrs(sample_vectors_encrypted, k=5)"
   ]
  },
  {
   "cell_type": "code",
   "execution_count": 20,
   "metadata": {},
   "outputs": [
    {
     "data": {
      "text/plain": [
       "[257, 29]"
      ]
     },
     "execution_count": 20,
     "metadata": {},
     "output_type": "execute_result"
    }
   ],
   "source": [
    "# client\n",
    "query_tag_list = [\n",
    "    'Fantasy', \n",
    "    'Dark Fantasy'\n",
    "]\n",
    "\n",
    "indexes, encrypted_indexes = encrypt_tags(query_tag_list, engine.permutation)\n",
    "encrypted_indexes"
   ]
  },
  {
   "cell_type": "code",
   "execution_count": 24,
   "metadata": {},
   "outputs": [
    {
     "data": {
      "text/plain": [
       "[32019, 23, 4356, 10763, 32095]"
      ]
     },
     "execution_count": 24,
     "metadata": {},
     "output_type": "execute_result"
    }
   ],
   "source": [
    "# database\n",
    "query_vector = encode_query_encrypted(encrypted_indexes, n_tags)\n",
    "indices, search_results = engine.soft_tag_filtering(nbrs, sample_list, query_vector)\n",
    "indices"
   ]
  },
  {
   "cell_type": "code",
   "execution_count": 25,
   "metadata": {},
   "outputs": [
    {
     "data": {
      "text/plain": [
       "[['RPG', 'Fantasy'],\n",
       " ['Adventure',\n",
       "  'Indie',\n",
       "  'RPG',\n",
       "  'RPGMaker',\n",
       "  'Dark Fantasy',\n",
       "  'Fantasy',\n",
       "  'Magic',\n",
       "  'Dark Comedy'],\n",
       " ['Action',\n",
       "  'Adventure',\n",
       "  'RPG',\n",
       "  'Fantasy',\n",
       "  'Indie',\n",
       "  'Singleplayer',\n",
       "  'Dark Fantasy',\n",
       "  'Action RPG'],\n",
       " ['RPG',\n",
       "  'Interactive Fiction',\n",
       "  'Choose Your Own Adventure',\n",
       "  'Text-Based',\n",
       "  'Fantasy',\n",
       "  'Magic',\n",
       "  'Supernatural',\n",
       "  'Choices Matter',\n",
       "  'Multiple Endings',\n",
       "  'Story Rich',\n",
       "  'Singleplayer',\n",
       "  'Dark Fantasy',\n",
       "  'Lore-Rich',\n",
       "  'Steampunk'],\n",
       " ['Action',\n",
       "  'Indie',\n",
       "  'Horror',\n",
       "  'Fantasy',\n",
       "  'Comedy',\n",
       "  'Survival Horror',\n",
       "  'Dark Fantasy']]"
      ]
     },
     "execution_count": 25,
     "metadata": {},
     "output_type": "execute_result"
    }
   ],
   "source": [
    "# client\n",
    "search_results = [sample_list[x] for x in indices]\n",
    "search_results"
   ]
  }
 ],
 "metadata": {
  "kernelspec": {
   "display_name": "env1",
   "language": "python",
   "name": "python3"
  },
  "language_info": {
   "codemirror_mode": {
    "name": "ipython",
    "version": 3
   },
   "file_extension": ".py",
   "mimetype": "text/x-python",
   "name": "python",
   "nbconvert_exporter": "python",
   "pygments_lexer": "ipython3",
   "version": "3.11.9"
  }
 },
 "nbformat": 4,
 "nbformat_minor": 2
}

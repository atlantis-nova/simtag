{
 "cells": [
  {
   "cell_type": "markdown",
   "metadata": {},
   "source": [
    "https://www.kaggle.com/datasets/fronkongames/steam-games-dataset\n",
    "\n",
    "In this example we are only using 50 tags (to test the compatibility of covariate encoding with n_tags < M.shape(0))"
   ]
  },
  {
   "cell_type": "code",
   "execution_count": 1,
   "metadata": {},
   "outputs": [
    {
     "name": "stderr",
     "output_type": "stream",
     "text": [
      "c:\\Users\\ardit\\miniconda3\\envs\\SIMTAG\\Lib\\site-packages\\sentence_transformers\\cross_encoder\\CrossEncoder.py:11: TqdmWarning: IProgress not found. Please update jupyter and ipywidgets. See https://ipywidgets.readthedocs.io/en/stable/user_install.html\n",
      "  from tqdm.autonotebook import tqdm, trange\n"
     ]
    }
   ],
   "source": [
    "import os\n",
    "\n",
    "# move directory to the root of this repo\n",
    "os.chdir('\\\\'.join(os.getcwd().split('\\\\')[:-2]))\n",
    "\n",
    "import pandas as pd\n",
    "import numpy as np\n",
    "from simtag.filter import simtag_filter"
   ]
  },
  {
   "cell_type": "code",
   "execution_count": 2,
   "metadata": {},
   "outputs": [],
   "source": [
    "# import raw data\n",
    "df = pd.read_parquet('notebooks/steam-games/games.parquet').dropna()\n",
    "df['Tags'] = df['Tags'].apply(lambda x : x.split(','))\n",
    "df['Genres'] = df['Genres'].apply(lambda x : x.split(','))\n",
    "df = df.drop(['game_vector', 'game_indices', 'Score', 'Recommendations'], axis=1)\n",
    "df\n",
    "\n",
    "# only pick the top 50 tags\n",
    "tags_list = list()\n",
    "[[tags_list.append(k) for k in x] for x in df['Tags'].tolist()]\n",
    "valid_tags = pd.Series(tags_list).value_counts()[0:50].index.tolist()\n",
    "\n",
    "def filter_tags(valid_tags, tags):\n",
    "\n",
    "\tfinal_tags = list()\n",
    "\tfor tag in tags:\n",
    "\t\tif tag in valid_tags:\n",
    "\t\t\tfinal_tags.append(tag)\n",
    "\n",
    "\treturn final_tags\n",
    "\n",
    "df['Tags'] = df['Tags'].apply(lambda tags : filter_tags(valid_tags, tags))\n",
    "df\n",
    "\n",
    "# extract raw lists\n",
    "sample_list = df['Tags'].values.tolist()"
   ]
  },
  {
   "cell_type": "code",
   "execution_count": 3,
   "metadata": {},
   "outputs": [
    {
     "name": "stderr",
     "output_type": "stream",
     "text": [
      "c:\\Users\\ardit\\miniconda3\\envs\\SIMTAG\\Lib\\site-packages\\transformers\\tokenization_utils_base.py:1601: FutureWarning: `clean_up_tokenization_spaces` was not set. It will be set to `True` by default. This behavior will be depracted in transformers v4.45, and will be then set to `False` by default. For more details check this issue: https://github.com/huggingface/transformers/issues/31884\n",
      "  warnings.warn(\n"
     ]
    }
   ],
   "source": [
    "# initiate recommender\n",
    "engine = simtag_filter(\n",
    "    sample_list=sample_list,\n",
    "    covariate_vector_length=384,\n",
    "    model_name='sentence-transformers/all-MiniLM-L6-v2'\n",
    ")"
   ]
  },
  {
   "cell_type": "code",
   "execution_count": 4,
   "metadata": {},
   "outputs": [
    {
     "name": "stderr",
     "output_type": "stream",
     "text": [
      "100%|██████████| 50/50 [00:00<00:00, 52.92it/s]\n"
     ]
    }
   ],
   "source": [
    "# if not existing, compute M\n",
    "M, df_M = engine.compute_M(method='encoding')\n",
    "# df_M.to_parquet('notebooks/steam-games/M.parquet')\n",
    "\n",
    "# if existing, load M\n",
    "# df_M = pd.read_parquet('notebooks/steam-games/M.parquet')\n",
    "engine.load_M(df_M)"
   ]
  },
  {
   "cell_type": "code",
   "execution_count": 5,
   "metadata": {},
   "outputs": [],
   "source": [
    "import numpy as np\n",
    "from tqdm import tqdm\n",
    "\n",
    "def encode_samples(sample_list):\n",
    "\n",
    "\tdef encode_sample(list_tags):\n",
    "\t\t\t\n",
    "\t\tvector = np.zeros(384)\n",
    "\t\tindexes = [engine.tag_list.index(x) for x in list_tags]\n",
    "\t\tfor index in indexes:\n",
    "\t\t\tT_range = engine.T_indexes[index]\n",
    "\t\t\tvector[T_range[0]:T_range[1]] = 1\n",
    "\t\t\t# vector[0:5] = 1\n",
    "\n",
    "\t\tcompressed_vector = vector\n",
    "\t\t# print('@', compressed_vector)\n",
    "\t\tif engine.pca_vector_length is not None:\n",
    "\t\t\tcompressed_vector = engine.pca.transform(vector.reshape(1, len(vector)))[0]\n",
    "\t\treturn compressed_vector\n",
    "\n",
    "\trow_list = list()\n",
    "\tfor sample in tqdm(sample_list, desc=\"processing samples\"):\n",
    "\t\trow_list.append(encode_sample(sample))\n",
    "\n",
    "\treturn row_list"
   ]
  },
  {
   "cell_type": "code",
   "execution_count": 6,
   "metadata": {},
   "outputs": [
    {
     "name": "stderr",
     "output_type": "stream",
     "text": [
      "processing samples: 100%|██████████| 41895/41895 [00:01<00:00, 28160.71it/s]\n"
     ]
    },
    {
     "data": {
      "text/html": [
       "<style>#sk-container-id-1 {\n",
       "  /* Definition of color scheme common for light and dark mode */\n",
       "  --sklearn-color-text: black;\n",
       "  --sklearn-color-line: gray;\n",
       "  /* Definition of color scheme for unfitted estimators */\n",
       "  --sklearn-color-unfitted-level-0: #fff5e6;\n",
       "  --sklearn-color-unfitted-level-1: #f6e4d2;\n",
       "  --sklearn-color-unfitted-level-2: #ffe0b3;\n",
       "  --sklearn-color-unfitted-level-3: chocolate;\n",
       "  /* Definition of color scheme for fitted estimators */\n",
       "  --sklearn-color-fitted-level-0: #f0f8ff;\n",
       "  --sklearn-color-fitted-level-1: #d4ebff;\n",
       "  --sklearn-color-fitted-level-2: #b3dbfd;\n",
       "  --sklearn-color-fitted-level-3: cornflowerblue;\n",
       "\n",
       "  /* Specific color for light theme */\n",
       "  --sklearn-color-text-on-default-background: var(--sg-text-color, var(--theme-code-foreground, var(--jp-content-font-color1, black)));\n",
       "  --sklearn-color-background: var(--sg-background-color, var(--theme-background, var(--jp-layout-color0, white)));\n",
       "  --sklearn-color-border-box: var(--sg-text-color, var(--theme-code-foreground, var(--jp-content-font-color1, black)));\n",
       "  --sklearn-color-icon: #696969;\n",
       "\n",
       "  @media (prefers-color-scheme: dark) {\n",
       "    /* Redefinition of color scheme for dark theme */\n",
       "    --sklearn-color-text-on-default-background: var(--sg-text-color, var(--theme-code-foreground, var(--jp-content-font-color1, white)));\n",
       "    --sklearn-color-background: var(--sg-background-color, var(--theme-background, var(--jp-layout-color0, #111)));\n",
       "    --sklearn-color-border-box: var(--sg-text-color, var(--theme-code-foreground, var(--jp-content-font-color1, white)));\n",
       "    --sklearn-color-icon: #878787;\n",
       "  }\n",
       "}\n",
       "\n",
       "#sk-container-id-1 {\n",
       "  color: var(--sklearn-color-text);\n",
       "}\n",
       "\n",
       "#sk-container-id-1 pre {\n",
       "  padding: 0;\n",
       "}\n",
       "\n",
       "#sk-container-id-1 input.sk-hidden--visually {\n",
       "  border: 0;\n",
       "  clip: rect(1px 1px 1px 1px);\n",
       "  clip: rect(1px, 1px, 1px, 1px);\n",
       "  height: 1px;\n",
       "  margin: -1px;\n",
       "  overflow: hidden;\n",
       "  padding: 0;\n",
       "  position: absolute;\n",
       "  width: 1px;\n",
       "}\n",
       "\n",
       "#sk-container-id-1 div.sk-dashed-wrapped {\n",
       "  border: 1px dashed var(--sklearn-color-line);\n",
       "  margin: 0 0.4em 0.5em 0.4em;\n",
       "  box-sizing: border-box;\n",
       "  padding-bottom: 0.4em;\n",
       "  background-color: var(--sklearn-color-background);\n",
       "}\n",
       "\n",
       "#sk-container-id-1 div.sk-container {\n",
       "  /* jupyter's `normalize.less` sets `[hidden] { display: none; }`\n",
       "     but bootstrap.min.css set `[hidden] { display: none !important; }`\n",
       "     so we also need the `!important` here to be able to override the\n",
       "     default hidden behavior on the sphinx rendered scikit-learn.org.\n",
       "     See: https://github.com/scikit-learn/scikit-learn/issues/21755 */\n",
       "  display: inline-block !important;\n",
       "  position: relative;\n",
       "}\n",
       "\n",
       "#sk-container-id-1 div.sk-text-repr-fallback {\n",
       "  display: none;\n",
       "}\n",
       "\n",
       "div.sk-parallel-item,\n",
       "div.sk-serial,\n",
       "div.sk-item {\n",
       "  /* draw centered vertical line to link estimators */\n",
       "  background-image: linear-gradient(var(--sklearn-color-text-on-default-background), var(--sklearn-color-text-on-default-background));\n",
       "  background-size: 2px 100%;\n",
       "  background-repeat: no-repeat;\n",
       "  background-position: center center;\n",
       "}\n",
       "\n",
       "/* Parallel-specific style estimator block */\n",
       "\n",
       "#sk-container-id-1 div.sk-parallel-item::after {\n",
       "  content: \"\";\n",
       "  width: 100%;\n",
       "  border-bottom: 2px solid var(--sklearn-color-text-on-default-background);\n",
       "  flex-grow: 1;\n",
       "}\n",
       "\n",
       "#sk-container-id-1 div.sk-parallel {\n",
       "  display: flex;\n",
       "  align-items: stretch;\n",
       "  justify-content: center;\n",
       "  background-color: var(--sklearn-color-background);\n",
       "  position: relative;\n",
       "}\n",
       "\n",
       "#sk-container-id-1 div.sk-parallel-item {\n",
       "  display: flex;\n",
       "  flex-direction: column;\n",
       "}\n",
       "\n",
       "#sk-container-id-1 div.sk-parallel-item:first-child::after {\n",
       "  align-self: flex-end;\n",
       "  width: 50%;\n",
       "}\n",
       "\n",
       "#sk-container-id-1 div.sk-parallel-item:last-child::after {\n",
       "  align-self: flex-start;\n",
       "  width: 50%;\n",
       "}\n",
       "\n",
       "#sk-container-id-1 div.sk-parallel-item:only-child::after {\n",
       "  width: 0;\n",
       "}\n",
       "\n",
       "/* Serial-specific style estimator block */\n",
       "\n",
       "#sk-container-id-1 div.sk-serial {\n",
       "  display: flex;\n",
       "  flex-direction: column;\n",
       "  align-items: center;\n",
       "  background-color: var(--sklearn-color-background);\n",
       "  padding-right: 1em;\n",
       "  padding-left: 1em;\n",
       "}\n",
       "\n",
       "\n",
       "/* Toggleable style: style used for estimator/Pipeline/ColumnTransformer box that is\n",
       "clickable and can be expanded/collapsed.\n",
       "- Pipeline and ColumnTransformer use this feature and define the default style\n",
       "- Estimators will overwrite some part of the style using the `sk-estimator` class\n",
       "*/\n",
       "\n",
       "/* Pipeline and ColumnTransformer style (default) */\n",
       "\n",
       "#sk-container-id-1 div.sk-toggleable {\n",
       "  /* Default theme specific background. It is overwritten whether we have a\n",
       "  specific estimator or a Pipeline/ColumnTransformer */\n",
       "  background-color: var(--sklearn-color-background);\n",
       "}\n",
       "\n",
       "/* Toggleable label */\n",
       "#sk-container-id-1 label.sk-toggleable__label {\n",
       "  cursor: pointer;\n",
       "  display: block;\n",
       "  width: 100%;\n",
       "  margin-bottom: 0;\n",
       "  padding: 0.5em;\n",
       "  box-sizing: border-box;\n",
       "  text-align: center;\n",
       "}\n",
       "\n",
       "#sk-container-id-1 label.sk-toggleable__label-arrow:before {\n",
       "  /* Arrow on the left of the label */\n",
       "  content: \"▸\";\n",
       "  float: left;\n",
       "  margin-right: 0.25em;\n",
       "  color: var(--sklearn-color-icon);\n",
       "}\n",
       "\n",
       "#sk-container-id-1 label.sk-toggleable__label-arrow:hover:before {\n",
       "  color: var(--sklearn-color-text);\n",
       "}\n",
       "\n",
       "/* Toggleable content - dropdown */\n",
       "\n",
       "#sk-container-id-1 div.sk-toggleable__content {\n",
       "  max-height: 0;\n",
       "  max-width: 0;\n",
       "  overflow: hidden;\n",
       "  text-align: left;\n",
       "  /* unfitted */\n",
       "  background-color: var(--sklearn-color-unfitted-level-0);\n",
       "}\n",
       "\n",
       "#sk-container-id-1 div.sk-toggleable__content.fitted {\n",
       "  /* fitted */\n",
       "  background-color: var(--sklearn-color-fitted-level-0);\n",
       "}\n",
       "\n",
       "#sk-container-id-1 div.sk-toggleable__content pre {\n",
       "  margin: 0.2em;\n",
       "  border-radius: 0.25em;\n",
       "  color: var(--sklearn-color-text);\n",
       "  /* unfitted */\n",
       "  background-color: var(--sklearn-color-unfitted-level-0);\n",
       "}\n",
       "\n",
       "#sk-container-id-1 div.sk-toggleable__content.fitted pre {\n",
       "  /* unfitted */\n",
       "  background-color: var(--sklearn-color-fitted-level-0);\n",
       "}\n",
       "\n",
       "#sk-container-id-1 input.sk-toggleable__control:checked~div.sk-toggleable__content {\n",
       "  /* Expand drop-down */\n",
       "  max-height: 200px;\n",
       "  max-width: 100%;\n",
       "  overflow: auto;\n",
       "}\n",
       "\n",
       "#sk-container-id-1 input.sk-toggleable__control:checked~label.sk-toggleable__label-arrow:before {\n",
       "  content: \"▾\";\n",
       "}\n",
       "\n",
       "/* Pipeline/ColumnTransformer-specific style */\n",
       "\n",
       "#sk-container-id-1 div.sk-label input.sk-toggleable__control:checked~label.sk-toggleable__label {\n",
       "  color: var(--sklearn-color-text);\n",
       "  background-color: var(--sklearn-color-unfitted-level-2);\n",
       "}\n",
       "\n",
       "#sk-container-id-1 div.sk-label.fitted input.sk-toggleable__control:checked~label.sk-toggleable__label {\n",
       "  background-color: var(--sklearn-color-fitted-level-2);\n",
       "}\n",
       "\n",
       "/* Estimator-specific style */\n",
       "\n",
       "/* Colorize estimator box */\n",
       "#sk-container-id-1 div.sk-estimator input.sk-toggleable__control:checked~label.sk-toggleable__label {\n",
       "  /* unfitted */\n",
       "  background-color: var(--sklearn-color-unfitted-level-2);\n",
       "}\n",
       "\n",
       "#sk-container-id-1 div.sk-estimator.fitted input.sk-toggleable__control:checked~label.sk-toggleable__label {\n",
       "  /* fitted */\n",
       "  background-color: var(--sklearn-color-fitted-level-2);\n",
       "}\n",
       "\n",
       "#sk-container-id-1 div.sk-label label.sk-toggleable__label,\n",
       "#sk-container-id-1 div.sk-label label {\n",
       "  /* The background is the default theme color */\n",
       "  color: var(--sklearn-color-text-on-default-background);\n",
       "}\n",
       "\n",
       "/* On hover, darken the color of the background */\n",
       "#sk-container-id-1 div.sk-label:hover label.sk-toggleable__label {\n",
       "  color: var(--sklearn-color-text);\n",
       "  background-color: var(--sklearn-color-unfitted-level-2);\n",
       "}\n",
       "\n",
       "/* Label box, darken color on hover, fitted */\n",
       "#sk-container-id-1 div.sk-label.fitted:hover label.sk-toggleable__label.fitted {\n",
       "  color: var(--sklearn-color-text);\n",
       "  background-color: var(--sklearn-color-fitted-level-2);\n",
       "}\n",
       "\n",
       "/* Estimator label */\n",
       "\n",
       "#sk-container-id-1 div.sk-label label {\n",
       "  font-family: monospace;\n",
       "  font-weight: bold;\n",
       "  display: inline-block;\n",
       "  line-height: 1.2em;\n",
       "}\n",
       "\n",
       "#sk-container-id-1 div.sk-label-container {\n",
       "  text-align: center;\n",
       "}\n",
       "\n",
       "/* Estimator-specific */\n",
       "#sk-container-id-1 div.sk-estimator {\n",
       "  font-family: monospace;\n",
       "  border: 1px dotted var(--sklearn-color-border-box);\n",
       "  border-radius: 0.25em;\n",
       "  box-sizing: border-box;\n",
       "  margin-bottom: 0.5em;\n",
       "  /* unfitted */\n",
       "  background-color: var(--sklearn-color-unfitted-level-0);\n",
       "}\n",
       "\n",
       "#sk-container-id-1 div.sk-estimator.fitted {\n",
       "  /* fitted */\n",
       "  background-color: var(--sklearn-color-fitted-level-0);\n",
       "}\n",
       "\n",
       "/* on hover */\n",
       "#sk-container-id-1 div.sk-estimator:hover {\n",
       "  /* unfitted */\n",
       "  background-color: var(--sklearn-color-unfitted-level-2);\n",
       "}\n",
       "\n",
       "#sk-container-id-1 div.sk-estimator.fitted:hover {\n",
       "  /* fitted */\n",
       "  background-color: var(--sklearn-color-fitted-level-2);\n",
       "}\n",
       "\n",
       "/* Specification for estimator info (e.g. \"i\" and \"?\") */\n",
       "\n",
       "/* Common style for \"i\" and \"?\" */\n",
       "\n",
       ".sk-estimator-doc-link,\n",
       "a:link.sk-estimator-doc-link,\n",
       "a:visited.sk-estimator-doc-link {\n",
       "  float: right;\n",
       "  font-size: smaller;\n",
       "  line-height: 1em;\n",
       "  font-family: monospace;\n",
       "  background-color: var(--sklearn-color-background);\n",
       "  border-radius: 1em;\n",
       "  height: 1em;\n",
       "  width: 1em;\n",
       "  text-decoration: none !important;\n",
       "  margin-left: 1ex;\n",
       "  /* unfitted */\n",
       "  border: var(--sklearn-color-unfitted-level-1) 1pt solid;\n",
       "  color: var(--sklearn-color-unfitted-level-1);\n",
       "}\n",
       "\n",
       ".sk-estimator-doc-link.fitted,\n",
       "a:link.sk-estimator-doc-link.fitted,\n",
       "a:visited.sk-estimator-doc-link.fitted {\n",
       "  /* fitted */\n",
       "  border: var(--sklearn-color-fitted-level-1) 1pt solid;\n",
       "  color: var(--sklearn-color-fitted-level-1);\n",
       "}\n",
       "\n",
       "/* On hover */\n",
       "div.sk-estimator:hover .sk-estimator-doc-link:hover,\n",
       ".sk-estimator-doc-link:hover,\n",
       "div.sk-label-container:hover .sk-estimator-doc-link:hover,\n",
       ".sk-estimator-doc-link:hover {\n",
       "  /* unfitted */\n",
       "  background-color: var(--sklearn-color-unfitted-level-3);\n",
       "  color: var(--sklearn-color-background);\n",
       "  text-decoration: none;\n",
       "}\n",
       "\n",
       "div.sk-estimator.fitted:hover .sk-estimator-doc-link.fitted:hover,\n",
       ".sk-estimator-doc-link.fitted:hover,\n",
       "div.sk-label-container:hover .sk-estimator-doc-link.fitted:hover,\n",
       ".sk-estimator-doc-link.fitted:hover {\n",
       "  /* fitted */\n",
       "  background-color: var(--sklearn-color-fitted-level-3);\n",
       "  color: var(--sklearn-color-background);\n",
       "  text-decoration: none;\n",
       "}\n",
       "\n",
       "/* Span, style for the box shown on hovering the info icon */\n",
       ".sk-estimator-doc-link span {\n",
       "  display: none;\n",
       "  z-index: 9999;\n",
       "  position: relative;\n",
       "  font-weight: normal;\n",
       "  right: .2ex;\n",
       "  padding: .5ex;\n",
       "  margin: .5ex;\n",
       "  width: min-content;\n",
       "  min-width: 20ex;\n",
       "  max-width: 50ex;\n",
       "  color: var(--sklearn-color-text);\n",
       "  box-shadow: 2pt 2pt 4pt #999;\n",
       "  /* unfitted */\n",
       "  background: var(--sklearn-color-unfitted-level-0);\n",
       "  border: .5pt solid var(--sklearn-color-unfitted-level-3);\n",
       "}\n",
       "\n",
       ".sk-estimator-doc-link.fitted span {\n",
       "  /* fitted */\n",
       "  background: var(--sklearn-color-fitted-level-0);\n",
       "  border: var(--sklearn-color-fitted-level-3);\n",
       "}\n",
       "\n",
       ".sk-estimator-doc-link:hover span {\n",
       "  display: block;\n",
       "}\n",
       "\n",
       "/* \"?\"-specific style due to the `<a>` HTML tag */\n",
       "\n",
       "#sk-container-id-1 a.estimator_doc_link {\n",
       "  float: right;\n",
       "  font-size: 1rem;\n",
       "  line-height: 1em;\n",
       "  font-family: monospace;\n",
       "  background-color: var(--sklearn-color-background);\n",
       "  border-radius: 1rem;\n",
       "  height: 1rem;\n",
       "  width: 1rem;\n",
       "  text-decoration: none;\n",
       "  /* unfitted */\n",
       "  color: var(--sklearn-color-unfitted-level-1);\n",
       "  border: var(--sklearn-color-unfitted-level-1) 1pt solid;\n",
       "}\n",
       "\n",
       "#sk-container-id-1 a.estimator_doc_link.fitted {\n",
       "  /* fitted */\n",
       "  border: var(--sklearn-color-fitted-level-1) 1pt solid;\n",
       "  color: var(--sklearn-color-fitted-level-1);\n",
       "}\n",
       "\n",
       "/* On hover */\n",
       "#sk-container-id-1 a.estimator_doc_link:hover {\n",
       "  /* unfitted */\n",
       "  background-color: var(--sklearn-color-unfitted-level-3);\n",
       "  color: var(--sklearn-color-background);\n",
       "  text-decoration: none;\n",
       "}\n",
       "\n",
       "#sk-container-id-1 a.estimator_doc_link.fitted:hover {\n",
       "  /* fitted */\n",
       "  background-color: var(--sklearn-color-fitted-level-3);\n",
       "}\n",
       "</style><div id=\"sk-container-id-1\" class=\"sk-top-container\"><div class=\"sk-text-repr-fallback\"><pre>NearestNeighbors(metric=&#x27;cosine&#x27;, n_neighbors=1)</pre><b>In a Jupyter environment, please rerun this cell to show the HTML representation or trust the notebook. <br />On GitHub, the HTML representation is unable to render, please try loading this page with nbviewer.org.</b></div><div class=\"sk-container\" hidden><div class=\"sk-item\"><div class=\"sk-estimator fitted sk-toggleable\"><input class=\"sk-toggleable__control sk-hidden--visually\" id=\"sk-estimator-id-1\" type=\"checkbox\" checked><label for=\"sk-estimator-id-1\" class=\"sk-toggleable__label fitted sk-toggleable__label-arrow fitted\">&nbsp;&nbsp;NearestNeighbors<a class=\"sk-estimator-doc-link fitted\" rel=\"noreferrer\" target=\"_blank\" href=\"https://scikit-learn.org/1.5/modules/generated/sklearn.neighbors.NearestNeighbors.html\">?<span>Documentation for NearestNeighbors</span></a><span class=\"sk-estimator-doc-link fitted\">i<span>Fitted</span></span></label><div class=\"sk-toggleable__content fitted\"><pre>NearestNeighbors(metric=&#x27;cosine&#x27;, n_neighbors=1)</pre></div> </div></div></div></div>"
      ],
      "text/plain": [
       "NearestNeighbors(metric='cosine', n_neighbors=1)"
      ]
     },
     "execution_count": 6,
     "metadata": {},
     "output_type": "execute_result"
    }
   ],
   "source": [
    "# if not existing, compute and save samples_encoded.parquet\n",
    "sample_vectors = engine.encode_samples(sample_list)\n",
    "# samples_encoded = pd.DataFrame([sample_vectors], index=['vector']).T\n",
    "# samples_encoded.to_parquet('samples_encoded_mini.parquet')\n",
    "\n",
    "# if already existing, load samples_encoded.parquet\n",
    "# sample_vectors = pd.read_parquet('notebooks/twitter-news/samples_encoded.parquet').vector.tolist()\n",
    "nbrs = engine.compute_nbrs(sample_vectors, k=4)\n",
    "\n",
    "# prepare search to input non-existing tags\n",
    "engine.compute_nbrs_tags()"
   ]
  },
  {
   "cell_type": "code",
   "execution_count": 7,
   "metadata": {},
   "outputs": [
    {
     "data": {
      "text/plain": [
       "[['Indie', 'Action', '2D', 'Cute', 'Casual'],\n",
       " ['Casual', 'Action', 'Indie', '2D', 'Cute'],\n",
       " ['Action', 'Indie', 'Casual', 'Cute', '2D'],\n",
       " ['Action',\n",
       "  'Casual',\n",
       "  'Arcade',\n",
       "  'Mystery',\n",
       "  'Platformer',\n",
       "  'Singleplayer',\n",
       "  'Cute',\n",
       "  '2D']]"
      ]
     },
     "execution_count": 7,
     "metadata": {},
     "output_type": "execute_result"
    }
   ],
   "source": [
    "query_tag_list = ['Action', 'Casual', '2D', 'Cute', 'Mystery']\n",
    "\n",
    "# perform search\n",
    "query_vector = engine.encode_query(list_tags=query_tag_list, allow_new_tags=True)\n",
    "indices, search_results = engine.soft_tag_filtering(nbrs, sample_list, query_vector)\n",
    "search_results"
   ]
  },
  {
   "cell_type": "code",
   "execution_count": 8,
   "metadata": {},
   "outputs": [],
   "source": [
    "query_tag_list = ['Action', 'Casual', '2D', 'Cute', 'Mystery']\n",
    "result_index = 0\n",
    "\n",
    "# semantic search\n",
    "query_vector = engine.encode_query(list_tags=query_tag_list)\n",
    "soft_indices, soft_filter_results = engine.soft_tag_filtering(nbrs, sample_list, query_vector)\n",
    "soft_raw_scores, soft_mean_scores = engine.compute_neighbor_scores(soft_filter_results[result_index], query_tag_list, remove_max=False)\n",
    "\n",
    "# traditional search\n",
    "hard_indices, hard_filter_results = engine.hard_tag_filtering(sample_list, query_tag_list)\n",
    "hard_raw_scores, hard_mean_scores = engine.compute_neighbor_scores(hard_filter_results[result_index], query_tag_list, remove_max=False)"
   ]
  },
  {
   "cell_type": "code",
   "execution_count": 9,
   "metadata": {},
   "outputs": [
    {
     "data": {
      "text/html": [
       "['Action', 'Casual', '2D', 'Cute', 'Mystery']:<br><span style='background-color:rgb(77,11,0); color:white'>Indie</span> <span style='background-color:rgb(178,0,0); color:white'>Action</span> <span style='background-color:rgb(90,9,0); color:white'>2D</span> <span style='background-color:rgb(76,11,0); color:white'>Cute</span> <span style='background-color:rgb(89,9,0); color:white'>Casual</span> "
      ],
      "text/plain": [
       "<IPython.core.display.HTML object>"
      ]
     },
     "metadata": {},
     "output_type": "display_data"
    },
    {
     "data": {
      "text/html": [
       "['Action', 'Casual', '2D', 'Cute', 'Mystery']:<br><span style='background-color:rgb(94,9,0); color:white'>Indie</span> <span style='background-color:rgb(89,9,0); color:white'>Action</span> <span style='background-color:rgb(80,10,0); color:white'>2D</span> <span style='background-color:rgb(73,11,0); color:white'>Cute</span> <span style='background-color:rgb(178,0,0); color:white'>Casual</span> "
      ],
      "text/plain": [
       "<IPython.core.display.HTML object>"
      ]
     },
     "metadata": {},
     "output_type": "display_data"
    },
    {
     "data": {
      "text/html": [
       "['Action', 'Casual', '2D', 'Cute', 'Mystery']:<br><span style='background-color:rgb(88,10,0); color:white'>Indie</span> <span style='background-color:rgb(90,9,0); color:white'>Action</span> <span style='background-color:rgb(178,0,0); color:white'>2D</span> <span style='background-color:rgb(76,11,0); color:white'>Cute</span> <span style='background-color:rgb(80,10,0); color:white'>Casual</span> "
      ],
      "text/plain": [
       "<IPython.core.display.HTML object>"
      ]
     },
     "metadata": {},
     "output_type": "display_data"
    },
    {
     "data": {
      "text/html": [
       "['Action', 'Casual', '2D', 'Cute', 'Mystery']:<br><span style='background-color:rgb(71,11,0); color:white'>Indie</span> <span style='background-color:rgb(76,11,0); color:white'>Action</span> <span style='background-color:rgb(76,11,0); color:white'>2D</span> <span style='background-color:rgb(178,0,0); color:white'>Cute</span> <span style='background-color:rgb(73,11,0); color:white'>Casual</span> "
      ],
      "text/plain": [
       "<IPython.core.display.HTML object>"
      ]
     },
     "metadata": {},
     "output_type": "display_data"
    },
    {
     "data": {
      "text/html": [
       "['Action', 'Casual', '2D', 'Cute', 'Mystery']:<br><span style='background-color:rgb(84,10,0); color:white'>Indie</span> <span style='background-color:rgb(90,9,0); color:white'>Action</span> <span style='background-color:rgb(84,10,0); color:white'>2D</span> <span style='background-color:rgb(79,11,0); color:white'>Cute</span> <span style='background-color:rgb(82,10,0); color:white'>Casual</span> "
      ],
      "text/plain": [
       "<IPython.core.display.HTML object>"
      ]
     },
     "metadata": {},
     "output_type": "display_data"
    },
    {
     "name": "stdout",
     "output_type": "stream",
     "text": [
      "\n"
     ]
    },
    {
     "data": {
      "text/html": [
       "['Action', 'Casual', '2D', 'Cute', 'Mystery']:<br><span style='background-color:rgb(54,13,0); color:white'>Singleplayer</span> <span style='background-color:rgb(57,13,0); color:white'>Atmospheric</span> <span style='background-color:rgb(50,14,0); color:white'>Indie</span> <span style='background-color:rgb(74,11,0); color:white'>Exploration</span> <span style='background-color:rgb(59,13,0); color:white'>Relaxing</span> <span style='background-color:rgb(64,12,0); color:white'>Mystery</span> <span style='background-color:rgb(66,12,0); color:white'>Retro</span> <span style='background-color:rgb(40,15,0); color:white'>Platformer</span> <span style='background-color:rgb(64,12,0); color:white'>2D</span> <span style='background-color:rgb(32,16,0); color:white'>Pixel Graphics</span> <span style='background-color:rgb(63,12,0); color:white'>Casual</span> <span style='background-color:rgb(69,12,0); color:white'>Arcade</span> <span style='background-color:rgb(78,11,0); color:white'>Adventure</span> <span style='background-color:rgb(178,0,0); color:white'>Action</span> <span style='background-color:rgb(114,7,0); color:white'>Action-Adventure</span> <span style='background-color:rgb(49,14,0); color:white'>Cute</span> "
      ],
      "text/plain": [
       "<IPython.core.display.HTML object>"
      ]
     },
     "metadata": {},
     "output_type": "display_data"
    },
    {
     "data": {
      "text/html": [
       "['Action', 'Casual', '2D', 'Cute', 'Mystery']:<br><span style='background-color:rgb(47,14,0); color:white'>Singleplayer</span> <span style='background-color:rgb(46,14,0); color:white'>Atmospheric</span> <span style='background-color:rgb(68,12,0); color:white'>Indie</span> <span style='background-color:rgb(44,14,0); color:white'>Exploration</span> <span style='background-color:rgb(62,12,0); color:white'>Relaxing</span> <span style='background-color:rgb(55,13,0); color:white'>Mystery</span> <span style='background-color:rgb(76,11,0); color:white'>Retro</span> <span style='background-color:rgb(34,16,0); color:white'>Platformer</span> <span style='background-color:rgb(54,13,0); color:white'>2D</span> <span style='background-color:rgb(27,16,0); color:white'>Pixel Graphics</span> <span style='background-color:rgb(178,0,0); color:white'>Casual</span> <span style='background-color:rgb(51,14,0); color:white'>Arcade</span> <span style='background-color:rgb(63,12,0); color:white'>Adventure</span> <span style='background-color:rgb(63,12,0); color:white'>Action</span> <span style='background-color:rgb(60,13,0); color:white'>Action-Adventure</span> <span style='background-color:rgb(47,14,0); color:white'>Cute</span> "
      ],
      "text/plain": [
       "<IPython.core.display.HTML object>"
      ]
     },
     "metadata": {},
     "output_type": "display_data"
    },
    {
     "data": {
      "text/html": [
       "['Action', 'Casual', '2D', 'Cute', 'Mystery']:<br><span style='background-color:rgb(61,13,0); color:white'>Singleplayer</span> <span style='background-color:rgb(57,13,0); color:white'>Atmospheric</span> <span style='background-color:rgb(62,13,0); color:white'>Indie</span> <span style='background-color:rgb(59,13,0); color:white'>Exploration</span> <span style='background-color:rgb(34,16,0); color:white'>Relaxing</span> <span style='background-color:rgb(58,13,0); color:white'>Mystery</span> <span style='background-color:rgb(59,13,0); color:white'>Retro</span> <span style='background-color:rgb(49,14,0); color:white'>Platformer</span> <span style='background-color:rgb(178,0,0); color:white'>2D</span> <span style='background-color:rgb(73,11,0); color:white'>Pixel Graphics</span> <span style='background-color:rgb(54,13,0); color:white'>Casual</span> <span style='background-color:rgb(64,12,0); color:white'>Arcade</span> <span style='background-color:rgb(81,10,0); color:white'>Adventure</span> <span style='background-color:rgb(64,12,0); color:white'>Action</span> <span style='background-color:rgb(76,11,0); color:white'>Action-Adventure</span> <span style='background-color:rgb(50,14,0); color:white'>Cute</span> "
      ],
      "text/plain": [
       "<IPython.core.display.HTML object>"
      ]
     },
     "metadata": {},
     "output_type": "display_data"
    },
    {
     "data": {
      "text/html": [
       "['Action', 'Casual', '2D', 'Cute', 'Mystery']:<br><span style='background-color:rgb(25,17,0); color:white'>Singleplayer</span> <span style='background-color:rgb(34,16,0); color:white'>Atmospheric</span> <span style='background-color:rgb(45,14,0); color:white'>Indie</span> <span style='background-color:rgb(35,16,0); color:white'>Exploration</span> <span style='background-color:rgb(46,14,0); color:white'>Relaxing</span> <span style='background-color:rgb(52,14,0); color:white'>Mystery</span> <span style='background-color:rgb(51,14,0); color:white'>Retro</span> <span style='background-color:rgb(39,15,0); color:white'>Platformer</span> <span style='background-color:rgb(50,14,0); color:white'>2D</span> <span style='background-color:rgb(35,16,0); color:white'>Pixel Graphics</span> <span style='background-color:rgb(47,14,0); color:white'>Casual</span> <span style='background-color:rgb(34,16,0); color:white'>Arcade</span> <span style='background-color:rgb(49,14,0); color:white'>Adventure</span> <span style='background-color:rgb(49,14,0); color:white'>Action</span> <span style='background-color:rgb(40,15,0); color:white'>Action-Adventure</span> <span style='background-color:rgb(178,0,0); color:white'>Cute</span> "
      ],
      "text/plain": [
       "<IPython.core.display.HTML object>"
      ]
     },
     "metadata": {},
     "output_type": "display_data"
    },
    {
     "data": {
      "text/html": [
       "['Action', 'Casual', '2D', 'Cute', 'Mystery']:<br><span style='background-color:rgb(33,16,0); color:white'>Singleplayer</span> <span style='background-color:rgb(66,12,0); color:white'>Atmospheric</span> <span style='background-color:rgb(57,13,0); color:white'>Indie</span> <span style='background-color:rgb(74,11,0); color:white'>Exploration</span> <span style='background-color:rgb(65,12,0); color:white'>Relaxing</span> <span style='background-color:rgb(178,0,0); color:white'>Mystery</span> <span style='background-color:rgb(51,14,0); color:white'>Retro</span> <span style='background-color:rgb(36,15,0); color:white'>Platformer</span> <span style='background-color:rgb(58,13,0); color:white'>2D</span> <span style='background-color:rgb(19,17,0); color:white'>Pixel Graphics</span> <span style='background-color:rgb(55,13,0); color:white'>Casual</span> <span style='background-color:rgb(52,14,0); color:white'>Arcade</span> <span style='background-color:rgb(81,10,0); color:white'>Adventure</span> <span style='background-color:rgb(64,12,0); color:white'>Action</span> <span style='background-color:rgb(60,13,0); color:white'>Action-Adventure</span> <span style='background-color:rgb(52,14,0); color:white'>Cute</span> "
      ],
      "text/plain": [
       "<IPython.core.display.HTML object>"
      ]
     },
     "metadata": {},
     "output_type": "display_data"
    }
   ],
   "source": [
    "engine.show_results(query_tag_list, soft_raw_scores, soft_filter_results[result_index], visualization_type='raw', power=0.4, title=f'{query_tag_list}', visualize=True, return_html=False)\n",
    "print()\n",
    "engine.show_results(query_tag_list, hard_raw_scores, hard_filter_results[result_index], visualization_type='raw', power=0.6, title=f'{query_tag_list}', visualize=True, return_html=False)"
   ]
  }
 ],
 "metadata": {
  "kernelspec": {
   "display_name": "SIMTAG",
   "language": "python",
   "name": "python3"
  },
  "language_info": {
   "codemirror_mode": {
    "name": "ipython",
    "version": 3
   },
   "file_extension": ".py",
   "mimetype": "text/x-python",
   "name": "python",
   "nbconvert_exporter": "python",
   "pygments_lexer": "ipython3",
   "version": "3.12.5"
  }
 },
 "nbformat": 4,
 "nbformat_minor": 2
}

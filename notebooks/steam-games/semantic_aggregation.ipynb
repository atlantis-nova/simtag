{
 "cells": [
  {
   "cell_type": "markdown",
   "metadata": {},
   "source": [
    "### semantic aggregation\n",
    "\n",
    "The following code shows a commmon issue with current encoders. A piece of text is composed of separable semantic components (commonly know as tags/labels).\n",
    "Ex. \"A fantasy-shooter game that allows for co-op multiplayer, and woman lead\" -> fantasy, shooter, co-op multiplayer, woman lead\n",
    "\n",
    "However, current encoders, while maintaining intact the overall semantic structure of the corpus, are unable to segregate between different semantic values.\n",
    "Simply, when performing a semantic search, the samples are retrieved **considering all semantic components at once**: this can be defined as **search noise**."
   ]
  },
  {
   "cell_type": "code",
   "execution_count": 3,
   "metadata": {},
   "outputs": [
    {
     "name": "stderr",
     "output_type": "stream",
     "text": [
      "100%|██████████| 446/446 [00:07<00:00, 58.97it/s]\n"
     ]
    }
   ],
   "source": [
    "import pandas as pd\n",
    "from tqdm import tqdm\n",
    "from sentence_transformers import SentenceTransformer\n",
    "from sklearn.neighbors import NearestNeighbors\n",
    "tqdm.pandas()\n",
    "\n",
    "model = SentenceTransformer('all-MiniLM-L6-v2', device='cpu') #all-MiniLM-L6-v2 #all-mpnet-base-v2\n",
    "\n",
    "# encode tags\n",
    "df_tags = pd.read_parquet('M.parquet')\n",
    "df_tags['vector_tags'] = df_tags['tags'].progress_apply(lambda x : model.encode(x))\n",
    "\n",
    "# search for closest tags\n",
    "def find_similar(text):\n",
    "\tnbrs_tags = NearestNeighbors(n_neighbors=10, metric='cosine').fit(df_tags['vector_tags'].tolist())\n",
    "\tdistances, indices = nbrs_tags.kneighbors([model.encode(text)])\n",
    "\treturn df_tags['tags'].iloc[indices[0]].tolist()"
   ]
  },
  {
   "cell_type": "markdown",
   "metadata": {},
   "source": [
    "One clear example of this search:\n",
    "\"A fantasy-shooter game that allows for co-op multiplayer, and woman lead\", it only returns **a list of single semantic component**."
   ]
  },
  {
   "cell_type": "code",
   "execution_count": 4,
   "metadata": {},
   "outputs": [
    {
     "data": {
      "text/plain": [
       "['MMORPG',\n",
       " 'Action RPG',\n",
       " 'RPG',\n",
       " 'Multiplayer',\n",
       " 'Party-Based RPG',\n",
       " 'Strategy RPG',\n",
       " 'Tactical RPG',\n",
       " 'Co-op Campaign',\n",
       " 'Massively Multiplayer',\n",
       " 'Character Action Game']"
      ]
     },
     "execution_count": 4,
     "metadata": {},
     "output_type": "execute_result"
    }
   ],
   "source": [
    "find_similar('A fantasy-shooter game that allows for co-op multiplayer, and woman lead')"
   ]
  },
  {
   "cell_type": "markdown",
   "metadata": {},
   "source": [
    "As we can see, if we try to manually remove the found semantic compoent, by semantic similarity, we can find the closest one, and so on:"
   ]
  },
  {
   "cell_type": "code",
   "execution_count": 5,
   "metadata": {},
   "outputs": [
    {
     "data": {
      "text/plain": [
       "['Third-Person Shooter',\n",
       " 'Shooter',\n",
       " 'Strategy RPG',\n",
       " 'MMORPG',\n",
       " 'RPG',\n",
       " 'Fantasy',\n",
       " 'Action RPG',\n",
       " 'Arena Shooter',\n",
       " 'Tactical RPG',\n",
       " 'RPGMaker']"
      ]
     },
     "execution_count": 5,
     "metadata": {},
     "output_type": "execute_result"
    }
   ],
   "source": [
    "find_similar('A fantasy-shooter game, and woman lead')\n",
    "# -> Shooter"
   ]
  },
  {
   "cell_type": "code",
   "execution_count": 6,
   "metadata": {},
   "outputs": [
    {
     "data": {
      "text/plain": [
       "['Fantasy',\n",
       " 'Strategy RPG',\n",
       " 'Dark Fantasy',\n",
       " 'RPG',\n",
       " 'Female Protagonist',\n",
       " 'Action RPG',\n",
       " 'Character Action Game',\n",
       " 'MMORPG',\n",
       " 'RPGMaker',\n",
       " 'Party-Based RPG']"
      ]
     },
     "execution_count": 6,
     "metadata": {},
     "output_type": "execute_result"
    }
   ],
   "source": [
    "find_similar('A fantasy game, and woman lead')\n",
    "# -> Fantasy"
   ]
  },
  {
   "cell_type": "code",
   "execution_count": 7,
   "metadata": {},
   "outputs": [
    {
     "data": {
      "text/plain": [
       "['Female Protagonist',\n",
       " 'Third Person',\n",
       " 'Runner',\n",
       " 'Third-Person Shooter',\n",
       " 'Turn-Based Tactics',\n",
       " 'Turn-Based',\n",
       " 'Boss Rush',\n",
       " 'First-Person',\n",
       " 'RPGMaker',\n",
       " 'Action']"
      ]
     },
     "execution_count": 7,
     "metadata": {},
     "output_type": "execute_result"
    }
   ],
   "source": [
    "find_similar('woman lead')\n",
    "# -> Female Protagonist"
   ]
  }
 ],
 "metadata": {
  "kernelspec": {
   "display_name": "env1",
   "language": "python",
   "name": "python3"
  },
  "language_info": {
   "codemirror_mode": {
    "name": "ipython",
    "version": 3
   },
   "file_extension": ".py",
   "mimetype": "text/x-python",
   "name": "python",
   "nbconvert_exporter": "python",
   "pygments_lexer": "ipython3",
   "version": "3.12.3"
  }
 },
 "nbformat": 4,
 "nbformat_minor": 2
}

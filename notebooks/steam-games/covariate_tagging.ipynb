{
 "cells": [
  {
   "cell_type": "code",
   "execution_count": 1,
   "metadata": {},
   "outputs": [
    {
     "name": "stdout",
     "output_type": "stream",
     "text": [
      "WARNING:tensorflow:From c:\\Users\\ardit\\miniconda3\\envs\\env1\\Lib\\site-packages\\tf_keras\\src\\losses.py:2976: The name tf.losses.sparse_softmax_cross_entropy is deprecated. Please use tf.compat.v1.losses.sparse_softmax_cross_entropy instead.\n",
      "\n"
     ]
    }
   ],
   "source": [
    "import os\n",
    "import warnings\n",
    "\n",
    "# move directory to the root of this repo\n",
    "os.chdir('\\\\'.join(os.getcwd().split('\\\\')[:-2]))\n",
    "warnings.simplefilter(\"ignore\")\n",
    "\n",
    "import pandas as pd\n",
    "import numpy as np\n",
    "from simtag.filter import simtag_filter\n",
    "from sklearn.neighbors import NearestNeighbors"
   ]
  },
  {
   "cell_type": "code",
   "execution_count": 2,
   "metadata": {},
   "outputs": [],
   "source": [
    "# import raw data\n",
    "df = pd.read_parquet('notebooks/steam-games/games.parquet').dropna()\n",
    "df['Tags'] = df['Tags'].apply(lambda x : x.split(','))\n",
    "df['Genres'] = df['Genres'].apply(lambda x : x.split(','))\n",
    "df = df.drop(['game_vector', 'game_indices', 'Score', 'Recommendations'], axis=1)\n",
    "\n",
    "# extract raw lists\n",
    "sample_list = df['Tags'].values.tolist()"
   ]
  },
  {
   "cell_type": "code",
   "execution_count": 3,
   "metadata": {},
   "outputs": [],
   "source": [
    "# initiate engine\n",
    "engine = simtag_filter(\n",
    "    sample_list=sample_list,\n",
    "    model_name='sentence-transformers/all-MiniLM-L6-v2'\n",
    ")\n",
    "tag2index, indexed_sample_list = engine.index_samples(sample_list)"
   ]
  },
  {
   "cell_type": "code",
   "execution_count": 7,
   "metadata": {},
   "outputs": [
    {
     "name": "stderr",
     "output_type": "stream",
     "text": [
      "100%|██████████| 446/446 [00:10<00:00, 43.13it/s]\n"
     ]
    }
   ],
   "source": [
    "# if not existing, compute M\n",
    "M, df_M = engine.compute_M(method='encoding')\n",
    "# df_M.to_parquet('notebooks/steam-games/M.parquet')\n",
    "\n",
    "# if existing, load M\n",
    "# df_M = pd.read_parquet('notebooks/steam-games/M.parquet')"
   ]
  },
  {
   "cell_type": "code",
   "execution_count": 5,
   "metadata": {},
   "outputs": [],
   "source": [
    "engine.load_M(df_M, covariate_transformation='dot_product')"
   ]
  },
  {
   "cell_type": "code",
   "execution_count": 8,
   "metadata": {},
   "outputs": [
    {
     "name": "stderr",
     "output_type": "stream",
     "text": [
      "processing samples: 100%|██████████| 41895/41895 [00:08<00:00, 4874.97it/s]\n"
     ]
    }
   ],
   "source": [
    "# prepare search\n",
    "sample_vectors = engine.encode_samples(sample_list)\n",
    "nbrs = engine.compute_nbrs(sample_vectors, k=50)"
   ]
  },
  {
   "cell_type": "markdown",
   "metadata": {},
   "source": [
    "### covariate tagging"
   ]
  },
  {
   "cell_type": "code",
   "execution_count": 23,
   "metadata": {},
   "outputs": [
    {
     "name": "stdout",
     "output_type": "stream",
     "text": [
      "Play as an Invader of Earth facing off against hordes of Ghosts in this wave-based First Person Shooter. Choose your\n",
      "upgrades, from Portable Nuke Launchers and Giant Robots to fight by your side to UFOs that fly around blasting through\n",
      "ghosts! EPIC BOSS FIGHTS! SUMMON MINIONS TO FIGHT FOR YOU! PLAY WITH DIFFERENT CLASSES AND UPGRADES! In Early Access I\n",
      "plan to add new upgrade paths/classes, bosses/enemies, maps, game modes, achievements and multiplayer so you can play\n",
      "with others!\n",
      "\n",
      "EXECUTION_TIME 0.3599\n"
     ]
    },
    {
     "data": {
      "text/plain": [
       "['Third-Person Shooter',\n",
       " 'Wargame',\n",
       " 'Demons',\n",
       " 'Early Access',\n",
       " 'Roguelike Deckbuilder',\n",
       " 'On-Rails Shooter',\n",
       " 'Post-apocalyptic']"
      ]
     },
     "execution_count": 23,
     "metadata": {},
     "output_type": "execute_result"
    }
   ],
   "source": [
    "from sentence_transformers.util import cos_sim\n",
    "from collections import Counter\n",
    "import random\n",
    "import time\n",
    "import textwrap\n",
    "\n",
    "def montecarlo_tagging(str1, top_tags=100, technique='scrolling_window', min_window=2, max_window=7, mc1=1000, top_mc1=20, score_threshold=0.01, verbose=False):\n",
    "\tstartTime = time.time()\n",
    "\tif verbose : print(textwrap.fill(str1, width=120))  # adjust the width to your liking\n",
    "\n",
    "\tbase_vector = engine.model.encode(str1)\n",
    "\tnbrs_tags = NearestNeighbors(n_neighbors=top_tags, metric='cosine').fit(df_M['vector_tags'].values.tolist())\n",
    "\tdistances, indices = nbrs_tags.kneighbors([base_vector])\n",
    "\tindices = indices[0].tolist()\n",
    "\ttop_tags = [engine.tag_list[x] for x in indices]\n",
    "\t# print(top_tags)\n",
    "\ttop_tags\n",
    "\n",
    "\tif technique == 'scrolling_window':\n",
    "\t\tmc = list()\n",
    "\t\tfor j in range(min_window, max_window+1):\n",
    "\t\t\tfor k in range(int(len(top_tags)/j)+1):\n",
    "\t\t\t\tranges = [k*j, (k+1)*j]\n",
    "\t\t\t\tchoice = top_tags[ranges[0]:ranges[1]]\n",
    "\t\t\t\tif len(choice) > 0:\n",
    "\t\t\t\t\tmc.append(choice)\n",
    "\t\tmc_encoded = engine.encode_samples(mc, quantize_samples=False, show_progress=False)\n",
    "\t\tnbrs_mc = NearestNeighbors(n_neighbors=top_mc1, metric='cosine').fit(mc_encoded)\n",
    "\t\tdistances, indices = nbrs_mc.kneighbors([engine.model.encode(str1)])\n",
    "\n",
    "\telif technique == 'monte_carlo':\n",
    "\t\tmc = [list(set(random.choices(top_tags, k=random.randint(min_window, max_window)))) for x in range(mc1)]\n",
    "\t\tmc_encoded = engine.encode_samples(mc, quantize_samples=False, show_progress=False)\n",
    "\t\tnbrs_mc = NearestNeighbors(n_neighbors=top_mc1, metric='cosine').fit(mc_encoded)\n",
    "\t\tdistances, indices = nbrs_mc.kneighbors([engine.model.encode(str1)])\n",
    "\n",
    "\tresults = [mc[x] for x in indices[0]]\n",
    "\ttop_tags = [x for xs in results for x in xs] # in case we want to pass it to the next monte-carlo\n",
    "\t# print(results[0:10])\n",
    "\n",
    "\ttag_freq = Counter(tag for game_tags in results for tag in game_tags)\n",
    "\ttag_freq = dict(tag_freq)\n",
    "\t# final_values = sorted([[sum([tag_freq[k] for k in x]), x] for x in results])[::-1][0][1]\n",
    "\t# final_values\n",
    "\n",
    "\ttop_m = sorted([[tag_freq[key], key] for index, key in enumerate(tag_freq)])[::-1]\n",
    "\t# print(top_m)\n",
    "\ttop_m = [x[1] for x in top_m]\n",
    "\tlen(top_m)\n",
    "\n",
    "\taccepted = list()\n",
    "\t#\n",
    "\tbest_selection_score = 0\n",
    "\tfor m in range(len(top_m)):\n",
    "\t\tbest_tag = ''\n",
    "\t\tscore = 0\n",
    "\t\tfor k in top_m:\n",
    "\t\t\tif k not in accepted:\n",
    "\t\t\t\titeration = accepted + [k]\n",
    "\t\t\t\tvector_iteration = engine.encode_samples([iteration], quantize_samples=False, show_progress=False)[0]\n",
    "\t\t\t\tbase_vector = base_vector.astype(vector_iteration.dtype)  # cast m2 to match m1's dtype\n",
    "\t\t\t\tvector_score = cos_sim(base_vector, vector_iteration).tolist()[0][0]\n",
    "\t\t\t\tif vector_score > score:\n",
    "\t\t\t\t\tscore = vector_score\n",
    "\t\t\t\t\tbest_tag = k\n",
    "\t\t\t\telse:\n",
    "\t\t\t\t\tpass\n",
    "\t\tsequence_score = score\n",
    "\t\t# print(sequence_score, best_selection_score, accepted)\n",
    "\t\taccepted.append(best_tag)\n",
    "\n",
    "\t\tif sequence_score > best_selection_score and m > 0 and ((sequence_score-best_selection_score)/best_selection_score) > score_threshold:\n",
    "\t\t\tbest_selection_score = sequence_score\n",
    "\t\telif m == 0:\n",
    "\t\t\tbest_selection_score = sequence_score\n",
    "\t\telse:\n",
    "\t\t\t# print(sequence_score, best_selection_score, 'BREAK', accepted)\n",
    "\t\t\tbreak\n",
    "\t\t\t# pass\n",
    "\n",
    "\tendTime = time.time()\n",
    "\thowMuchTime = endTime - startTime\n",
    "\n",
    "\tif verbose : print('\\nEXECUTION_TIME', round(howMuchTime, 4))\n",
    "\n",
    "\treturn accepted\n",
    "\n",
    "accepted = montecarlo_tagging(df['About the game'][95], top_tags=100, technique='scrolling_window', min_window=5, max_window=7, mc1=100, top_mc1=20, score_threshold=0.01, verbose=True)\n",
    "accepted"
   ]
  }
 ],
 "metadata": {
  "kernelspec": {
   "display_name": "env1",
   "language": "python",
   "name": "python3"
  },
  "language_info": {
   "codemirror_mode": {
    "name": "ipython",
    "version": 3
   },
   "file_extension": ".py",
   "mimetype": "text/x-python",
   "name": "python",
   "nbconvert_exporter": "python",
   "pygments_lexer": "ipython3",
   "version": "3.11.9"
  }
 },
 "nbformat": 4,
 "nbformat_minor": 2
}

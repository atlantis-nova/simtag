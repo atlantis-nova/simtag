{
 "cells": [
  {
   "cell_type": "code",
   "execution_count": 1,
   "metadata": {},
   "outputs": [
    {
     "name": "stdout",
     "output_type": "stream",
     "text": [
      "WARNING:tensorflow:From c:\\Users\\ardit\\miniconda3\\envs\\env1\\Lib\\site-packages\\tf_keras\\src\\losses.py:2976: The name tf.losses.sparse_softmax_cross_entropy is deprecated. Please use tf.compat.v1.losses.sparse_softmax_cross_entropy instead.\n",
      "\n"
     ]
    }
   ],
   "source": [
    "import os\n",
    "import warnings\n",
    "\n",
    "# move directory to the root of this repo\n",
    "os.chdir('\\\\'.join(os.getcwd().split('\\\\')[:-2]))\n",
    "warnings.simplefilter(\"ignore\")\n",
    "\n",
    "import pandas as pd\n",
    "import numpy as np\n",
    "from simtag.filter import simtag_filter\n",
    "from sklearn.neighbors import NearestNeighbors"
   ]
  },
  {
   "cell_type": "code",
   "execution_count": 2,
   "metadata": {},
   "outputs": [],
   "source": [
    "# import raw data\n",
    "df = pd.read_parquet('notebooks/steam-games/games.parquet').dropna()\n",
    "df['Tags'] = df['Tags'].apply(lambda x : x.split(','))\n",
    "df['Genres'] = df['Genres'].apply(lambda x : x.split(','))\n",
    "df = df.drop(['game_vector', 'game_indices', 'Score', 'Recommendations'], axis=1)\n",
    "\n",
    "# extract raw lists\n",
    "sample_list = df['Tags'].values.tolist()"
   ]
  },
  {
   "cell_type": "code",
   "execution_count": 3,
   "metadata": {},
   "outputs": [],
   "source": [
    "# initiate engine\n",
    "engine = simtag_filter(\n",
    "\tsample_list=sample_list,\n",
    "\tmodel_name='sentence-transformers/all-MiniLM-L6-v2'\n",
    ")"
   ]
  },
  {
   "cell_type": "code",
   "execution_count": 4,
   "metadata": {},
   "outputs": [
    {
     "name": "stderr",
     "output_type": "stream",
     "text": [
      "100%|██████████| 446/446 [00:08<00:00, 52.48it/s]\n"
     ]
    }
   ],
   "source": [
    "M, valid_tags, tag_pointers = engine.compute_optimal_M()\n",
    "engine.load_M(M, tag_pointers, covariate_transformation='dot_product')"
   ]
  },
  {
   "cell_type": "markdown",
   "metadata": {},
   "source": [
    "# dot_product"
   ]
  },
  {
   "cell_type": "code",
   "execution_count": 5,
   "metadata": {},
   "outputs": [
    {
     "name": "stderr",
     "output_type": "stream",
     "text": [
      "processing samples: 100%|██████████| 41895/41895 [00:26<00:00, 1565.39it/s]\n"
     ]
    }
   ],
   "source": [
    "# prepare search\n",
    "sample_vectors = engine.encode_samples(sample_list)\n",
    "index_covariate = engine.compute_search_indexes(sample_vectors, k=5)"
   ]
  },
  {
   "cell_type": "markdown",
   "metadata": {},
   "source": [
    "### covariate search"
   ]
  },
  {
   "cell_type": "code",
   "execution_count": 6,
   "metadata": {},
   "outputs": [
    {
     "name": "stdout",
     "output_type": "stream",
     "text": [
      "Dark Fantasy1 -> ['Dark Fantasy']\n",
      "['RPG', 'Modern', 'Shooter', 'Top-Down Shooter', 'CRPG', 'Hero Shooter', '3D', '3D Vision', 'Third Person', 'Mechs', 'Action RPG', 'Sci-fi', 'Cyberpunk', 'Surreal', 'Dark', 'Story Rich', 'Linear', 'Female Protagonist', 'Combat', 'PvE']\n",
      "['Action', 'RPG', 'Action RPG', 'Shooter', 'Dungeon Crawler', 'Exploration', 'Looter Shooter', 'Third Person', 'Aliens', 'Cyberpunk', 'Dark', 'Futuristic', 'Horror', 'Post-apocalyptic', 'Robots', 'Sci-fi', 'Combat', 'Singleplayer', 'Early Access']\n",
      "['RPG', 'Action', 'Adventure', 'Indie', 'Dark Fantasy', 'Isometric', 'Fantasy', 'Hack and Slash', 'Action RPG', 'Dungeon Crawler', 'Visual Novel', 'Gore', 'Dystopian', 'Narration', \"Shoot 'Em Up\", 'Arena Shooter', 'Shooter', 'Third-Person Shooter']\n",
      "['Early Access', 'Top-Down Shooter', 'Shooter', 'Realistic', 'Sci-fi', 'Rogue-like', 'Action', 'Post-apocalyptic', 'Resource Management', 'Action RPG', 'Third-Person Shooter', 'Bullet Hell', 'Third Person', 'Aliens', 'Futuristic', 'Military', 'Story Rich', 'Combat', 'Conversation', 'RPG']\n",
      "['Anime', 'Third-Person Shooter', 'Female Protagonist', 'Shooter', 'Sexual Content', 'Third Person', '3D', 'Demons', 'Zombies', 'Action', 'Dark Fantasy', 'Fantasy', 'Atmospheric', 'Arena Shooter', 'Survival', 'Adventure', 'Singleplayer', 'Physics', 'RPG', 'Casual']\n"
     ]
    }
   ],
   "source": [
    "query_tag_list = [ 'Shooter', 'Dark Fantasy1', 'Sci-fi']\n",
    "indices, search_results = engine.covariate_search(index_covariate, sample_list, query_tag_list=query_tag_list, allow_new_tags=True, print_new_tags=True, k=3)\n",
    "for k in search_results:\n",
    "\tprint(k)"
   ]
  },
  {
   "cell_type": "code",
   "execution_count": 7,
   "metadata": {},
   "outputs": [
    {
     "name": "stdout",
     "output_type": "stream",
     "text": [
      "['Adventure', 'Action', 'Simulation', 'Open World', 'Survival', 'Voxel', 'Sci-fi', 'Early Access']\n",
      "['Open World Survival Craft', 'Adventure', 'Indie', 'Building', 'Open World', 'Sandbox', 'Survival', 'Singleplayer', 'Crafting', 'Exploration', 'Level Editor', 'Atmospheric', 'Pixel Graphics', 'Multiplayer', 'Voxel']\n",
      "['Action', 'Simulation', 'Sandbox', 'Strategy', 'Indie', 'Open World', 'Voxel', 'Multiplayer', 'City Builder', 'Building']\n",
      "['Action', 'Indie', 'Simulation', 'Adventure', 'Space', 'Sandbox', 'Building', 'Sci-fi', 'Early Access', 'Open World', 'Voxel', 'Futuristic', 'Multiplayer', 'Space Sim', 'Physics']\n",
      "['Puzzle', 'Physics', '3D', 'Exploration', 'Point & Click', 'Retro', 'Open World', 'Indie', 'Building', 'Colorful', 'Singleplayer', 'Puzzle-Platformer', 'Cartoony', 'Voxel', 'Old School', 'Pixel Graphics']\n"
     ]
    }
   ],
   "source": [
    "query_tag_dict = {\n",
    "\t'Voxel' : 0.8,\n",
    "\t'Shooter' : 0.2,\n",
    "\t'Open World' : 0.6,\n",
    "}\n",
    "indices, search_results = engine.covariate_search(index_covariate, sample_list, query_tag_dict=query_tag_dict, allow_new_tags=True, print_new_tags=True, k=3)\n",
    "for k in search_results:\n",
    "\tprint(k)"
   ]
  }
 ],
 "metadata": {
  "kernelspec": {
   "display_name": "env1",
   "language": "python",
   "name": "python3"
  },
  "language_info": {
   "codemirror_mode": {
    "name": "ipython",
    "version": 3
   },
   "file_extension": ".py",
   "mimetype": "text/x-python",
   "name": "python",
   "nbconvert_exporter": "python",
   "pygments_lexer": "ipython3",
   "version": "3.11.9"
  }
 },
 "nbformat": 4,
 "nbformat_minor": 2
}

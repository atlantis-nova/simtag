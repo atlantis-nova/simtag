{
 "cells": [
  {
   "cell_type": "code",
   "execution_count": 1,
   "metadata": {},
   "outputs": [
    {
     "name": "stdout",
     "output_type": "stream",
     "text": [
      "WARNING:tensorflow:From c:\\Users\\ardit\\miniconda3\\envs\\env1\\Lib\\site-packages\\tf_keras\\src\\losses.py:2976: The name tf.losses.sparse_softmax_cross_entropy is deprecated. Please use tf.compat.v1.losses.sparse_softmax_cross_entropy instead.\n",
      "\n"
     ]
    }
   ],
   "source": [
    "import os\n",
    "import warnings\n",
    "\n",
    "# move directory to the root of this repo\n",
    "os.chdir('\\\\'.join(os.getcwd().split('\\\\')[:-2]))\n",
    "warnings.simplefilter(\"ignore\")\n",
    "\n",
    "import pandas as pd\n",
    "import numpy as np\n",
    "from simtag.filter import simtag_filter\n",
    "from sklearn.neighbors import NearestNeighbors\n",
    "from sentence_transformers import SentenceTransformer"
   ]
  },
  {
   "cell_type": "code",
   "execution_count": 2,
   "metadata": {},
   "outputs": [],
   "source": [
    "# import raw data\n",
    "df = pd.read_parquet('notebooks/steam-games/games.parquet').dropna()\n",
    "df['Tags'] = df['Tags'].apply(lambda x : x.split(','))\n",
    "df['Genres'] = df['Genres'].apply(lambda x : x.split(','))\n",
    "df = df.drop(['game_vector', 'game_indices', 'Score', 'Recommendations'], axis=1)\n",
    "\n",
    "# extract raw lists\n",
    "sample_list = df['Tags'].values.tolist()"
   ]
  },
  {
   "cell_type": "code",
   "execution_count": 3,
   "metadata": {},
   "outputs": [],
   "source": [
    "# we instatiate the model first, so we can assign it to multiple copies of the engine\n",
    "model = SentenceTransformer('sentence-transformers/all-MiniLM-L6-v2', device='cpu')\n",
    "\n",
    "# initiate engine\n",
    "engine = simtag_filter(\n",
    "\tmodel=model\n",
    ")"
   ]
  },
  {
   "cell_type": "code",
   "execution_count": 4,
   "metadata": {},
   "outputs": [
    {
     "name": "stderr",
     "output_type": "stream",
     "text": [
      "100%|██████████| 446/446 [00:07<00:00, 57.26it/s]\n"
     ]
    }
   ],
   "source": [
    "M, valid_tags, pointers = engine.compute_optimal_M(sample_list)\n",
    "engine.load_M(M, pointers, covariate_transformation='dot_product')"
   ]
  },
  {
   "cell_type": "markdown",
   "metadata": {},
   "source": [
    "# dot_product"
   ]
  },
  {
   "cell_type": "code",
   "execution_count": 5,
   "metadata": {},
   "outputs": [
    {
     "name": "stderr",
     "output_type": "stream",
     "text": [
      "processing samples: 100%|██████████| 41895/41895 [00:24<00:00, 1690.97it/s]\n"
     ]
    }
   ],
   "source": [
    "# prepare search\n",
    "sample_vectors = engine.encode_samples(sample_list, quantize_samples=True, quantization_left_percentile=1)\n",
    "index_covariate = engine.compute_search_indexes(sample_vectors, k=10)"
   ]
  },
  {
   "cell_type": "code",
   "execution_count": 6,
   "metadata": {},
   "outputs": [
    {
     "name": "stdout",
     "output_type": "stream",
     "text": [
      "Scifi -> ['Sci-fi']\n",
      "['Indie', 'Horror', 'Dystopian', 'Psychological Horror', 'Sci-fi', 'Survival Horror']\n",
      "['Adventure', 'VR', 'Horror', 'Sci-fi', 'Mystery']\n",
      "['Indie', 'Horror', 'Sci-fi', 'Survival Horror', 'Stealth', 'Atmospheric']\n",
      "['Indie', 'Strategy', 'Horror', 'First-Person', 'Survival Horror', 'Thriller', 'Singleplayer', 'Psychological Horror', 'Sci-fi', 'Futuristic']\n",
      "['Action', 'Indie', 'Adventure', 'Retro', 'Horror', 'Open World', 'Psychological Horror', 'Sci-fi', 'Survival Horror', 'Colorful', 'Pixel Graphics', 'Space Sim']\n",
      "['Horror', 'Nudity', 'Gore', 'Action', 'Adventure', 'Violent', 'Indie', 'Survival Horror', 'Sci-fi', 'FPS']\n",
      "['Indie', 'Action', 'Adventure', 'RPG', 'Horror', 'Survival Horror', 'Story Rich', 'Singleplayer', 'Sci-fi', 'Psychological', 'Zombies']\n",
      "['Indie', 'Adventure', 'Horror', 'Survival Horror', 'Psychological Horror', 'First-Person']\n",
      "['Indie', 'Horror', 'Action', 'Adventure', 'Survival', 'Sci-fi', 'VR', 'FPS', 'Space', 'Survival Horror', 'Rogue-like']\n",
      "['Action', 'Indie', 'Horror', 'Psychological Horror', 'Survival Horror']\n"
     ]
    }
   ],
   "source": [
    "query_tag_list = ['Horror', 'Scifi']\n",
    "indices, search_results = engine.covariate_search(index_covariate, sample_list, query_tag_list=query_tag_list, allow_new_tags=True, print_new_tags=True, k=3)\n",
    "for k in search_results:\n",
    "\tprint(k)"
   ]
  },
  {
   "cell_type": "code",
   "execution_count": 7,
   "metadata": {},
   "outputs": [],
   "source": [
    "# store encoded samples\n",
    "# engine.npy_save(sample_vectors, 'notebooks/steam-games/samples_encoded')\n",
    "\n",
    "# retrieve encoded samples\n",
    "# sample_vectors = engine.npy_load('notebooks/steam-games/samples_encoded')"
   ]
  },
  {
   "cell_type": "markdown",
   "metadata": {},
   "source": [
    "### covariate search"
   ]
  },
  {
   "cell_type": "code",
   "execution_count": 8,
   "metadata": {},
   "outputs": [
    {
     "name": "stdout",
     "output_type": "stream",
     "text": [
      "['Indie', 'Adventure', 'Space', 'Sci-fi', 'Open World', 'Procedural Generation']\n",
      "['Space', 'Simulation', 'Indie', 'Action', 'Sandbox', 'Sci-fi', 'Singleplayer', 'Building', 'Space Sim', 'Adventure', 'Early Access', 'Open World']\n",
      "['Adventure', '2D', 'Indie', 'Singleplayer', 'Pixel Graphics', 'Simulation', 'Runner', 'Hidden Object', 'Voxel', 'Magic', 'Atmospheric', 'Exploration']\n",
      "['Action', 'Indie', 'Multiplayer', 'Voxel']\n",
      "['Action', 'Simulation', 'Open World', '3D', 'First-Person', 'Singleplayer']\n",
      "['Action', 'FPS', 'Singleplayer', 'First-Person', 'Shooter', 'Fast-Paced', 'Open World', 'Old School', '3D', 'Aliens', 'Mars']\n",
      "['Strategy', 'Indie', 'Voxel', 'City Builder', 'God Game']\n",
      "['Visual Novel', 'Parkour', 'Multiple Endings', 'Voxel', 'Adventure', 'Singleplayer', 'Indie']\n",
      "['Action', 'Adventure', 'Platformer', 'Pixel Graphics', 'Voxel']\n",
      "['Simulation', 'Indie', 'Open World', 'Sandbox', 'Flight']\n"
     ]
    }
   ],
   "source": [
    "query_tag_dict = {\n",
    "\t'Voxel' : 0.8,\n",
    "\t'Shooter' : 0.2,\n",
    "\t'Open World' : 0.6,\n",
    "}\n",
    "indices, search_results = engine.covariate_search(index_covariate, sample_list, query_tag_dict=query_tag_dict, allow_new_tags=True, print_new_tags=True, k=3)\n",
    "for k in search_results:\n",
    "\tprint(k)"
   ]
  }
 ],
 "metadata": {
  "kernelspec": {
   "display_name": "env1",
   "language": "python",
   "name": "python3"
  },
  "language_info": {
   "codemirror_mode": {
    "name": "ipython",
    "version": 3
   },
   "file_extension": ".py",
   "mimetype": "text/x-python",
   "name": "python",
   "nbconvert_exporter": "python",
   "pygments_lexer": "ipython3",
   "version": "3.11.9"
  }
 },
 "nbformat": 4,
 "nbformat_minor": 2
}

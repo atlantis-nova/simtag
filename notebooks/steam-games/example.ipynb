{
 "cells": [
  {
   "cell_type": "markdown",
   "metadata": {},
   "source": [
    "https://www.kaggle.com/datasets/fronkongames/steam-games-dataset"
   ]
  },
  {
   "cell_type": "code",
   "execution_count": 1,
   "metadata": {},
   "outputs": [],
   "source": [
    "import os\n",
    "import warnings\n",
    "\n",
    "# move directory to the root of this repo\n",
    "os.chdir('\\\\'.join(os.getcwd().split('\\\\')[:-2]))\n",
    "warnings.simplefilter(\"ignore\")\n",
    "\n",
    "import pandas as pd\n",
    "from simtag.filter import simtag_filter"
   ]
  },
  {
   "cell_type": "markdown",
   "metadata": {},
   "source": [
    "# setup the library"
   ]
  },
  {
   "cell_type": "markdown",
   "metadata": {},
   "source": [
    "### import data"
   ]
  },
  {
   "cell_type": "code",
   "execution_count": 2,
   "metadata": {},
   "outputs": [],
   "source": [
    "# import raw data\n",
    "df = pd.read_parquet('notebooks/steam-games/games.parquet').dropna()\n",
    "df['Tags'] = df['Tags'].apply(lambda x : x.split(','))\n",
    "df['Genres'] = df['Genres'].apply(lambda x : x.split(','))\n",
    "df = df.drop(['game_vector', 'game_indices', 'Score', 'Recommendations'], axis=1)\n",
    "\n",
    "# extract raw lists\n",
    "sample_list = df['Tags'].values.tolist()"
   ]
  },
  {
   "cell_type": "markdown",
   "metadata": {},
   "source": [
    "### process data"
   ]
  },
  {
   "cell_type": "code",
   "execution_count": 3,
   "metadata": {},
   "outputs": [],
   "source": [
    "# initiate recommender\n",
    "engine = simtag_filter(\n",
    "    sample_list=sample_list, \n",
    "    covariate_vector_length=446, \n",
    "    model_name='sentence-transformers/all-MiniLM-L6-v2'\n",
    ")"
   ]
  },
  {
   "cell_type": "code",
   "execution_count": 4,
   "metadata": {},
   "outputs": [],
   "source": [
    "# if not existing, compute M\n",
    "# M, df_M = engine.compute_M(method='co-occurrence')\n",
    "# df_M.to_parquet('notebooks/steam-games/M.parquet')\n",
    "\n",
    "# if existing, load M\n",
    "df_M = pd.read_parquet('notebooks/steam-games/M.parquet')\n",
    "engine.load_M(df_M)"
   ]
  },
  {
   "cell_type": "code",
   "execution_count": 5,
   "metadata": {},
   "outputs": [
    {
     "data": {
      "text/html": [
       "<div>\n",
       "<style scoped>\n",
       "    .dataframe tbody tr th:only-of-type {\n",
       "        vertical-align: middle;\n",
       "    }\n",
       "\n",
       "    .dataframe tbody tr th {\n",
       "        vertical-align: top;\n",
       "    }\n",
       "\n",
       "    .dataframe thead th {\n",
       "        text-align: right;\n",
       "    }\n",
       "</style>\n",
       "<table border=\"1\" class=\"dataframe\">\n",
       "  <thead>\n",
       "    <tr style=\"text-align: right;\">\n",
       "      <th></th>\n",
       "      <th>1980s</th>\n",
       "      <th>1990's</th>\n",
       "      <th>2.5D</th>\n",
       "      <th>2D</th>\n",
       "      <th>2D Fighter</th>\n",
       "      <th>2D Platformer</th>\n",
       "      <th>360 Video</th>\n",
       "      <th>3D</th>\n",
       "      <th>3D Fighter</th>\n",
       "      <th>3D Platformer</th>\n",
       "      <th>...</th>\n",
       "      <th>Well-Written</th>\n",
       "      <th>Werewolves</th>\n",
       "      <th>Western</th>\n",
       "      <th>Wholesome</th>\n",
       "      <th>Word Game</th>\n",
       "      <th>World War I</th>\n",
       "      <th>World War II</th>\n",
       "      <th>Wrestling</th>\n",
       "      <th>Zombies</th>\n",
       "      <th>e-sports</th>\n",
       "    </tr>\n",
       "  </thead>\n",
       "  <tbody>\n",
       "    <tr>\n",
       "      <th>1980s</th>\n",
       "      <td>1.000000</td>\n",
       "      <td>0.144844</td>\n",
       "      <td>0.016615</td>\n",
       "      <td>0.039649</td>\n",
       "      <td>0.015748</td>\n",
       "      <td>0.050382</td>\n",
       "      <td>0.0</td>\n",
       "      <td>0.021869</td>\n",
       "      <td>0.008160</td>\n",
       "      <td>0.012099</td>\n",
       "      <td>...</td>\n",
       "      <td>0.001235</td>\n",
       "      <td>0.001149</td>\n",
       "      <td>0.004073</td>\n",
       "      <td>0.000000</td>\n",
       "      <td>0.018817</td>\n",
       "      <td>0.000000</td>\n",
       "      <td>0.001584</td>\n",
       "      <td>0.004785</td>\n",
       "      <td>0.007773</td>\n",
       "      <td>0.003690</td>\n",
       "    </tr>\n",
       "    <tr>\n",
       "      <th>1990's</th>\n",
       "      <td>0.144844</td>\n",
       "      <td>1.000000</td>\n",
       "      <td>0.045221</td>\n",
       "      <td>0.053253</td>\n",
       "      <td>0.018891</td>\n",
       "      <td>0.063454</td>\n",
       "      <td>0.0</td>\n",
       "      <td>0.033869</td>\n",
       "      <td>0.006061</td>\n",
       "      <td>0.017914</td>\n",
       "      <td>...</td>\n",
       "      <td>0.000000</td>\n",
       "      <td>0.001599</td>\n",
       "      <td>0.007364</td>\n",
       "      <td>0.000797</td>\n",
       "      <td>0.016734</td>\n",
       "      <td>0.001561</td>\n",
       "      <td>0.004268</td>\n",
       "      <td>0.002461</td>\n",
       "      <td>0.012529</td>\n",
       "      <td>0.009615</td>\n",
       "    </tr>\n",
       "    <tr>\n",
       "      <th>2.5D</th>\n",
       "      <td>0.016615</td>\n",
       "      <td>0.045221</td>\n",
       "      <td>1.000000</td>\n",
       "      <td>0.026592</td>\n",
       "      <td>0.048212</td>\n",
       "      <td>0.037666</td>\n",
       "      <td>0.0</td>\n",
       "      <td>0.019259</td>\n",
       "      <td>0.009491</td>\n",
       "      <td>0.028558</td>\n",
       "      <td>...</td>\n",
       "      <td>0.000000</td>\n",
       "      <td>0.001078</td>\n",
       "      <td>0.006750</td>\n",
       "      <td>0.001074</td>\n",
       "      <td>0.002517</td>\n",
       "      <td>0.003138</td>\n",
       "      <td>0.009153</td>\n",
       "      <td>0.001115</td>\n",
       "      <td>0.010724</td>\n",
       "      <td>0.014159</td>\n",
       "    </tr>\n",
       "    <tr>\n",
       "      <th>2D</th>\n",
       "      <td>0.039649</td>\n",
       "      <td>0.053253</td>\n",
       "      <td>0.026592</td>\n",
       "      <td>1.000000</td>\n",
       "      <td>0.031077</td>\n",
       "      <td>0.150200</td>\n",
       "      <td>0.0</td>\n",
       "      <td>0.015679</td>\n",
       "      <td>0.001001</td>\n",
       "      <td>0.004579</td>\n",
       "      <td>...</td>\n",
       "      <td>0.000093</td>\n",
       "      <td>0.001675</td>\n",
       "      <td>0.004433</td>\n",
       "      <td>0.002795</td>\n",
       "      <td>0.019035</td>\n",
       "      <td>0.001578</td>\n",
       "      <td>0.005589</td>\n",
       "      <td>0.001306</td>\n",
       "      <td>0.023439</td>\n",
       "      <td>0.004943</td>\n",
       "    </tr>\n",
       "    <tr>\n",
       "      <th>2D Fighter</th>\n",
       "      <td>0.015748</td>\n",
       "      <td>0.018891</td>\n",
       "      <td>0.048212</td>\n",
       "      <td>0.031077</td>\n",
       "      <td>1.000000</td>\n",
       "      <td>0.040374</td>\n",
       "      <td>0.0</td>\n",
       "      <td>0.004314</td>\n",
       "      <td>0.029299</td>\n",
       "      <td>0.003217</td>\n",
       "      <td>...</td>\n",
       "      <td>0.000000</td>\n",
       "      <td>0.001767</td>\n",
       "      <td>0.004418</td>\n",
       "      <td>0.000000</td>\n",
       "      <td>0.001202</td>\n",
       "      <td>0.001678</td>\n",
       "      <td>0.003132</td>\n",
       "      <td>0.017078</td>\n",
       "      <td>0.006889</td>\n",
       "      <td>0.056604</td>\n",
       "    </tr>\n",
       "    <tr>\n",
       "      <th>...</th>\n",
       "      <td>...</td>\n",
       "      <td>...</td>\n",
       "      <td>...</td>\n",
       "      <td>...</td>\n",
       "      <td>...</td>\n",
       "      <td>...</td>\n",
       "      <td>...</td>\n",
       "      <td>...</td>\n",
       "      <td>...</td>\n",
       "      <td>...</td>\n",
       "      <td>...</td>\n",
       "      <td>...</td>\n",
       "      <td>...</td>\n",
       "      <td>...</td>\n",
       "      <td>...</td>\n",
       "      <td>...</td>\n",
       "      <td>...</td>\n",
       "      <td>...</td>\n",
       "      <td>...</td>\n",
       "      <td>...</td>\n",
       "      <td>...</td>\n",
       "    </tr>\n",
       "    <tr>\n",
       "      <th>World War I</th>\n",
       "      <td>0.000000</td>\n",
       "      <td>0.001561</td>\n",
       "      <td>0.003138</td>\n",
       "      <td>0.001578</td>\n",
       "      <td>0.001678</td>\n",
       "      <td>0.000972</td>\n",
       "      <td>0.0</td>\n",
       "      <td>0.002617</td>\n",
       "      <td>0.002392</td>\n",
       "      <td>0.001351</td>\n",
       "      <td>...</td>\n",
       "      <td>0.000000</td>\n",
       "      <td>0.000000</td>\n",
       "      <td>0.003425</td>\n",
       "      <td>0.000000</td>\n",
       "      <td>0.000000</td>\n",
       "      <td>1.000000</td>\n",
       "      <td>0.055351</td>\n",
       "      <td>0.000000</td>\n",
       "      <td>0.001989</td>\n",
       "      <td>0.000000</td>\n",
       "    </tr>\n",
       "    <tr>\n",
       "      <th>World War II</th>\n",
       "      <td>0.001584</td>\n",
       "      <td>0.004268</td>\n",
       "      <td>0.009153</td>\n",
       "      <td>0.005589</td>\n",
       "      <td>0.003132</td>\n",
       "      <td>0.002068</td>\n",
       "      <td>0.0</td>\n",
       "      <td>0.009484</td>\n",
       "      <td>0.001279</td>\n",
       "      <td>0.001628</td>\n",
       "      <td>...</td>\n",
       "      <td>0.000000</td>\n",
       "      <td>0.000000</td>\n",
       "      <td>0.004587</td>\n",
       "      <td>0.000000</td>\n",
       "      <td>0.000000</td>\n",
       "      <td>0.055351</td>\n",
       "      <td>1.000000</td>\n",
       "      <td>0.000000</td>\n",
       "      <td>0.009693</td>\n",
       "      <td>0.001319</td>\n",
       "    </tr>\n",
       "    <tr>\n",
       "      <th>Wrestling</th>\n",
       "      <td>0.004785</td>\n",
       "      <td>0.002461</td>\n",
       "      <td>0.001115</td>\n",
       "      <td>0.001306</td>\n",
       "      <td>0.017078</td>\n",
       "      <td>0.000000</td>\n",
       "      <td>0.0</td>\n",
       "      <td>0.001982</td>\n",
       "      <td>0.031700</td>\n",
       "      <td>0.000704</td>\n",
       "      <td>...</td>\n",
       "      <td>0.000000</td>\n",
       "      <td>0.000000</td>\n",
       "      <td>0.000000</td>\n",
       "      <td>0.000000</td>\n",
       "      <td>0.000000</td>\n",
       "      <td>0.000000</td>\n",
       "      <td>0.000000</td>\n",
       "      <td>1.000000</td>\n",
       "      <td>0.000000</td>\n",
       "      <td>0.003003</td>\n",
       "    </tr>\n",
       "    <tr>\n",
       "      <th>Zombies</th>\n",
       "      <td>0.007773</td>\n",
       "      <td>0.012529</td>\n",
       "      <td>0.010724</td>\n",
       "      <td>0.023439</td>\n",
       "      <td>0.006889</td>\n",
       "      <td>0.011128</td>\n",
       "      <td>0.0</td>\n",
       "      <td>0.043820</td>\n",
       "      <td>0.008197</td>\n",
       "      <td>0.009424</td>\n",
       "      <td>...</td>\n",
       "      <td>0.000000</td>\n",
       "      <td>0.010232</td>\n",
       "      <td>0.006940</td>\n",
       "      <td>0.000000</td>\n",
       "      <td>0.001146</td>\n",
       "      <td>0.001989</td>\n",
       "      <td>0.009693</td>\n",
       "      <td>0.000000</td>\n",
       "      <td>1.000000</td>\n",
       "      <td>0.001179</td>\n",
       "    </tr>\n",
       "    <tr>\n",
       "      <th>e-sports</th>\n",
       "      <td>0.003690</td>\n",
       "      <td>0.009615</td>\n",
       "      <td>0.014159</td>\n",
       "      <td>0.004943</td>\n",
       "      <td>0.056604</td>\n",
       "      <td>0.005372</td>\n",
       "      <td>0.0</td>\n",
       "      <td>0.019861</td>\n",
       "      <td>0.035897</td>\n",
       "      <td>0.012129</td>\n",
       "      <td>...</td>\n",
       "      <td>0.000000</td>\n",
       "      <td>0.000000</td>\n",
       "      <td>0.004184</td>\n",
       "      <td>0.000000</td>\n",
       "      <td>0.001587</td>\n",
       "      <td>0.000000</td>\n",
       "      <td>0.001319</td>\n",
       "      <td>0.003003</td>\n",
       "      <td>0.001179</td>\n",
       "      <td>1.000000</td>\n",
       "    </tr>\n",
       "  </tbody>\n",
       "</table>\n",
       "<p>446 rows × 446 columns</p>\n",
       "</div>"
      ],
      "text/plain": [
       "                 1980s    1990's      2.5D        2D  2D Fighter  \\\n",
       "1980s         1.000000  0.144844  0.016615  0.039649    0.015748   \n",
       "1990's        0.144844  1.000000  0.045221  0.053253    0.018891   \n",
       "2.5D          0.016615  0.045221  1.000000  0.026592    0.048212   \n",
       "2D            0.039649  0.053253  0.026592  1.000000    0.031077   \n",
       "2D Fighter    0.015748  0.018891  0.048212  0.031077    1.000000   \n",
       "...                ...       ...       ...       ...         ...   \n",
       "World War I   0.000000  0.001561  0.003138  0.001578    0.001678   \n",
       "World War II  0.001584  0.004268  0.009153  0.005589    0.003132   \n",
       "Wrestling     0.004785  0.002461  0.001115  0.001306    0.017078   \n",
       "Zombies       0.007773  0.012529  0.010724  0.023439    0.006889   \n",
       "e-sports      0.003690  0.009615  0.014159  0.004943    0.056604   \n",
       "\n",
       "              2D Platformer  360 Video        3D  3D Fighter  3D Platformer  \\\n",
       "1980s              0.050382        0.0  0.021869    0.008160       0.012099   \n",
       "1990's             0.063454        0.0  0.033869    0.006061       0.017914   \n",
       "2.5D               0.037666        0.0  0.019259    0.009491       0.028558   \n",
       "2D                 0.150200        0.0  0.015679    0.001001       0.004579   \n",
       "2D Fighter         0.040374        0.0  0.004314    0.029299       0.003217   \n",
       "...                     ...        ...       ...         ...            ...   \n",
       "World War I        0.000972        0.0  0.002617    0.002392       0.001351   \n",
       "World War II       0.002068        0.0  0.009484    0.001279       0.001628   \n",
       "Wrestling          0.000000        0.0  0.001982    0.031700       0.000704   \n",
       "Zombies            0.011128        0.0  0.043820    0.008197       0.009424   \n",
       "e-sports           0.005372        0.0  0.019861    0.035897       0.012129   \n",
       "\n",
       "              ...  Well-Written  Werewolves   Western  Wholesome  Word Game  \\\n",
       "1980s         ...      0.001235    0.001149  0.004073   0.000000   0.018817   \n",
       "1990's        ...      0.000000    0.001599  0.007364   0.000797   0.016734   \n",
       "2.5D          ...      0.000000    0.001078  0.006750   0.001074   0.002517   \n",
       "2D            ...      0.000093    0.001675  0.004433   0.002795   0.019035   \n",
       "2D Fighter    ...      0.000000    0.001767  0.004418   0.000000   0.001202   \n",
       "...           ...           ...         ...       ...        ...        ...   \n",
       "World War I   ...      0.000000    0.000000  0.003425   0.000000   0.000000   \n",
       "World War II  ...      0.000000    0.000000  0.004587   0.000000   0.000000   \n",
       "Wrestling     ...      0.000000    0.000000  0.000000   0.000000   0.000000   \n",
       "Zombies       ...      0.000000    0.010232  0.006940   0.000000   0.001146   \n",
       "e-sports      ...      0.000000    0.000000  0.004184   0.000000   0.001587   \n",
       "\n",
       "              World War I  World War II  Wrestling   Zombies  e-sports  \n",
       "1980s            0.000000      0.001584   0.004785  0.007773  0.003690  \n",
       "1990's           0.001561      0.004268   0.002461  0.012529  0.009615  \n",
       "2.5D             0.003138      0.009153   0.001115  0.010724  0.014159  \n",
       "2D               0.001578      0.005589   0.001306  0.023439  0.004943  \n",
       "2D Fighter       0.001678      0.003132   0.017078  0.006889  0.056604  \n",
       "...                   ...           ...        ...       ...       ...  \n",
       "World War I      1.000000      0.055351   0.000000  0.001989  0.000000  \n",
       "World War II     0.055351      1.000000   0.000000  0.009693  0.001319  \n",
       "Wrestling        0.000000      0.000000   1.000000  0.000000  0.003003  \n",
       "Zombies          0.001989      0.009693   0.000000  1.000000  0.001179  \n",
       "e-sports         0.000000      0.001319   0.003003  0.001179  1.000000  \n",
       "\n",
       "[446 rows x 446 columns]"
      ]
     },
     "execution_count": 5,
     "metadata": {},
     "output_type": "execute_result"
    }
   ],
   "source": [
    "# visualize co-occurrent matrix\n",
    "cM = pd.DataFrame(df_M['vector_tags'].values.tolist())\n",
    "cM.index = engine.tag_list\n",
    "cM.columns = engine.tag_list[0:len(cM.columns)]\n",
    "cM"
   ]
  },
  {
   "cell_type": "code",
   "execution_count": 6,
   "metadata": {},
   "outputs": [
    {
     "name": "stderr",
     "output_type": "stream",
     "text": [
      "processing samples: 100%|██████████| 41895/41895 [00:01<00:00, 28511.35it/s]\n"
     ]
    }
   ],
   "source": [
    "# prepare search\n",
    "sample_vectors = engine.encode_samples(sample_list)\n",
    "nbrs = engine.compute_nbrs(sample_vectors, k=5)"
   ]
  },
  {
   "cell_type": "markdown",
   "metadata": {},
   "source": [
    "# semantic tag search"
   ]
  },
  {
   "cell_type": "markdown",
   "metadata": {},
   "source": [
    "### naive"
   ]
  },
  {
   "cell_type": "code",
   "execution_count": 20,
   "metadata": {},
   "outputs": [
    {
     "name": "stdout",
     "output_type": "stream",
     "text": [
      "[['Action', 'Adventure', 'VR', 'Casual', 'Sports', 'Fantasy', 'Shooter', 'First-Person', 'Cartoon', 'Archery'], ['Indie', 'Fantasy', 'Fighting', 'Split Screen', 'Cartoon'], ['Action', 'Adventure', 'First-Person', 'Tower Defense', 'Cartoon', 'Shooter', 'Combat', 'Indie', 'Singleplayer', 'Fantasy', 'FPS', '3D', 'Colorful', 'Linear', 'Story Rich', 'Gore', 'Violent'], ['RPG', 'Action', 'Shooter', '3D', 'Magic', 'Fantasy', 'Singleplayer', \"Shoot 'Em Up\"], ['Hentai', 'Mature', 'Sexual Content', 'NSFW', 'Nudity', 'Anime', 'Fantasy', 'Swordplay', 'Casual', 'Match 3', 'Idler', 'Singleplayer', 'Cute', 'Cartoon', 'Dating Sim', 'Cartoony', '2D Platformer', 'Puzzle', 'Shooter']]\n"
     ]
    }
   ],
   "source": [
    "query_tag_list = [\n",
    "    'Shooter', \n",
    "    'Fantasy', \n",
    "    'Cartoon'\n",
    "]\n",
    "\n",
    "# perform search\n",
    "query_vector = engine.encode_query(list_tags=query_tag_list)\n",
    "indices, search_results = engine.soft_tag_filtering(nbrs, sample_list, query_vector)\n",
    "print(search_results[0:5])"
   ]
  },
  {
   "cell_type": "markdown",
   "metadata": {},
   "source": [
    "### weighted"
   ]
  },
  {
   "cell_type": "code",
   "execution_count": 15,
   "metadata": {},
   "outputs": [
    {
     "data": {
      "text/plain": [
       "[['Racing', 'Indie', 'Arcade', 'Retro', '1980s'],\n",
       " ['Casual', '2D', 'Arcade', '1980s', 'Singleplayer'],\n",
       " ['Simulation', 'Submarine', 'Retro', 'Naval', 'Classic', '1980s'],\n",
       " ['Action', 'Adventure', 'Indie', '1980s', 'Stealth', 'Political'],\n",
       " ['Indie', 'Horror', 'First-Person', 'Mystery', '1980s', 'Supernatural']]"
      ]
     },
     "execution_count": 15,
     "metadata": {},
     "output_type": "execute_result"
    }
   ],
   "source": [
    "query_tag_dict = {\n",
    "    'Shooter' : 0.9,\n",
    "    'Open World' : 0.1,\n",
    "}\n",
    "\n",
    "# perform search\n",
    "query_vector = engine.encode_query(dict_tags=query_tag_dict)\n",
    "indices, search_results = engine.soft_tag_filtering(nbrs, sample_list, query_vector)\n",
    "search_results[0:5]"
   ]
  },
  {
   "cell_type": "markdown",
   "metadata": {},
   "source": [
    "# validation"
   ]
  },
  {
   "cell_type": "code",
   "execution_count": 9,
   "metadata": {},
   "outputs": [],
   "source": [
    "query_tag_list = [\n",
    "    'Simulation', \n",
    "    'Exploration',\n",
    "    'Open World',\n",
    "]\n",
    "result_index = 0\n",
    "\n",
    "# semantic search\n",
    "query_vector = engine.encode_query(list_tags=query_tag_list)\n",
    "soft_indices, soft_filter_results = engine.soft_tag_filtering(nbrs, sample_list, query_vector)\n",
    "soft_raw_scores, soft_mean_scores = engine.compute_neighbor_scores(soft_filter_results[result_index], query_tag_list, exp=1.3, remove_max=False)\n",
    "\n",
    "# traditional search\n",
    "hard_indices, hard_filter_results = engine.hard_tag_filtering(sample_list, query_tag_list)\n",
    "hard_raw_scores, hard_mean_scores = engine.compute_neighbor_scores(hard_filter_results[result_index], query_tag_list, remove_max=False)"
   ]
  },
  {
   "cell_type": "markdown",
   "metadata": {},
   "source": [
    "### lookup data"
   ]
  },
  {
   "cell_type": "code",
   "execution_count": 10,
   "metadata": {},
   "outputs": [
    {
     "data": {
      "text/html": [
       "<div>\n",
       "<style scoped>\n",
       "    .dataframe tbody tr th:only-of-type {\n",
       "        vertical-align: middle;\n",
       "    }\n",
       "\n",
       "    .dataframe tbody tr th {\n",
       "        vertical-align: top;\n",
       "    }\n",
       "\n",
       "    .dataframe thead th {\n",
       "        text-align: right;\n",
       "    }\n",
       "</style>\n",
       "<table border=\"1\" class=\"dataframe\">\n",
       "  <thead>\n",
       "    <tr style=\"text-align: right;\">\n",
       "      <th></th>\n",
       "      <th>index</th>\n",
       "      <th>Name</th>\n",
       "      <th>Release date</th>\n",
       "      <th>Estimated owners</th>\n",
       "      <th>Peak CCU</th>\n",
       "      <th>Price</th>\n",
       "      <th>About the game</th>\n",
       "      <th>Total_reviews</th>\n",
       "      <th>Genres</th>\n",
       "      <th>Tags</th>\n",
       "    </tr>\n",
       "  </thead>\n",
       "  <tbody>\n",
       "    <tr>\n",
       "      <th>3220</th>\n",
       "      <td>5247</td>\n",
       "      <td>Escape: Sierra Leone</td>\n",
       "      <td>Dec 5, 2016</td>\n",
       "      <td>0 - 20000</td>\n",
       "      <td>0</td>\n",
       "      <td>9.99</td>\n",
       "      <td>This game is currently a Beta in Early Access ...</td>\n",
       "      <td>46</td>\n",
       "      <td>[Adventure, Simulation, Early Access]</td>\n",
       "      <td>[Adventure, Early Access, Simulation, Survival...</td>\n",
       "    </tr>\n",
       "    <tr>\n",
       "      <th>21494</th>\n",
       "      <td>35033</td>\n",
       "      <td>Copoka</td>\n",
       "      <td>Feb 15, 2017</td>\n",
       "      <td>20000 - 50000</td>\n",
       "      <td>0</td>\n",
       "      <td>4.99</td>\n",
       "      <td>Copoka is an open-world exploratory indie game...</td>\n",
       "      <td>231</td>\n",
       "      <td>[Casual, Indie]</td>\n",
       "      <td>[Casual, Indie, Exploration, Atmospheric, Flig...</td>\n",
       "    </tr>\n",
       "    <tr>\n",
       "      <th>16312</th>\n",
       "      <td>26506</td>\n",
       "      <td>Village businessman</td>\n",
       "      <td>Sep 28, 2020</td>\n",
       "      <td>0 - 20000</td>\n",
       "      <td>0</td>\n",
       "      <td>7.99</td>\n",
       "      <td>In Village businessman, you play as a person w...</td>\n",
       "      <td>2</td>\n",
       "      <td>[Simulation]</td>\n",
       "      <td>[Simulation, Open World, 3D, Third Person, Sin...</td>\n",
       "    </tr>\n",
       "    <tr>\n",
       "      <th>10489</th>\n",
       "      <td>17026</td>\n",
       "      <td>Lunar Rover</td>\n",
       "      <td>Jul 17, 2020</td>\n",
       "      <td>0 - 20000</td>\n",
       "      <td>0</td>\n",
       "      <td>3.99</td>\n",
       "      <td>Features Drive the Lunar Roving Vehicle used d...</td>\n",
       "      <td>6</td>\n",
       "      <td>[Simulation]</td>\n",
       "      <td>[Simulation, Open World, Space, Exploration, D...</td>\n",
       "    </tr>\n",
       "    <tr>\n",
       "      <th>35586</th>\n",
       "      <td>58172</td>\n",
       "      <td>World of Motors</td>\n",
       "      <td>Feb 16, 2022</td>\n",
       "      <td>0 - 20000</td>\n",
       "      <td>0</td>\n",
       "      <td>11.99</td>\n",
       "      <td>A game tailored to your requirements. buy cars...</td>\n",
       "      <td>16</td>\n",
       "      <td>[Indie, Racing, Simulation]</td>\n",
       "      <td>[Simulation, Racing, Exploration, 3D, Driving,...</td>\n",
       "    </tr>\n",
       "  </tbody>\n",
       "</table>\n",
       "</div>"
      ],
      "text/plain": [
       "       index                  Name  Release date Estimated owners  Peak CCU  \\\n",
       "3220    5247  Escape: Sierra Leone   Dec 5, 2016        0 - 20000         0   \n",
       "21494  35033                Copoka  Feb 15, 2017    20000 - 50000         0   \n",
       "16312  26506   Village businessman  Sep 28, 2020        0 - 20000         0   \n",
       "10489  17026           Lunar Rover  Jul 17, 2020        0 - 20000         0   \n",
       "35586  58172       World of Motors  Feb 16, 2022        0 - 20000         0   \n",
       "\n",
       "       Price                                     About the game  \\\n",
       "3220    9.99  This game is currently a Beta in Early Access ...   \n",
       "21494   4.99  Copoka is an open-world exploratory indie game...   \n",
       "16312   7.99  In Village businessman, you play as a person w...   \n",
       "10489   3.99  Features Drive the Lunar Roving Vehicle used d...   \n",
       "35586  11.99  A game tailored to your requirements. buy cars...   \n",
       "\n",
       "       Total_reviews                                 Genres  \\\n",
       "3220              46  [Adventure, Simulation, Early Access]   \n",
       "21494            231                        [Casual, Indie]   \n",
       "16312              2                           [Simulation]   \n",
       "10489              6                           [Simulation]   \n",
       "35586             16            [Indie, Racing, Simulation]   \n",
       "\n",
       "                                                    Tags  \n",
       "3220   [Adventure, Early Access, Simulation, Survival...  \n",
       "21494  [Casual, Indie, Exploration, Atmospheric, Flig...  \n",
       "16312  [Simulation, Open World, 3D, Third Person, Sin...  \n",
       "10489  [Simulation, Open World, Space, Exploration, D...  \n",
       "35586  [Simulation, Racing, Exploration, 3D, Driving,...  "
      ]
     },
     "execution_count": 10,
     "metadata": {},
     "output_type": "execute_result"
    }
   ],
   "source": [
    "# semantic tag filtering\n",
    "df.iloc[soft_indices]"
   ]
  },
  {
   "cell_type": "code",
   "execution_count": 11,
   "metadata": {},
   "outputs": [
    {
     "data": {
      "text/html": [
       "<div>\n",
       "<style scoped>\n",
       "    .dataframe tbody tr th:only-of-type {\n",
       "        vertical-align: middle;\n",
       "    }\n",
       "\n",
       "    .dataframe tbody tr th {\n",
       "        vertical-align: top;\n",
       "    }\n",
       "\n",
       "    .dataframe thead th {\n",
       "        text-align: right;\n",
       "    }\n",
       "</style>\n",
       "<table border=\"1\" class=\"dataframe\">\n",
       "  <thead>\n",
       "    <tr style=\"text-align: right;\">\n",
       "      <th></th>\n",
       "      <th>index</th>\n",
       "      <th>Name</th>\n",
       "      <th>Release date</th>\n",
       "      <th>Estimated owners</th>\n",
       "      <th>Peak CCU</th>\n",
       "      <th>Price</th>\n",
       "      <th>About the game</th>\n",
       "      <th>Total_reviews</th>\n",
       "      <th>Genres</th>\n",
       "      <th>Tags</th>\n",
       "    </tr>\n",
       "  </thead>\n",
       "  <tbody>\n",
       "    <tr>\n",
       "      <th>13</th>\n",
       "      <td>22</td>\n",
       "      <td>Aerofly FS 2 Flight Simulator</td>\n",
       "      <td>Nov 20, 2017</td>\n",
       "      <td>100000 - 200000</td>\n",
       "      <td>19</td>\n",
       "      <td>37.49</td>\n",
       "      <td>Aerofly FS 2 lets you explore the world of fly...</td>\n",
       "      <td>1898</td>\n",
       "      <td>[Action, Indie, Racing, Simulation]</td>\n",
       "      <td>[Flight, Simulation, VR, Racing, Physics, Open...</td>\n",
       "    </tr>\n",
       "    <tr>\n",
       "      <th>41</th>\n",
       "      <td>57</td>\n",
       "      <td>Forza Horizon 4</td>\n",
       "      <td>Mar 9, 2021</td>\n",
       "      <td>2000000 - 5000000</td>\n",
       "      <td>7571</td>\n",
       "      <td>59.99</td>\n",
       "      <td>Dynamic seasons change everything at the world...</td>\n",
       "      <td>137634</td>\n",
       "      <td>[Racing]</td>\n",
       "      <td>[Racing, Open World, Driving, Multiplayer, Onl...</td>\n",
       "    </tr>\n",
       "    <tr>\n",
       "      <th>60</th>\n",
       "      <td>96</td>\n",
       "      <td>Oxygen Not Included</td>\n",
       "      <td>Jul 30, 2019</td>\n",
       "      <td>2000000 - 5000000</td>\n",
       "      <td>7507</td>\n",
       "      <td>24.99</td>\n",
       "      <td>In the space-colony simulation game Oxygen Not...</td>\n",
       "      <td>85916</td>\n",
       "      <td>[Indie, Simulation]</td>\n",
       "      <td>[Colony Sim, Base-Building, Survival, Resource...</td>\n",
       "    </tr>\n",
       "    <tr>\n",
       "      <th>145</th>\n",
       "      <td>223</td>\n",
       "      <td>Ships 2017</td>\n",
       "      <td>Oct 19, 2016</td>\n",
       "      <td>20000 - 50000</td>\n",
       "      <td>0</td>\n",
       "      <td>14.99</td>\n",
       "      <td>Take control over 3 special purpose naval vess...</td>\n",
       "      <td>177</td>\n",
       "      <td>[Indie, Simulation]</td>\n",
       "      <td>[Simulation, Indie, Free to Play, Adventure, S...</td>\n",
       "    </tr>\n",
       "    <tr>\n",
       "      <th>382</th>\n",
       "      <td>617</td>\n",
       "      <td>JCB Pioneer: Mars</td>\n",
       "      <td>Sep 1, 2017</td>\n",
       "      <td>0 - 20000</td>\n",
       "      <td>0</td>\n",
       "      <td>24.99</td>\n",
       "      <td>WHAT IS JCB PIONEER: MARS? JCB Pioneer: Mars d...</td>\n",
       "      <td>143</td>\n",
       "      <td>[Action, Adventure, Indie, Simulation, Early A...</td>\n",
       "      <td>[Early Access, Simulation, Action, Adventure, ...</td>\n",
       "    </tr>\n",
       "    <tr>\n",
       "      <th>...</th>\n",
       "      <td>...</td>\n",
       "      <td>...</td>\n",
       "      <td>...</td>\n",
       "      <td>...</td>\n",
       "      <td>...</td>\n",
       "      <td>...</td>\n",
       "      <td>...</td>\n",
       "      <td>...</td>\n",
       "      <td>...</td>\n",
       "      <td>...</td>\n",
       "    </tr>\n",
       "    <tr>\n",
       "      <th>41747</th>\n",
       "      <td>83359</td>\n",
       "      <td>廃集落探索</td>\n",
       "      <td>Nov 17, 2023</td>\n",
       "      <td>0 - 20000</td>\n",
       "      <td>1</td>\n",
       "      <td>4.99</td>\n",
       "      <td>Abandoned Village Exploration This is a first-...</td>\n",
       "      <td>7</td>\n",
       "      <td>[Indie]</td>\n",
       "      <td>[Horror, Psychological, Dark, Walking Simulato...</td>\n",
       "    </tr>\n",
       "    <tr>\n",
       "      <th>41752</th>\n",
       "      <td>83397</td>\n",
       "      <td>Under A New Sun</td>\n",
       "      <td>Nov 13, 2023</td>\n",
       "      <td>0 - 20000</td>\n",
       "      <td>31</td>\n",
       "      <td>16.99</td>\n",
       "      <td>The plan was simple - the ship would wake you ...</td>\n",
       "      <td>41</td>\n",
       "      <td>[Adventure, Indie, Simulation, Early Access]</td>\n",
       "      <td>[Open World Survival Craft, Survival, Open Wor...</td>\n",
       "    </tr>\n",
       "    <tr>\n",
       "      <th>41815</th>\n",
       "      <td>83843</td>\n",
       "      <td>Sledders</td>\n",
       "      <td>Dec 5, 2023</td>\n",
       "      <td>0 - 20000</td>\n",
       "      <td>306</td>\n",
       "      <td>24.99</td>\n",
       "      <td>Shred your sled in open-world backcountries. S...</td>\n",
       "      <td>293</td>\n",
       "      <td>[Racing, Simulation, Sports, Early Access]</td>\n",
       "      <td>[Simulation, Snow, Offroad, Racing, Sports, Mo...</td>\n",
       "    </tr>\n",
       "    <tr>\n",
       "      <th>41817</th>\n",
       "      <td>83846</td>\n",
       "      <td>Soulash 2</td>\n",
       "      <td>Dec 4, 2023</td>\n",
       "      <td>0 - 20000</td>\n",
       "      <td>108</td>\n",
       "      <td>16.19</td>\n",
       "      <td>In a realm where gods have perished, a new era...</td>\n",
       "      <td>58</td>\n",
       "      <td>[Adventure, Indie, RPG, Strategy, Early Access]</td>\n",
       "      <td>[Early Access, RPG, Sandbox, Procedural Genera...</td>\n",
       "    </tr>\n",
       "    <tr>\n",
       "      <th>41922</th>\n",
       "      <td>84961</td>\n",
       "      <td>Bootlegger's Mafia Racing Story</td>\n",
       "      <td>Jan 2, 2024</td>\n",
       "      <td>0 - 20000</td>\n",
       "      <td>0</td>\n",
       "      <td>10.39</td>\n",
       "      <td>Step Back in Time and Race Through the Prohibi...</td>\n",
       "      <td>9</td>\n",
       "      <td>[Casual, Indie, Racing, RPG, Simulation]</td>\n",
       "      <td>[Crime, America, Action, First-Person, Casual,...</td>\n",
       "    </tr>\n",
       "  </tbody>\n",
       "</table>\n",
       "<p>516 rows × 10 columns</p>\n",
       "</div>"
      ],
      "text/plain": [
       "       index                             Name  Release date  \\\n",
       "13        22    Aerofly FS 2 Flight Simulator  Nov 20, 2017   \n",
       "41        57                  Forza Horizon 4   Mar 9, 2021   \n",
       "60        96              Oxygen Not Included  Jul 30, 2019   \n",
       "145      223                       Ships 2017  Oct 19, 2016   \n",
       "382      617                JCB Pioneer: Mars   Sep 1, 2017   \n",
       "...      ...                              ...           ...   \n",
       "41747  83359                            廃集落探索  Nov 17, 2023   \n",
       "41752  83397                  Under A New Sun  Nov 13, 2023   \n",
       "41815  83843                         Sledders   Dec 5, 2023   \n",
       "41817  83846                        Soulash 2   Dec 4, 2023   \n",
       "41922  84961  Bootlegger's Mafia Racing Story   Jan 2, 2024   \n",
       "\n",
       "        Estimated owners  Peak CCU  Price  \\\n",
       "13       100000 - 200000        19  37.49   \n",
       "41     2000000 - 5000000      7571  59.99   \n",
       "60     2000000 - 5000000      7507  24.99   \n",
       "145        20000 - 50000         0  14.99   \n",
       "382            0 - 20000         0  24.99   \n",
       "...                  ...       ...    ...   \n",
       "41747          0 - 20000         1   4.99   \n",
       "41752          0 - 20000        31  16.99   \n",
       "41815          0 - 20000       306  24.99   \n",
       "41817          0 - 20000       108  16.19   \n",
       "41922          0 - 20000         0  10.39   \n",
       "\n",
       "                                          About the game  Total_reviews  \\\n",
       "13     Aerofly FS 2 lets you explore the world of fly...           1898   \n",
       "41     Dynamic seasons change everything at the world...         137634   \n",
       "60     In the space-colony simulation game Oxygen Not...          85916   \n",
       "145    Take control over 3 special purpose naval vess...            177   \n",
       "382    WHAT IS JCB PIONEER: MARS? JCB Pioneer: Mars d...            143   \n",
       "...                                                  ...            ...   \n",
       "41747  Abandoned Village Exploration This is a first-...              7   \n",
       "41752  The plan was simple - the ship would wake you ...             41   \n",
       "41815  Shred your sled in open-world backcountries. S...            293   \n",
       "41817  In a realm where gods have perished, a new era...             58   \n",
       "41922  Step Back in Time and Race Through the Prohibi...              9   \n",
       "\n",
       "                                                  Genres  \\\n",
       "13                   [Action, Indie, Racing, Simulation]   \n",
       "41                                              [Racing]   \n",
       "60                                   [Indie, Simulation]   \n",
       "145                                  [Indie, Simulation]   \n",
       "382    [Action, Adventure, Indie, Simulation, Early A...   \n",
       "...                                                  ...   \n",
       "41747                                            [Indie]   \n",
       "41752       [Adventure, Indie, Simulation, Early Access]   \n",
       "41815         [Racing, Simulation, Sports, Early Access]   \n",
       "41817    [Adventure, Indie, RPG, Strategy, Early Access]   \n",
       "41922           [Casual, Indie, Racing, RPG, Simulation]   \n",
       "\n",
       "                                                    Tags  \n",
       "13     [Flight, Simulation, VR, Racing, Physics, Open...  \n",
       "41     [Racing, Open World, Driving, Multiplayer, Onl...  \n",
       "60     [Colony Sim, Base-Building, Survival, Resource...  \n",
       "145    [Simulation, Indie, Free to Play, Adventure, S...  \n",
       "382    [Early Access, Simulation, Action, Adventure, ...  \n",
       "...                                                  ...  \n",
       "41747  [Horror, Psychological, Dark, Walking Simulato...  \n",
       "41752  [Open World Survival Craft, Survival, Open Wor...  \n",
       "41815  [Simulation, Snow, Offroad, Racing, Sports, Mo...  \n",
       "41817  [Early Access, RPG, Sandbox, Procedural Genera...  \n",
       "41922  [Crime, America, Action, First-Person, Casual,...  \n",
       "\n",
       "[516 rows x 10 columns]"
      ]
     },
     "execution_count": 11,
     "metadata": {},
     "output_type": "execute_result"
    }
   ],
   "source": [
    "# traditional tag filtering\n",
    "df.iloc[hard_indices]"
   ]
  },
  {
   "cell_type": "markdown",
   "metadata": {},
   "source": [
    "### visualize flattened results"
   ]
  },
  {
   "cell_type": "code",
   "execution_count": 12,
   "metadata": {},
   "outputs": [
    {
     "data": {
      "text/html": [
       "['Simulation', 'Exploration', 'Open World']:<br><span style='background-color:rgb(107,7,0); color:white'>Adventure</span> <span style='background-color:rgb(99,8,0); color:white'>Early Access</span> <span style='background-color:rgb(127,5,0); color:white'>Simulation</span> <span style='background-color:rgb(100,8,0); color:white'>Survival</span> <span style='background-color:rgb(132,5,0); color:white'>Exploration</span> <span style='background-color:rgb(132,5,0); color:white'>Open World</span> <span style='background-color:rgb(106,8,0); color:white'>First-Person</span> <span style='background-color:rgb(96,9,0); color:white'>Realistic</span> "
      ],
      "text/plain": [
       "<IPython.core.display.HTML object>"
      ]
     },
     "metadata": {},
     "output_type": "display_data"
    },
    {
     "data": {
      "text/html": [
       "['Simulation', 'Exploration', 'Open World']:<br><span style='background-color:rgb(34,16,0); color:white'>Flight</span> <span style='background-color:rgb(123,6,0); color:white'>Simulation</span> <span style='background-color:rgb(52,14,0); color:white'>VR</span> <span style='background-color:rgb(45,14,0); color:white'>Racing</span> <span style='background-color:rgb(66,12,0); color:white'>Physics</span> <span style='background-color:rgb(127,5,0); color:white'>Open World</span> <span style='background-color:rgb(87,10,0); color:white'>Realistic</span> <span style='background-color:rgb(37,15,0); color:white'>Education</span> <span style='background-color:rgb(127,5,0); color:white'>Exploration</span> <span style='background-color:rgb(6,19,0); color:white'>Jet</span> <span style='background-color:rgb(20,17,0); color:white'>3D Vision</span> <span style='background-color:rgb(78,11,0); color:white'>Relaxing</span> <span style='background-color:rgb(100,8,0); color:white'>3D</span> <span style='background-color:rgb(25,17,0); color:white'>Level Editor</span> <span style='background-color:rgb(18,17,0); color:white'>America</span> <span style='background-color:rgb(105,8,0); color:white'>Singleplayer</span> <span style='background-color:rgb(4,19,0); color:white'>TrackIR</span> <span style='background-color:rgb(91,9,0); color:white'>Early Access</span> <span style='background-color:rgb(91,9,0); color:white'>Indie</span> <span style='background-color:rgb(80,10,0); color:white'>Multiplayer</span> "
      ],
      "text/plain": [
       "<IPython.core.display.HTML object>"
      ]
     },
     "metadata": {},
     "output_type": "display_data"
    }
   ],
   "source": [
    "engine.show_results(query_tag_list, soft_raw_scores, soft_filter_results[result_index], visualization_type='mean', power=0.6, title=f'{query_tag_list}', visualize=True, return_html=False)\n",
    "engine.show_results(query_tag_list, hard_raw_scores, hard_filter_results[result_index], visualization_type='mean', power=0.6, title=f'{query_tag_list}', visualize=True, return_html=False)"
   ]
  },
  {
   "cell_type": "code",
   "execution_count": 13,
   "metadata": {},
   "outputs": [
    {
     "data": {
      "text/html": [
       "['Simulation', 'Exploration', 'Open World']:<br><span style='background-color:rgb(107,7,0); color:white'>Adventure</span> <span style='background-color:rgb(99,8,0); color:white'>Early Access</span> <span style='background-color:rgb(127,5,0); color:white'>Simulation</span> <span style='background-color:rgb(100,8,0); color:white'>Survival</span> <span style='background-color:rgb(132,5,0); color:white'>Exploration</span> <span style='background-color:rgb(132,5,0); color:white'>Open World</span> <span style='background-color:rgb(106,8,0); color:white'>First-Person</span> <span style='background-color:rgb(96,9,0); color:white'>Realistic</span> "
      ],
      "text/plain": [
       "<IPython.core.display.HTML object>"
      ]
     },
     "metadata": {},
     "output_type": "display_data"
    },
    {
     "data": {
      "text/plain": [
       "\"['Simulation', 'Exploration', 'Open World']:<br><span style='background-color:rgb(107,7,0); color:white'>Adventure</span> <span style='background-color:rgb(99,8,0); color:white'>Early Access</span> <span style='background-color:rgb(127,5,0); color:white'>Simulation</span> <span style='background-color:rgb(100,8,0); color:white'>Survival</span> <span style='background-color:rgb(132,5,0); color:white'>Exploration</span> <span style='background-color:rgb(132,5,0); color:white'>Open World</span> <span style='background-color:rgb(106,8,0); color:white'>First-Person</span> <span style='background-color:rgb(96,9,0); color:white'>Realistic</span> \""
      ]
     },
     "execution_count": 13,
     "metadata": {},
     "output_type": "execute_result"
    }
   ],
   "source": [
    "engine.show_results(query_tag_list, soft_raw_scores, soft_filter_results[result_index], visualization_type='mean', power=0.6, title=f'{query_tag_list}', visualize=True, return_html=True)"
   ]
  },
  {
   "cell_type": "markdown",
   "metadata": {},
   "source": [
    "### visualize granular results"
   ]
  },
  {
   "cell_type": "code",
   "execution_count": 14,
   "metadata": {},
   "outputs": [
    {
     "data": {
      "text/html": [
       "['Simulation', 'Exploration', 'Open World']:<br><span style='background-color:rgb(105,8,0); color:white'>Adventure</span> <span style='background-color:rgb(105,8,0); color:white'>Early Access</span> <span style='background-color:rgb(178,0,0); color:white'>Simulation</span> <span style='background-color:rgb(88,10,0); color:white'>Survival</span> <span style='background-color:rgb(96,9,0); color:white'>Exploration</span> <span style='background-color:rgb(96,9,0); color:white'>Open World</span> <span style='background-color:rgb(96,9,0); color:white'>First-Person</span> <span style='background-color:rgb(96,9,0); color:white'>Realistic</span> "
      ],
      "text/plain": [
       "<IPython.core.display.HTML object>"
      ]
     },
     "metadata": {},
     "output_type": "display_data"
    },
    {
     "data": {
      "text/html": [
       "['Simulation', 'Exploration', 'Open World']:<br><span style='background-color:rgb(123,6,0); color:white'>Adventure</span> <span style='background-color:rgb(93,9,0); color:white'>Early Access</span> <span style='background-color:rgb(96,9,0); color:white'>Simulation</span> <span style='background-color:rgb(102,8,0); color:white'>Survival</span> <span style='background-color:rgb(178,0,0); color:white'>Exploration</span> <span style='background-color:rgb(111,7,0); color:white'>Open World</span> <span style='background-color:rgb(120,6,0); color:white'>First-Person</span> <span style='background-color:rgb(98,8,0); color:white'>Realistic</span> "
      ],
      "text/plain": [
       "<IPython.core.display.HTML object>"
      ]
     },
     "metadata": {},
     "output_type": "display_data"
    },
    {
     "data": {
      "text/html": [
       "['Simulation', 'Exploration', 'Open World']:<br><span style='background-color:rgb(93,9,0); color:white'>Adventure</span> <span style='background-color:rgb(99,8,0); color:white'>Early Access</span> <span style='background-color:rgb(96,9,0); color:white'>Simulation</span> <span style='background-color:rgb(109,7,0); color:white'>Survival</span> <span style='background-color:rgb(111,7,0); color:white'>Exploration</span> <span style='background-color:rgb(178,0,0); color:white'>Open World</span> <span style='background-color:rgb(101,8,0); color:white'>First-Person</span> <span style='background-color:rgb(94,9,0); color:white'>Realistic</span> "
      ],
      "text/plain": [
       "<IPython.core.display.HTML object>"
      ]
     },
     "metadata": {},
     "output_type": "display_data"
    },
    {
     "name": "stdout",
     "output_type": "stream",
     "text": [
      "\n"
     ]
    },
    {
     "data": {
      "text/html": [
       "['Simulation', 'Exploration', 'Open World']:<br><span style='background-color:rgb(36,15,0); color:white'>Flight</span> <span style='background-color:rgb(178,0,0); color:white'>Simulation</span> <span style='background-color:rgb(64,12,0); color:white'>VR</span> <span style='background-color:rgb(53,13,0); color:white'>Racing</span> <span style='background-color:rgb(72,11,0); color:white'>Physics</span> <span style='background-color:rgb(88,10,0); color:white'>Open World</span> <span style='background-color:rgb(87,10,0); color:white'>Realistic</span> <span style='background-color:rgb(43,15,0); color:white'>Education</span> <span style='background-color:rgb(88,10,0); color:white'>Exploration</span> <span style='background-color:rgb(7,19,0); color:white'>Jet</span> <span style='background-color:rgb(18,17,0); color:white'>3D Vision</span> <span style='background-color:rgb(85,10,0); color:white'>Relaxing</span> <span style='background-color:rgb(96,9,0); color:white'>3D</span> <span style='background-color:rgb(27,16,0); color:white'>Level Editor</span> <span style='background-color:rgb(19,17,0); color:white'>America</span> <span style='background-color:rgb(114,7,0); color:white'>Singleplayer</span> <span style='background-color:rgb(4,19,0); color:white'>TrackIR</span> <span style='background-color:rgb(96,9,0); color:white'>Early Access</span> <span style='background-color:rgb(108,7,0); color:white'>Indie</span> <span style='background-color:rgb(82,10,0); color:white'>Multiplayer</span> "
      ],
      "text/plain": [
       "<IPython.core.display.HTML object>"
      ]
     },
     "metadata": {},
     "output_type": "display_data"
    },
    {
     "data": {
      "text/html": [
       "['Simulation', 'Exploration', 'Open World']:<br><span style='background-color:rgb(31,16,0); color:white'>Flight</span> <span style='background-color:rgb(88,10,0); color:white'>Simulation</span> <span style='background-color:rgb(49,14,0); color:white'>VR</span> <span style='background-color:rgb(36,15,0); color:white'>Racing</span> <span style='background-color:rgb(65,12,0); color:white'>Physics</span> <span style='background-color:rgb(104,8,0); color:white'>Open World</span> <span style='background-color:rgb(89,9,0); color:white'>Realistic</span> <span style='background-color:rgb(36,15,0); color:white'>Education</span> <span style='background-color:rgb(178,0,0); color:white'>Exploration</span> <span style='background-color:rgb(5,19,0); color:white'>Jet</span> <span style='background-color:rgb(21,17,0); color:white'>3D Vision</span> <span style='background-color:rgb(83,10,0); color:white'>Relaxing</span> <span style='background-color:rgb(112,7,0); color:white'>3D</span> <span style='background-color:rgb(23,17,0); color:white'>Level Editor</span> <span style='background-color:rgb(18,17,0); color:white'>America</span> <span style='background-color:rgb(112,7,0); color:white'>Singleplayer</span> <span style='background-color:rgb(2,19,0); color:white'>TrackIR</span> <span style='background-color:rgb(84,10,0); color:white'>Early Access</span> <span style='background-color:rgb(93,9,0); color:white'>Indie</span> <span style='background-color:rgb(70,12,0); color:white'>Multiplayer</span> "
      ],
      "text/plain": [
       "<IPython.core.display.HTML object>"
      ]
     },
     "metadata": {},
     "output_type": "display_data"
    },
    {
     "data": {
      "text/html": [
       "['Simulation', 'Exploration', 'Open World']:<br><span style='background-color:rgb(35,16,0); color:white'>Flight</span> <span style='background-color:rgb(88,10,0); color:white'>Simulation</span> <span style='background-color:rgb(43,15,0); color:white'>VR</span> <span style='background-color:rgb(46,14,0); color:white'>Racing</span> <span style='background-color:rgb(62,12,0); color:white'>Physics</span> <span style='background-color:rgb(178,0,0); color:white'>Open World</span> <span style='background-color:rgb(86,10,0); color:white'>Realistic</span> <span style='background-color:rgb(30,16,0); color:white'>Education</span> <span style='background-color:rgb(104,8,0); color:white'>Exploration</span> <span style='background-color:rgb(6,19,0); color:white'>Jet</span> <span style='background-color:rgb(21,17,0); color:white'>3D Vision</span> <span style='background-color:rgb(65,12,0); color:white'>Relaxing</span> <span style='background-color:rgb(90,9,0); color:white'>3D</span> <span style='background-color:rgb(25,17,0); color:white'>Level Editor</span> <span style='background-color:rgb(18,17,0); color:white'>America</span> <span style='background-color:rgb(88,10,0); color:white'>Singleplayer</span> <span style='background-color:rgb(6,19,0); color:white'>TrackIR</span> <span style='background-color:rgb(91,9,0); color:white'>Early Access</span> <span style='background-color:rgb(70,12,0); color:white'>Indie</span> <span style='background-color:rgb(88,10,0); color:white'>Multiplayer</span> "
      ],
      "text/plain": [
       "<IPython.core.display.HTML object>"
      ]
     },
     "metadata": {},
     "output_type": "display_data"
    }
   ],
   "source": [
    "engine.show_results(query_tag_list, soft_raw_scores, soft_filter_results[result_index], visualization_type='raw', power=0.6, title=f'{query_tag_list}', visualize=True, return_html=False)\n",
    "print()\n",
    "engine.show_results(query_tag_list, hard_raw_scores, hard_filter_results[result_index], visualization_type='raw', power=0.6, title=f'{query_tag_list}', visualize=True, return_html=False)"
   ]
  }
 ],
 "metadata": {
  "kernelspec": {
   "display_name": "SIMTAG",
   "language": "python",
   "name": "python3"
  },
  "language_info": {
   "codemirror_mode": {
    "name": "ipython",
    "version": 3
   },
   "file_extension": ".py",
   "mimetype": "text/x-python",
   "name": "python",
   "nbconvert_exporter": "python",
   "pygments_lexer": "ipython3",
   "version": "3.12.5"
  }
 },
 "nbformat": 4,
 "nbformat_minor": 2
}

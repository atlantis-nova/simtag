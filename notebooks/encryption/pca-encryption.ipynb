{
 "cells": [
  {
   "cell_type": "code",
   "execution_count": 1,
   "metadata": {},
   "outputs": [
    {
     "name": "stdout",
     "output_type": "stream",
     "text": [
      "WARNING:tensorflow:From c:\\Users\\ardit\\miniconda3\\envs\\env1\\Lib\\site-packages\\tf_keras\\src\\losses.py:2976: The name tf.losses.sparse_softmax_cross_entropy is deprecated. Please use tf.compat.v1.losses.sparse_softmax_cross_entropy instead.\n",
      "\n"
     ]
    }
   ],
   "source": [
    "import os\n",
    "import warnings\n",
    "\n",
    "# move directory to the root of this repo\n",
    "os.chdir('\\\\'.join(os.getcwd().split('\\\\')[:-2]))\n",
    "warnings.simplefilter(\"ignore\")\n",
    "\n",
    "import pandas as pd\n",
    "import numpy as np\n",
    "from simtag.filter import simtag_filter"
   ]
  },
  {
   "cell_type": "code",
   "execution_count": 2,
   "metadata": {},
   "outputs": [],
   "source": [
    "# import raw data\n",
    "df = pd.read_parquet('notebooks/steam-games/games.parquet').dropna()\n",
    "df['Tags'] = df['Tags'].apply(lambda x : x.split(','))\n",
    "df['Genres'] = df['Genres'].apply(lambda x : x.split(','))\n",
    "df = df.drop(['game_vector', 'game_indices', 'Score', 'Recommendations'], axis=1)\n",
    "\n",
    "# extract raw lists\n",
    "sample_list = df['Tags'].values.tolist()"
   ]
  },
  {
   "cell_type": "markdown",
   "metadata": {},
   "source": [
    "### client"
   ]
  },
  {
   "cell_type": "code",
   "execution_count": 25,
   "metadata": {},
   "outputs": [],
   "source": [
    "# initiate recommender\n",
    "engine = simtag_filter(\n",
    "    sample_list=sample_list, \n",
    "    covariate_vector_length=384, \n",
    "    model_name='sentence-transformers/all-MiniLM-L6-v2'\n",
    ")"
   ]
  },
  {
   "cell_type": "code",
   "execution_count": 26,
   "metadata": {},
   "outputs": [
    {
     "name": "stderr",
     "output_type": "stream",
     "text": [
      "100%|██████████| 446/446 [00:08<00:00, 52.92it/s]\n"
     ]
    }
   ],
   "source": [
    "# if not existing, compute M\n",
    "M, df_M = engine.compute_M(method='encoding')\n",
    "# df_M.to_parquet('notebooks/steam-games/M.parquet')\n",
    "\n",
    "# if existing, load M\n",
    "# df_M = pd.read_parquet('notebooks/steam-games/M.parquet')\n",
    "# engine.load_M(df_M) # we need to apply encryption option"
   ]
  },
  {
   "cell_type": "code",
   "execution_count": 27,
   "metadata": {},
   "outputs": [],
   "source": [
    "def shuffle_columns(M):\n",
    "\t\"\"\"Shuffle the columns of a matrix and return the shuffled column indices\"\"\"\n",
    "\tpermutation = np.random.permutation(M.shape[0])\n",
    "\tM_shuffled = M[permutation, :]\n",
    "\treturn M_shuffled, permutation\n",
    "\n",
    "def generate_key(size):\n",
    "\t\"\"\"Generate a random key matrix\"\"\"\n",
    "\treturn np.random.randint(0, 256, size=(size, size), dtype=np.uint8)\n",
    "\n",
    "def orthogonal_transformation(M_shuffled, A):\n",
    "\t\"\"\"Apply the orthogonal_transformation\"\"\"\n",
    "\tM_transformed = np.dot(M_shuffled, A)\n",
    "\treturn M_transformed"
   ]
  },
  {
   "cell_type": "code",
   "execution_count": 28,
   "metadata": {},
   "outputs": [],
   "source": [
    "engine.df_M = df_M\n",
    "engine.M = np.array(df_M['vector_tags'].tolist())\n",
    "\n",
    "### encryption-1: shuffling\n",
    "engine.M_shuffled, engine.permutation = shuffle_columns(engine.M)\n",
    "\n",
    "### encryption-2: orthogonal_transformation\n",
    "A, _ = np.linalg.qr(np.random.randn(engine.covariate_vector_length, engine.covariate_vector_length))\n",
    "engine.M_transformed = orthogonal_transformation(engine.M_shuffled, A)\n",
    "\n",
    "engine.M = engine.M_transformed\n",
    "engine.M_encrypted_mean = np.mean(engine.M, axis=0)\n",
    "\n",
    "# we either compress or expand M\n",
    "engine.compute_adjusting_transformation()\n",
    "# pca is now computed"
   ]
  },
  {
   "cell_type": "code",
   "execution_count": 29,
   "metadata": {},
   "outputs": [],
   "source": [
    "from tqdm import tqdm\n",
    "\n",
    "def encrypt_tags(query_tag_list, permutation):\n",
    "\t\n",
    "\tindexes = [engine.tag_list.index(x) for x in query_tag_list]\n",
    "\tencrypted_indexes = [np.where(permutation==x)[0].tolist()[0] for x in indexes]\n",
    "\n",
    "\treturn indexes, encrypted_indexes\n",
    "\n",
    "def encode_samples_encrypted(sample_list_encrypted, n_tags):\n",
    "\n",
    "\tdef encode_sample_encrypted(encrypted_indexes, n):\n",
    "\t\t\n",
    "\t\t# convert into one hot\n",
    "\t\tvector_length = n_tags\n",
    "\t\tonehot_covariate_vector = np.zeros(vector_length)\n",
    "\t\tfor index in encrypted_indexes:\n",
    "\t\t\tonehot_covariate_vector[index] = 1\n",
    "\n",
    "\t\t# adjust vector\n",
    "\t\tonehot_covariate_vector = engine.adjust_oneshot_vector(onehot_covariate_vector)\n",
    "\n",
    "\t\treturn onehot_covariate_vector\n",
    "\t\n",
    "\trow_list = list()\n",
    "\tfor sample_encrypted in tqdm(sample_list_encrypted, desc=\"processing samples\"):\n",
    "\t\trow_list.append(encode_sample_encrypted(sample_encrypted, n_tags))\n",
    "\n",
    "\treturn row_list\n",
    "\n",
    "def encode_query_encrypted(encrypted_indexes, n_tags):\n",
    "\n",
    "\t# convert into one hot\n",
    "\tvector_length = n_tags\n",
    "\tonehot_covariate_vector = np.zeros(vector_length)\n",
    "\tfor index in encrypted_indexes:\n",
    "\t\tonehot_covariate_vector[index] = 1\n",
    "\n",
    "\t# adjust vector\n",
    "\tonehot_covariate_vector = engine.adjust_oneshot_vector(onehot_covariate_vector)\n",
    "\n",
    "\tM_encrypted_mean = engine.M_encrypted_mean + onehot_covariate_vector\n",
    "\n",
    "\treturn M_encrypted_mean"
   ]
  },
  {
   "cell_type": "markdown",
   "metadata": {},
   "source": [
    "# recommendation process"
   ]
  },
  {
   "cell_type": "code",
   "execution_count": 30,
   "metadata": {},
   "outputs": [
    {
     "name": "stdout",
     "output_type": "stream",
     "text": [
      "[[442, 297, 82, 88], [442, 115, 43, 364, 180, 223, 71, 171, 273, 232, 222, 297, 142, 102, 189, 209, 392, 242, 289, 376], [214, 393, 251, 256, 332, 364, 329, 189, 396, 298, 375, 260, 249, 171, 306, 130, 412, 232, 240, 61], [390, 315, 427, 249, 232, 252], [115, 442, 390, 106, 223, 133]]\n"
     ]
    }
   ],
   "source": [
    "# client\n",
    "sample_list_encrypted = [encrypt_tags(x, engine.permutation)[1] for x in sample_list]\n",
    "print(sample_list_encrypted[0:5])\n",
    "\n",
    "# information to be shared with the db\n",
    "engine_pca = engine.pca\n",
    "n_tags = len(engine.tag_list)"
   ]
  },
  {
   "cell_type": "code",
   "execution_count": 31,
   "metadata": {},
   "outputs": [
    {
     "name": "stderr",
     "output_type": "stream",
     "text": [
      "processing samples: 100%|██████████| 41895/41895 [00:18<00:00, 2274.61it/s]\n"
     ]
    }
   ],
   "source": [
    "# database\n",
    "engine.pca = engine_pca\n",
    "sample_vectors_encrypted = encode_samples_encrypted(sample_list_encrypted, n_tags)\n",
    "nbrs = engine.compute_nbrs(sample_vectors_encrypted, k=5)"
   ]
  },
  {
   "cell_type": "code",
   "execution_count": 35,
   "metadata": {},
   "outputs": [
    {
     "data": {
      "text/plain": [
       "[86, 349]"
      ]
     },
     "execution_count": 35,
     "metadata": {},
     "output_type": "execute_result"
    }
   ],
   "source": [
    "# client\n",
    "query_tag_list = [\n",
    "    'Fantasy', \n",
    "    'Dark Fantasy'\n",
    "]\n",
    "\n",
    "indexes, encrypted_indexes = encrypt_tags(query_tag_list, engine.permutation)\n",
    "encrypted_indexes"
   ]
  },
  {
   "cell_type": "code",
   "execution_count": 36,
   "metadata": {},
   "outputs": [
    {
     "data": {
      "text/plain": [
       "[36250, 32095, 23, 32019, 26902]"
      ]
     },
     "execution_count": 36,
     "metadata": {},
     "output_type": "execute_result"
    }
   ],
   "source": [
    "# database\n",
    "query_vector = encode_query_encrypted(encrypted_indexes, n_tags)\n",
    "indices, search_results = engine.soft_tag_filtering(nbrs, sample_list, query_vector)\n",
    "indices"
   ]
  },
  {
   "cell_type": "code",
   "execution_count": 37,
   "metadata": {},
   "outputs": [
    {
     "data": {
      "text/plain": [
       "[['Strategy',\n",
       "  'Turn-Based',\n",
       "  'Fantasy',\n",
       "  'Classic',\n",
       "  'Turn-Based Strategy',\n",
       "  'Dark Fantasy'],\n",
       " ['Action',\n",
       "  'Indie',\n",
       "  'Horror',\n",
       "  'Fantasy',\n",
       "  'Comedy',\n",
       "  'Survival Horror',\n",
       "  'Dark Fantasy'],\n",
       " ['Adventure',\n",
       "  'Indie',\n",
       "  'RPG',\n",
       "  'RPGMaker',\n",
       "  'Dark Fantasy',\n",
       "  'Fantasy',\n",
       "  'Magic',\n",
       "  'Dark Comedy'],\n",
       " ['RPG', 'Fantasy'],\n",
       " ['Early Access',\n",
       "  'RPG',\n",
       "  'Indie',\n",
       "  'Strategy',\n",
       "  'Fantasy',\n",
       "  'Hack and Slash',\n",
       "  'Dark Fantasy',\n",
       "  'Grand Strategy']]"
      ]
     },
     "execution_count": 37,
     "metadata": {},
     "output_type": "execute_result"
    }
   ],
   "source": [
    "# client\n",
    "search_results = [sample_list[x] for x in indices]\n",
    "search_results"
   ]
  }
 ],
 "metadata": {
  "kernelspec": {
   "display_name": "env1",
   "language": "python",
   "name": "python3"
  },
  "language_info": {
   "codemirror_mode": {
    "name": "ipython",
    "version": 3
   },
   "file_extension": ".py",
   "mimetype": "text/x-python",
   "name": "python",
   "nbconvert_exporter": "python",
   "pygments_lexer": "ipython3",
   "version": "3.11.9"
  }
 },
 "nbformat": 4,
 "nbformat_minor": 2
}

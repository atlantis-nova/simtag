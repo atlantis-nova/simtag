{
 "cells": [
  {
   "cell_type": "code",
   "execution_count": 1,
   "metadata": {},
   "outputs": [],
   "source": [
    "import os\n",
    "\n",
    "# move directory to the root of this repo\n",
    "os.chdir('\\\\'.join(os.getcwd().split('\\\\')[:-1]))\n",
    "\n",
    "import pandas as pd\n",
    "import numpy as np\n",
    "from simtag.filter import simtag_filter"
   ]
  },
  {
   "cell_type": "markdown",
   "metadata": {},
   "source": [
    "# setup the library"
   ]
  },
  {
   "cell_type": "markdown",
   "metadata": {},
   "source": [
    "### import data"
   ]
  },
  {
   "cell_type": "code",
   "execution_count": 2,
   "metadata": {},
   "outputs": [],
   "source": [
    "# import raw data\n",
    "df = pd.read_parquet('notebooks/files/games.parquet').dropna()\n",
    "df['Tags'] = df['Tags'].apply(lambda x : x.split(','))\n",
    "df['Genres'] = df['Genres'].apply(lambda x : x.split(','))\n",
    "\n",
    "# extract raw lists\n",
    "sample_list = df['Tags'].values.tolist()"
   ]
  },
  {
   "cell_type": "markdown",
   "metadata": {},
   "source": [
    "### process data"
   ]
  },
  {
   "cell_type": "code",
   "execution_count": 3,
   "metadata": {},
   "outputs": [],
   "source": [
    "# initiate recommender\n",
    "recommender = simtag_filter(sample_list)"
   ]
  },
  {
   "cell_type": "code",
   "execution_count": 3,
   "metadata": {},
   "outputs": [
    {
     "name": "stderr",
     "output_type": "stream",
     "text": [
      "Processing tags: 100%|██████████| 446/446 [1:18:52<00:00, 10.61s/it]\n"
     ]
    },
    {
     "data": {
      "text/html": [
       "<div>\n",
       "<style scoped>\n",
       "    .dataframe tbody tr th:only-of-type {\n",
       "        vertical-align: middle;\n",
       "    }\n",
       "\n",
       "    .dataframe tbody tr th {\n",
       "        vertical-align: top;\n",
       "    }\n",
       "\n",
       "    .dataframe thead th {\n",
       "        text-align: right;\n",
       "    }\n",
       "</style>\n",
       "<table border=\"1\" class=\"dataframe\">\n",
       "  <thead>\n",
       "    <tr style=\"text-align: right;\">\n",
       "      <th></th>\n",
       "      <th>Local Co-Op</th>\n",
       "      <th>Twin Stick Shooter</th>\n",
       "      <th>Silent Protagonist</th>\n",
       "      <th>Fantasy</th>\n",
       "      <th>Quick-Time Events</th>\n",
       "      <th>Foreign</th>\n",
       "      <th>Software Training</th>\n",
       "      <th>Competitive</th>\n",
       "      <th>Destruction</th>\n",
       "      <th>Trading</th>\n",
       "      <th>...</th>\n",
       "      <th>Music</th>\n",
       "      <th>Animation &amp; Modeling</th>\n",
       "      <th>Runner</th>\n",
       "      <th>Mahjong</th>\n",
       "      <th>Logic</th>\n",
       "      <th>Artificial Intelligence</th>\n",
       "      <th>Pirates</th>\n",
       "      <th>Hero Shooter</th>\n",
       "      <th>Turn-Based</th>\n",
       "      <th>Underground</th>\n",
       "    </tr>\n",
       "  </thead>\n",
       "  <tbody>\n",
       "    <tr>\n",
       "      <th>Local Co-Op</th>\n",
       "      <td>1.000000</td>\n",
       "      <td>0.067914</td>\n",
       "      <td>0.000646</td>\n",
       "      <td>0.033097</td>\n",
       "      <td>0.003688</td>\n",
       "      <td>0.001928</td>\n",
       "      <td>0.000000</td>\n",
       "      <td>0.042175</td>\n",
       "      <td>0.016940</td>\n",
       "      <td>0.002354</td>\n",
       "      <td>...</td>\n",
       "      <td>0.010276</td>\n",
       "      <td>0.000000</td>\n",
       "      <td>0.006455</td>\n",
       "      <td>0.0</td>\n",
       "      <td>0.008354</td>\n",
       "      <td>0.005068</td>\n",
       "      <td>0.006517</td>\n",
       "      <td>0.004714</td>\n",
       "      <td>0.012040</td>\n",
       "      <td>0.003621</td>\n",
       "    </tr>\n",
       "    <tr>\n",
       "      <th>Twin Stick Shooter</th>\n",
       "      <td>0.067914</td>\n",
       "      <td>1.000000</td>\n",
       "      <td>0.001572</td>\n",
       "      <td>0.006761</td>\n",
       "      <td>0.002786</td>\n",
       "      <td>0.000000</td>\n",
       "      <td>0.000000</td>\n",
       "      <td>0.010657</td>\n",
       "      <td>0.018112</td>\n",
       "      <td>0.000000</td>\n",
       "      <td>...</td>\n",
       "      <td>0.012966</td>\n",
       "      <td>0.000000</td>\n",
       "      <td>0.001799</td>\n",
       "      <td>0.0</td>\n",
       "      <td>0.000504</td>\n",
       "      <td>0.004695</td>\n",
       "      <td>0.001274</td>\n",
       "      <td>0.014085</td>\n",
       "      <td>0.000000</td>\n",
       "      <td>0.002674</td>\n",
       "    </tr>\n",
       "    <tr>\n",
       "      <th>Silent Protagonist</th>\n",
       "      <td>0.000646</td>\n",
       "      <td>0.001572</td>\n",
       "      <td>1.000000</td>\n",
       "      <td>0.002857</td>\n",
       "      <td>0.000000</td>\n",
       "      <td>0.005051</td>\n",
       "      <td>0.000000</td>\n",
       "      <td>0.001449</td>\n",
       "      <td>0.001613</td>\n",
       "      <td>0.000000</td>\n",
       "      <td>...</td>\n",
       "      <td>0.008794</td>\n",
       "      <td>0.000000</td>\n",
       "      <td>0.003008</td>\n",
       "      <td>0.0</td>\n",
       "      <td>0.006549</td>\n",
       "      <td>0.000000</td>\n",
       "      <td>0.000000</td>\n",
       "      <td>0.000000</td>\n",
       "      <td>0.002535</td>\n",
       "      <td>0.003311</td>\n",
       "    </tr>\n",
       "    <tr>\n",
       "      <th>Fantasy</th>\n",
       "      <td>0.033097</td>\n",
       "      <td>0.006761</td>\n",
       "      <td>0.002857</td>\n",
       "      <td>1.000000</td>\n",
       "      <td>0.004826</td>\n",
       "      <td>0.005515</td>\n",
       "      <td>0.000000</td>\n",
       "      <td>0.010073</td>\n",
       "      <td>0.006402</td>\n",
       "      <td>0.004958</td>\n",
       "      <td>...</td>\n",
       "      <td>0.009498</td>\n",
       "      <td>0.001587</td>\n",
       "      <td>0.010876</td>\n",
       "      <td>0.0</td>\n",
       "      <td>0.017552</td>\n",
       "      <td>0.006589</td>\n",
       "      <td>0.008365</td>\n",
       "      <td>0.004160</td>\n",
       "      <td>0.098415</td>\n",
       "      <td>0.007415</td>\n",
       "    </tr>\n",
       "    <tr>\n",
       "      <th>Quick-Time Events</th>\n",
       "      <td>0.003688</td>\n",
       "      <td>0.002786</td>\n",
       "      <td>0.000000</td>\n",
       "      <td>0.004826</td>\n",
       "      <td>1.000000</td>\n",
       "      <td>0.007143</td>\n",
       "      <td>0.000000</td>\n",
       "      <td>0.000000</td>\n",
       "      <td>0.004280</td>\n",
       "      <td>0.000000</td>\n",
       "      <td>...</td>\n",
       "      <td>0.004535</td>\n",
       "      <td>0.002457</td>\n",
       "      <td>0.006711</td>\n",
       "      <td>0.0</td>\n",
       "      <td>0.009975</td>\n",
       "      <td>0.004267</td>\n",
       "      <td>0.004762</td>\n",
       "      <td>0.011820</td>\n",
       "      <td>0.001203</td>\n",
       "      <td>0.005208</td>\n",
       "    </tr>\n",
       "    <tr>\n",
       "      <th>...</th>\n",
       "      <td>...</td>\n",
       "      <td>...</td>\n",
       "      <td>...</td>\n",
       "      <td>...</td>\n",
       "      <td>...</td>\n",
       "      <td>...</td>\n",
       "      <td>...</td>\n",
       "      <td>...</td>\n",
       "      <td>...</td>\n",
       "      <td>...</td>\n",
       "      <td>...</td>\n",
       "      <td>...</td>\n",
       "      <td>...</td>\n",
       "      <td>...</td>\n",
       "      <td>...</td>\n",
       "      <td>...</td>\n",
       "      <td>...</td>\n",
       "      <td>...</td>\n",
       "      <td>...</td>\n",
       "      <td>...</td>\n",
       "      <td>...</td>\n",
       "    </tr>\n",
       "    <tr>\n",
       "      <th>Artificial Intelligence</th>\n",
       "      <td>0.005068</td>\n",
       "      <td>0.004695</td>\n",
       "      <td>0.000000</td>\n",
       "      <td>0.006589</td>\n",
       "      <td>0.004267</td>\n",
       "      <td>0.004769</td>\n",
       "      <td>0.006329</td>\n",
       "      <td>0.012613</td>\n",
       "      <td>0.016393</td>\n",
       "      <td>0.010417</td>\n",
       "      <td>...</td>\n",
       "      <td>0.003247</td>\n",
       "      <td>0.002646</td>\n",
       "      <td>0.007326</td>\n",
       "      <td>0.0</td>\n",
       "      <td>0.019669</td>\n",
       "      <td>1.000000</td>\n",
       "      <td>0.001297</td>\n",
       "      <td>0.010390</td>\n",
       "      <td>0.005489</td>\n",
       "      <td>0.005464</td>\n",
       "    </tr>\n",
       "    <tr>\n",
       "      <th>Pirates</th>\n",
       "      <td>0.006517</td>\n",
       "      <td>0.001274</td>\n",
       "      <td>0.000000</td>\n",
       "      <td>0.008365</td>\n",
       "      <td>0.004762</td>\n",
       "      <td>0.000000</td>\n",
       "      <td>0.000000</td>\n",
       "      <td>0.002387</td>\n",
       "      <td>0.006536</td>\n",
       "      <td>0.027140</td>\n",
       "      <td>...</td>\n",
       "      <td>0.000000</td>\n",
       "      <td>0.000000</td>\n",
       "      <td>0.002457</td>\n",
       "      <td>0.0</td>\n",
       "      <td>0.002974</td>\n",
       "      <td>0.001297</td>\n",
       "      <td>1.000000</td>\n",
       "      <td>0.002028</td>\n",
       "      <td>0.006395</td>\n",
       "      <td>0.004444</td>\n",
       "    </tr>\n",
       "    <tr>\n",
       "      <th>Hero Shooter</th>\n",
       "      <td>0.004714</td>\n",
       "      <td>0.014085</td>\n",
       "      <td>0.000000</td>\n",
       "      <td>0.004160</td>\n",
       "      <td>0.011820</td>\n",
       "      <td>0.000000</td>\n",
       "      <td>0.000000</td>\n",
       "      <td>0.014388</td>\n",
       "      <td>0.014379</td>\n",
       "      <td>0.002012</td>\n",
       "      <td>...</td>\n",
       "      <td>0.004193</td>\n",
       "      <td>0.002088</td>\n",
       "      <td>0.009828</td>\n",
       "      <td>0.0</td>\n",
       "      <td>0.001183</td>\n",
       "      <td>0.010390</td>\n",
       "      <td>0.002028</td>\n",
       "      <td>1.000000</td>\n",
       "      <td>0.000576</td>\n",
       "      <td>0.008811</td>\n",
       "    </tr>\n",
       "    <tr>\n",
       "      <th>Turn-Based</th>\n",
       "      <td>0.012040</td>\n",
       "      <td>0.000000</td>\n",
       "      <td>0.002535</td>\n",
       "      <td>0.098415</td>\n",
       "      <td>0.001203</td>\n",
       "      <td>0.003785</td>\n",
       "      <td>0.000000</td>\n",
       "      <td>0.007253</td>\n",
       "      <td>0.002490</td>\n",
       "      <td>0.005797</td>\n",
       "      <td>...</td>\n",
       "      <td>0.000912</td>\n",
       "      <td>0.000583</td>\n",
       "      <td>0.000486</td>\n",
       "      <td>0.0</td>\n",
       "      <td>0.008609</td>\n",
       "      <td>0.005489</td>\n",
       "      <td>0.006395</td>\n",
       "      <td>0.000576</td>\n",
       "      <td>1.000000</td>\n",
       "      <td>0.002959</td>\n",
       "    </tr>\n",
       "    <tr>\n",
       "      <th>Underground</th>\n",
       "      <td>0.003621</td>\n",
       "      <td>0.002674</td>\n",
       "      <td>0.003311</td>\n",
       "      <td>0.007415</td>\n",
       "      <td>0.005208</td>\n",
       "      <td>0.003215</td>\n",
       "      <td>0.000000</td>\n",
       "      <td>0.000000</td>\n",
       "      <td>0.008242</td>\n",
       "      <td>0.000000</td>\n",
       "      <td>...</td>\n",
       "      <td>0.001093</td>\n",
       "      <td>0.000000</td>\n",
       "      <td>0.002571</td>\n",
       "      <td>0.0</td>\n",
       "      <td>0.008557</td>\n",
       "      <td>0.005464</td>\n",
       "      <td>0.004444</td>\n",
       "      <td>0.008811</td>\n",
       "      <td>0.002959</td>\n",
       "      <td>1.000000</td>\n",
       "    </tr>\n",
       "  </tbody>\n",
       "</table>\n",
       "<p>446 rows × 446 columns</p>\n",
       "</div>"
      ],
      "text/plain": [
       "                         Local Co-Op  Twin Stick Shooter  Silent Protagonist  \\\n",
       "Local Co-Op                 1.000000            0.067914            0.000646   \n",
       "Twin Stick Shooter          0.067914            1.000000            0.001572   \n",
       "Silent Protagonist          0.000646            0.001572            1.000000   \n",
       "Fantasy                     0.033097            0.006761            0.002857   \n",
       "Quick-Time Events           0.003688            0.002786            0.000000   \n",
       "...                              ...                 ...                 ...   \n",
       "Artificial Intelligence     0.005068            0.004695            0.000000   \n",
       "Pirates                     0.006517            0.001274            0.000000   \n",
       "Hero Shooter                0.004714            0.014085            0.000000   \n",
       "Turn-Based                  0.012040            0.000000            0.002535   \n",
       "Underground                 0.003621            0.002674            0.003311   \n",
       "\n",
       "                          Fantasy  Quick-Time Events   Foreign  \\\n",
       "Local Co-Op              0.033097           0.003688  0.001928   \n",
       "Twin Stick Shooter       0.006761           0.002786  0.000000   \n",
       "Silent Protagonist       0.002857           0.000000  0.005051   \n",
       "Fantasy                  1.000000           0.004826  0.005515   \n",
       "Quick-Time Events        0.004826           1.000000  0.007143   \n",
       "...                           ...                ...       ...   \n",
       "Artificial Intelligence  0.006589           0.004267  0.004769   \n",
       "Pirates                  0.008365           0.004762  0.000000   \n",
       "Hero Shooter             0.004160           0.011820  0.000000   \n",
       "Turn-Based               0.098415           0.001203  0.003785   \n",
       "Underground              0.007415           0.005208  0.003215   \n",
       "\n",
       "                         Software Training  Competitive  Destruction  \\\n",
       "Local Co-Op                       0.000000     0.042175     0.016940   \n",
       "Twin Stick Shooter                0.000000     0.010657     0.018112   \n",
       "Silent Protagonist                0.000000     0.001449     0.001613   \n",
       "Fantasy                           0.000000     0.010073     0.006402   \n",
       "Quick-Time Events                 0.000000     0.000000     0.004280   \n",
       "...                                    ...          ...          ...   \n",
       "Artificial Intelligence           0.006329     0.012613     0.016393   \n",
       "Pirates                           0.000000     0.002387     0.006536   \n",
       "Hero Shooter                      0.000000     0.014388     0.014379   \n",
       "Turn-Based                        0.000000     0.007253     0.002490   \n",
       "Underground                       0.000000     0.000000     0.008242   \n",
       "\n",
       "                          Trading  ...     Music  Animation & Modeling  \\\n",
       "Local Co-Op              0.002354  ...  0.010276              0.000000   \n",
       "Twin Stick Shooter       0.000000  ...  0.012966              0.000000   \n",
       "Silent Protagonist       0.000000  ...  0.008794              0.000000   \n",
       "Fantasy                  0.004958  ...  0.009498              0.001587   \n",
       "Quick-Time Events        0.000000  ...  0.004535              0.002457   \n",
       "...                           ...  ...       ...                   ...   \n",
       "Artificial Intelligence  0.010417  ...  0.003247              0.002646   \n",
       "Pirates                  0.027140  ...  0.000000              0.000000   \n",
       "Hero Shooter             0.002012  ...  0.004193              0.002088   \n",
       "Turn-Based               0.005797  ...  0.000912              0.000583   \n",
       "Underground              0.000000  ...  0.001093              0.000000   \n",
       "\n",
       "                           Runner  Mahjong     Logic  Artificial Intelligence  \\\n",
       "Local Co-Op              0.006455      0.0  0.008354                 0.005068   \n",
       "Twin Stick Shooter       0.001799      0.0  0.000504                 0.004695   \n",
       "Silent Protagonist       0.003008      0.0  0.006549                 0.000000   \n",
       "Fantasy                  0.010876      0.0  0.017552                 0.006589   \n",
       "Quick-Time Events        0.006711      0.0  0.009975                 0.004267   \n",
       "...                           ...      ...       ...                      ...   \n",
       "Artificial Intelligence  0.007326      0.0  0.019669                 1.000000   \n",
       "Pirates                  0.002457      0.0  0.002974                 0.001297   \n",
       "Hero Shooter             0.009828      0.0  0.001183                 0.010390   \n",
       "Turn-Based               0.000486      0.0  0.008609                 0.005489   \n",
       "Underground              0.002571      0.0  0.008557                 0.005464   \n",
       "\n",
       "                          Pirates  Hero Shooter  Turn-Based  Underground  \n",
       "Local Co-Op              0.006517      0.004714    0.012040     0.003621  \n",
       "Twin Stick Shooter       0.001274      0.014085    0.000000     0.002674  \n",
       "Silent Protagonist       0.000000      0.000000    0.002535     0.003311  \n",
       "Fantasy                  0.008365      0.004160    0.098415     0.007415  \n",
       "Quick-Time Events        0.004762      0.011820    0.001203     0.005208  \n",
       "...                           ...           ...         ...          ...  \n",
       "Artificial Intelligence  0.001297      0.010390    0.005489     0.005464  \n",
       "Pirates                  1.000000      0.002028    0.006395     0.004444  \n",
       "Hero Shooter             0.002028      1.000000    0.000576     0.008811  \n",
       "Turn-Based               0.006395      0.000576    1.000000     0.002959  \n",
       "Underground              0.004444      0.008811    0.002959     1.000000  \n",
       "\n",
       "[446 rows x 446 columns]"
      ]
     },
     "execution_count": 3,
     "metadata": {},
     "output_type": "execute_result"
    }
   ],
   "source": [
    "# if not existing, compute M\n",
    "recommender.compute_M()\n",
    "recommender.M.to_parquet('notebooks/files/M1.parquet')\n",
    "recommender.M"
   ]
  },
  {
   "cell_type": "code",
   "execution_count": 4,
   "metadata": {},
   "outputs": [],
   "source": [
    "# if already existing, load M\n",
    "recommender.M = pd.read_parquet('notebooks/files/M1.parquet')"
   ]
  },
  {
   "cell_type": "code",
   "execution_count": 5,
   "metadata": {},
   "outputs": [
    {
     "name": "stderr",
     "output_type": "stream",
     "text": [
      "processing samples: 100%|██████████| 41895/41895 [00:11<00:00, 3645.94it/s]\n"
     ]
    }
   ],
   "source": [
    "# prepare search\n",
    "sample_vectors = recommender.encode_samples(sample_list)\n",
    "nbrs = recommender.compute_nbrs(sample_vectors, k=5)"
   ]
  },
  {
   "cell_type": "markdown",
   "metadata": {},
   "source": [
    "# soft tag search"
   ]
  },
  {
   "cell_type": "markdown",
   "metadata": {},
   "source": [
    "### combined covariate encoding"
   ]
  },
  {
   "cell_type": "code",
   "execution_count": 6,
   "metadata": {},
   "outputs": [
    {
     "data": {
      "text/plain": [
       "['Indie',\n",
       " 'Adventure',\n",
       " 'Space',\n",
       " 'Sci-fi',\n",
       " 'Open World',\n",
       " 'Procedural Generation']"
      ]
     },
     "execution_count": 6,
     "metadata": {},
     "output_type": "execute_result"
    }
   ],
   "source": [
    "query_tag_list = [\n",
    "    'Sci-fi', \n",
    "    'Open World'\n",
    "]\n",
    "\n",
    "# perform search\n",
    "query_vector = recommender.encode_query(query_tag_list=query_tag_list, j=5)\n",
    "search_results = recommender.soft_tag_filtering(nbrs, sample_list, query_vector)\n",
    "search_results[1]"
   ]
  },
  {
   "cell_type": "markdown",
   "metadata": {},
   "source": [
    "### weighted combined covariate encoding"
   ]
  },
  {
   "cell_type": "code",
   "execution_count": 7,
   "metadata": {},
   "outputs": [
    {
     "data": {
      "text/plain": [
       "['Action',\n",
       " 'Indie',\n",
       " 'Adventure',\n",
       " 'Early Access',\n",
       " 'FPS',\n",
       " 'Open World',\n",
       " 'Shooter']"
      ]
     },
     "execution_count": 7,
     "metadata": {},
     "output_type": "execute_result"
    }
   ],
   "source": [
    "query_tag_dict = {\n",
    "    'Shooter' : 0.4,\n",
    "    'Open World' : 0.6,\n",
    "}\n",
    "\n",
    "# perform search\n",
    "query_vector = recommender.encode_query(query_tag_dict=query_tag_dict, j=5)\n",
    "search_results = recommender.soft_tag_filtering(nbrs, sample_list, query_vector)\n",
    "search_results[0]"
   ]
  },
  {
   "cell_type": "markdown",
   "metadata": {},
   "source": [
    "# validation"
   ]
  },
  {
   "cell_type": "code",
   "execution_count": 150,
   "metadata": {},
   "outputs": [
    {
     "name": "stdout",
     "output_type": "stream",
     "text": [
      "['Action', 'Indie', 'FPS', 'Shooter', 'Sci-fi', 'First-Person']\n",
      "[[0.120492   0.07813045 0.10530639 0.16427862 1.         0.10879849]\n",
      " [0.20861239 0.08034726 0.33807627 1.         0.16427862 0.20374736]]\n",
      "0.2976723211928548\n",
      "\n",
      "['Early Access', 'VR', 'Mechs', 'Action', 'Team-Based', 'Multiplayer', 'FPS', 'Simulation', 'Indie', 'Futuristic', 'Space', 'Robots', 'Cyberpunk', 'Dystopian', 'Shooter', 'Destruction', 'Strategy', 'Sci-fi', 'Retro', 'Mars', 'VR Only']\n",
      "[[0.07694013 0.04726585 0.04818092 0.120492   0.01815706 0.08083832\n",
      "  0.10530639 0.06116302 0.07813045 0.19881576 0.29035069 0.10684161\n",
      "  0.11162683 0.05435294 0.16427862 0.02056203 0.08311411 1.\n",
      "  0.08624646 0.01754386 0.02098501]\n",
      " [0.08576682 0.06179458 0.02662192 0.20861239 0.04723552 0.13072923\n",
      "  0.33807627 0.04548833 0.08034726 0.0717162  0.08867596 0.05253283\n",
      "  0.05268574 0.02714255 1.         0.03387271 0.04182744 0.16427862\n",
      "  0.10200053 0.0050424  0.03306288]]\n",
      "0.1306833872035555\n"
     ]
    }
   ],
   "source": [
    "import statistics\n",
    "\n",
    "query_tag_list = [\n",
    "    'Sci-fi', \n",
    "    'Shooter'\n",
    "]\n",
    "result_index = 1\n",
    "\n",
    "# soft search\n",
    "query_vector = recommender.encode_query(query_tag_list=query_tag_list, negative_score=False, j=5)\n",
    "soft_filter_results = recommender.soft_tag_filtering(nbrs, sample_list, query_vector)\n",
    "soft_raw_scores, soft_mean_scores = recommender.compute_neighbor_scores(soft_filter_results[result_index], query_tag_list, remove_max=False)\n",
    "\n",
    "# hard search\n",
    "hard_filter_results = recommender.hard_tag_filtering(sample_list, query_tag_list)\n",
    "hard_raw_scores, hard_mean_scores = recommender.compute_neighbor_scores(hard_filter_results[result_index], query_tag_list, remove_max=False)\n",
    "\n",
    "# report\n",
    "print(soft_filter_results[result_index])\n",
    "print(soft_raw_scores)\n",
    "print(soft_mean_scores)\n",
    "print()\n",
    "print(hard_filter_results[result_index])\n",
    "print(hard_raw_scores)\n",
    "print(hard_mean_scores)"
   ]
  },
  {
   "cell_type": "code",
   "execution_count": 151,
   "metadata": {},
   "outputs": [
    {
     "data": {
      "text/html": [
       "Sci-fi:<br><span style='background-color:rgb(14,50,0)'>Action</span> <span style='background-color:rgb(15,38,0)'>Indie</span> <span style='background-color:rgb(14,46,0)'>FPS</span> <span style='background-color:rgb(13,60,0)'>Shooter</span> <span style='background-color:rgb(0,178,0)'>Sci-fi</span> <span style='background-color:rgb(14,47,0)'>First-Person</span> "
      ],
      "text/plain": [
       "<IPython.core.display.HTML object>"
      ]
     },
     "metadata": {},
     "output_type": "display_data"
    },
    {
     "data": {
      "text/html": [
       "Shooter:<br><span style='background-color:rgb(12,69,0)'>Action</span> <span style='background-color:rgb(15,39,0)'>Indie</span> <span style='background-color:rgb(9,93,0)'>FPS</span> <span style='background-color:rgb(0,178,0)'>Shooter</span> <span style='background-color:rgb(13,60,0)'>Sci-fi</span> <span style='background-color:rgb(12,68,0)'>First-Person</span> "
      ],
      "text/plain": [
       "<IPython.core.display.HTML object>"
      ]
     },
     "metadata": {},
     "output_type": "display_data"
    }
   ],
   "source": [
    "from IPython.display import HTML\n",
    "\n",
    "for tag_index in range(len(query_tag_list)):\n",
    "\tdata = list(zip(soft_raw_scores[tag_index], soft_filter_results[result_index]))\n",
    "\ttag = query_tag_list[tag_index]\n",
    "\thtml_code = f\"{tag}:<br>\"\n",
    "\tfor intensity, word in data:\n",
    "\t\tpower = 0.6  # adjust this value to control the rate of color change\n",
    "\t\tscaled_intensity = intensity ** power\n",
    "\t\tr = int(20 * (1 - scaled_intensity))\n",
    "\t\tg = int(255 * scaled_intensity * 0.7)  # adjust the green component\n",
    "\t\tcolor = f\"rgb({r},{g},0)\"\n",
    "\t\thtml_code += f\"<span style='background-color:{color}'>{word}</span> \"\n",
    "\t\t# html_code += f\"<span style='color:{color}'>{word}</span> \"\n",
    "\n",
    "\tdisplay(HTML(html_code))"
   ]
  },
  {
   "cell_type": "code",
   "execution_count": 152,
   "metadata": {},
   "outputs": [
    {
     "data": {
      "text/html": [
       "Sci-fi:<br><span style='background-color:rgb(15,38,0)'>Early Access</span> <span style='background-color:rgb(16,28,0)'>VR</span> <span style='background-color:rgb(16,28,0)'>Mechs</span> <span style='background-color:rgb(14,50,0)'>Action</span> <span style='background-color:rgb(18,16,0)'>Team-Based</span> <span style='background-color:rgb(15,39,0)'>Multiplayer</span> <span style='background-color:rgb(14,46,0)'>FPS</span> <span style='background-color:rgb(16,33,0)'>Simulation</span> <span style='background-color:rgb(15,38,0)'>Indie</span> <span style='background-color:rgb(12,67,0)'>Futuristic</span> <span style='background-color:rgb(10,84,0)'>Space</span> <span style='background-color:rgb(14,46,0)'>Robots</span> <span style='background-color:rgb(14,47,0)'>Cyberpunk</span> <span style='background-color:rgb(16,31,0)'>Dystopian</span> <span style='background-color:rgb(13,60,0)'>Shooter</span> <span style='background-color:rgb(18,17,0)'>Destruction</span> <span style='background-color:rgb(15,40,0)'>Strategy</span> <span style='background-color:rgb(0,178,0)'>Sci-fi</span> <span style='background-color:rgb(15,41,0)'>Retro</span> <span style='background-color:rgb(18,15,0)'>Mars</span> <span style='background-color:rgb(18,17,0)'>VR Only</span> "
      ],
      "text/plain": [
       "<IPython.core.display.HTML object>"
      ]
     },
     "metadata": {},
     "output_type": "display_data"
    },
    {
     "data": {
      "text/html": [
       "Shooter:<br><span style='background-color:rgb(15,40,0)'>Early Access</span> <span style='background-color:rgb(16,33,0)'>VR</span> <span style='background-color:rgb(17,20,0)'>Mechs</span> <span style='background-color:rgb(12,69,0)'>Action</span> <span style='background-color:rgb(16,28,0)'>Team-Based</span> <span style='background-color:rgb(14,52,0)'>Multiplayer</span> <span style='background-color:rgb(9,93,0)'>FPS</span> <span style='background-color:rgb(16,27,0)'>Simulation</span> <span style='background-color:rgb(15,39,0)'>Indie</span> <span style='background-color:rgb(15,36,0)'>Futuristic</span> <span style='background-color:rgb(15,41,0)'>Space</span> <span style='background-color:rgb(16,30,0)'>Robots</span> <span style='background-color:rgb(16,30,0)'>Cyberpunk</span> <span style='background-color:rgb(17,20,0)'>Dystopian</span> <span style='background-color:rgb(0,178,0)'>Shooter</span> <span style='background-color:rgb(17,23,0)'>Destruction</span> <span style='background-color:rgb(17,26,0)'>Strategy</span> <span style='background-color:rgb(13,60,0)'>Sci-fi</span> <span style='background-color:rgb(14,45,0)'>Retro</span> <span style='background-color:rgb(19,7,0)'>Mars</span> <span style='background-color:rgb(17,23,0)'>VR Only</span> "
      ],
      "text/plain": [
       "<IPython.core.display.HTML object>"
      ]
     },
     "metadata": {},
     "output_type": "display_data"
    }
   ],
   "source": [
    "from IPython.display import HTML\n",
    "\n",
    "for tag_index in range(len(query_tag_list)):\n",
    "\tdata = list(zip(hard_raw_scores[tag_index], hard_filter_results[result_index]))\n",
    "\ttag = query_tag_list[tag_index]\n",
    "\thtml_code = f\"{tag}:<br>\"\n",
    "\tfor intensity, word in data:\n",
    "\t\tpower = 0.6  # adjust this value to control the rate of color change\n",
    "\t\tscaled_intensity = intensity ** power\n",
    "\t\tr = int(20 * (1 - scaled_intensity))\n",
    "\t\tg = int(255 * scaled_intensity * 0.7)  # adjust the green component\n",
    "\t\tcolor = f\"rgb({r},{g},0)\"\n",
    "\t\thtml_code += f\"<span style='background-color:{color}'>{word}</span> \"\n",
    "\t\t# html_code += f\"<span style='color:{color}'>{word}</span> \"\n",
    "\n",
    "\tdisplay(HTML(html_code))"
   ]
  },
  {
   "cell_type": "code",
   "execution_count": 17,
   "metadata": {},
   "outputs": [
    {
     "data": {
      "text/plain": [
       "[array(0.2004249),\n",
       " array(0.19842347),\n",
       " array(0.19842347),\n",
       " array(0.17286856),\n",
       " array(0.17286856)]"
      ]
     },
     "execution_count": 17,
     "metadata": {},
     "output_type": "execute_result"
    }
   ],
   "source": [
    "[recommender.compute_neighbor_scores(soft_filter_results[x], query_tag_list, remove_max=True)[1] for x in range(5)]"
   ]
  },
  {
   "cell_type": "code",
   "execution_count": 16,
   "metadata": {},
   "outputs": [
    {
     "data": {
      "text/plain": [
       "[array(0.10270942),\n",
       " array(0.09802689),\n",
       " array(0.11805023),\n",
       " array(0.10857919),\n",
       " array(0.10065173)]"
      ]
     },
     "execution_count": 16,
     "metadata": {},
     "output_type": "execute_result"
    }
   ],
   "source": [
    "[recommender.compute_neighbor_scores(hard_filter_results[x], query_tag_list, remove_max=True)[1] for x in range(5)]"
   ]
  }
 ],
 "metadata": {
  "kernelspec": {
   "display_name": "env1",
   "language": "python",
   "name": "python3"
  },
  "language_info": {
   "codemirror_mode": {
    "name": "ipython",
    "version": 3
   },
   "file_extension": ".py",
   "mimetype": "text/x-python",
   "name": "python",
   "nbconvert_exporter": "python",
   "pygments_lexer": "ipython3",
   "version": "3.11.9"
  }
 },
 "nbformat": 4,
 "nbformat_minor": 2
}

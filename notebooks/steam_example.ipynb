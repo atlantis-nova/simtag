{
 "cells": [
  {
   "cell_type": "code",
   "execution_count": 1,
   "metadata": {},
   "outputs": [],
   "source": [
    "import os\n",
    "\n",
    "# move directory to the root of this repo\n",
    "os.chdir('\\\\'.join(os.getcwd().split('\\\\')[:-1]))\n",
    "\n",
    "import pandas as pd\n",
    "import numpy as np\n",
    "from simtag.filter import simtag_filter"
   ]
  },
  {
   "cell_type": "markdown",
   "metadata": {},
   "source": [
    "# setup the library"
   ]
  },
  {
   "cell_type": "markdown",
   "metadata": {},
   "source": [
    "### import data"
   ]
  },
  {
   "cell_type": "code",
   "execution_count": 3,
   "metadata": {},
   "outputs": [],
   "source": [
    "# import raw data\n",
    "df = pd.read_parquet('notebooks/files/games.parquet').dropna()\n",
    "df['Tags'] = df['Tags'].apply(lambda x : x.split(','))\n",
    "df['Genres'] = df['Genres'].apply(lambda x : x.split(','))\n",
    "\n",
    "# extract raw lists\n",
    "sample_list = df['Tags'].values.tolist()"
   ]
  },
  {
   "cell_type": "markdown",
   "metadata": {},
   "source": [
    "### process data"
   ]
  },
  {
   "cell_type": "code",
   "execution_count": 4,
   "metadata": {},
   "outputs": [],
   "source": [
    "# initiate recommender\n",
    "engine = simtag_filter(sample_list)"
   ]
  },
  {
   "cell_type": "code",
   "execution_count": 3,
   "metadata": {},
   "outputs": [
    {
     "name": "stderr",
     "output_type": "stream",
     "text": [
      "Processing tags: 100%|██████████| 446/446 [1:18:52<00:00, 10.61s/it]\n"
     ]
    },
    {
     "data": {
      "text/html": [
       "<div>\n",
       "<style scoped>\n",
       "    .dataframe tbody tr th:only-of-type {\n",
       "        vertical-align: middle;\n",
       "    }\n",
       "\n",
       "    .dataframe tbody tr th {\n",
       "        vertical-align: top;\n",
       "    }\n",
       "\n",
       "    .dataframe thead th {\n",
       "        text-align: right;\n",
       "    }\n",
       "</style>\n",
       "<table border=\"1\" class=\"dataframe\">\n",
       "  <thead>\n",
       "    <tr style=\"text-align: right;\">\n",
       "      <th></th>\n",
       "      <th>Local Co-Op</th>\n",
       "      <th>Twin Stick Shooter</th>\n",
       "      <th>Silent Protagonist</th>\n",
       "      <th>Fantasy</th>\n",
       "      <th>Quick-Time Events</th>\n",
       "      <th>Foreign</th>\n",
       "      <th>Software Training</th>\n",
       "      <th>Competitive</th>\n",
       "      <th>Destruction</th>\n",
       "      <th>Trading</th>\n",
       "      <th>...</th>\n",
       "      <th>Music</th>\n",
       "      <th>Animation &amp; Modeling</th>\n",
       "      <th>Runner</th>\n",
       "      <th>Mahjong</th>\n",
       "      <th>Logic</th>\n",
       "      <th>Artificial Intelligence</th>\n",
       "      <th>Pirates</th>\n",
       "      <th>Hero Shooter</th>\n",
       "      <th>Turn-Based</th>\n",
       "      <th>Underground</th>\n",
       "    </tr>\n",
       "  </thead>\n",
       "  <tbody>\n",
       "    <tr>\n",
       "      <th>Local Co-Op</th>\n",
       "      <td>1.000000</td>\n",
       "      <td>0.067914</td>\n",
       "      <td>0.000646</td>\n",
       "      <td>0.033097</td>\n",
       "      <td>0.003688</td>\n",
       "      <td>0.001928</td>\n",
       "      <td>0.000000</td>\n",
       "      <td>0.042175</td>\n",
       "      <td>0.016940</td>\n",
       "      <td>0.002354</td>\n",
       "      <td>...</td>\n",
       "      <td>0.010276</td>\n",
       "      <td>0.000000</td>\n",
       "      <td>0.006455</td>\n",
       "      <td>0.0</td>\n",
       "      <td>0.008354</td>\n",
       "      <td>0.005068</td>\n",
       "      <td>0.006517</td>\n",
       "      <td>0.004714</td>\n",
       "      <td>0.012040</td>\n",
       "      <td>0.003621</td>\n",
       "    </tr>\n",
       "    <tr>\n",
       "      <th>Twin Stick Shooter</th>\n",
       "      <td>0.067914</td>\n",
       "      <td>1.000000</td>\n",
       "      <td>0.001572</td>\n",
       "      <td>0.006761</td>\n",
       "      <td>0.002786</td>\n",
       "      <td>0.000000</td>\n",
       "      <td>0.000000</td>\n",
       "      <td>0.010657</td>\n",
       "      <td>0.018112</td>\n",
       "      <td>0.000000</td>\n",
       "      <td>...</td>\n",
       "      <td>0.012966</td>\n",
       "      <td>0.000000</td>\n",
       "      <td>0.001799</td>\n",
       "      <td>0.0</td>\n",
       "      <td>0.000504</td>\n",
       "      <td>0.004695</td>\n",
       "      <td>0.001274</td>\n",
       "      <td>0.014085</td>\n",
       "      <td>0.000000</td>\n",
       "      <td>0.002674</td>\n",
       "    </tr>\n",
       "    <tr>\n",
       "      <th>Silent Protagonist</th>\n",
       "      <td>0.000646</td>\n",
       "      <td>0.001572</td>\n",
       "      <td>1.000000</td>\n",
       "      <td>0.002857</td>\n",
       "      <td>0.000000</td>\n",
       "      <td>0.005051</td>\n",
       "      <td>0.000000</td>\n",
       "      <td>0.001449</td>\n",
       "      <td>0.001613</td>\n",
       "      <td>0.000000</td>\n",
       "      <td>...</td>\n",
       "      <td>0.008794</td>\n",
       "      <td>0.000000</td>\n",
       "      <td>0.003008</td>\n",
       "      <td>0.0</td>\n",
       "      <td>0.006549</td>\n",
       "      <td>0.000000</td>\n",
       "      <td>0.000000</td>\n",
       "      <td>0.000000</td>\n",
       "      <td>0.002535</td>\n",
       "      <td>0.003311</td>\n",
       "    </tr>\n",
       "    <tr>\n",
       "      <th>Fantasy</th>\n",
       "      <td>0.033097</td>\n",
       "      <td>0.006761</td>\n",
       "      <td>0.002857</td>\n",
       "      <td>1.000000</td>\n",
       "      <td>0.004826</td>\n",
       "      <td>0.005515</td>\n",
       "      <td>0.000000</td>\n",
       "      <td>0.010073</td>\n",
       "      <td>0.006402</td>\n",
       "      <td>0.004958</td>\n",
       "      <td>...</td>\n",
       "      <td>0.009498</td>\n",
       "      <td>0.001587</td>\n",
       "      <td>0.010876</td>\n",
       "      <td>0.0</td>\n",
       "      <td>0.017552</td>\n",
       "      <td>0.006589</td>\n",
       "      <td>0.008365</td>\n",
       "      <td>0.004160</td>\n",
       "      <td>0.098415</td>\n",
       "      <td>0.007415</td>\n",
       "    </tr>\n",
       "    <tr>\n",
       "      <th>Quick-Time Events</th>\n",
       "      <td>0.003688</td>\n",
       "      <td>0.002786</td>\n",
       "      <td>0.000000</td>\n",
       "      <td>0.004826</td>\n",
       "      <td>1.000000</td>\n",
       "      <td>0.007143</td>\n",
       "      <td>0.000000</td>\n",
       "      <td>0.000000</td>\n",
       "      <td>0.004280</td>\n",
       "      <td>0.000000</td>\n",
       "      <td>...</td>\n",
       "      <td>0.004535</td>\n",
       "      <td>0.002457</td>\n",
       "      <td>0.006711</td>\n",
       "      <td>0.0</td>\n",
       "      <td>0.009975</td>\n",
       "      <td>0.004267</td>\n",
       "      <td>0.004762</td>\n",
       "      <td>0.011820</td>\n",
       "      <td>0.001203</td>\n",
       "      <td>0.005208</td>\n",
       "    </tr>\n",
       "    <tr>\n",
       "      <th>...</th>\n",
       "      <td>...</td>\n",
       "      <td>...</td>\n",
       "      <td>...</td>\n",
       "      <td>...</td>\n",
       "      <td>...</td>\n",
       "      <td>...</td>\n",
       "      <td>...</td>\n",
       "      <td>...</td>\n",
       "      <td>...</td>\n",
       "      <td>...</td>\n",
       "      <td>...</td>\n",
       "      <td>...</td>\n",
       "      <td>...</td>\n",
       "      <td>...</td>\n",
       "      <td>...</td>\n",
       "      <td>...</td>\n",
       "      <td>...</td>\n",
       "      <td>...</td>\n",
       "      <td>...</td>\n",
       "      <td>...</td>\n",
       "      <td>...</td>\n",
       "    </tr>\n",
       "    <tr>\n",
       "      <th>Artificial Intelligence</th>\n",
       "      <td>0.005068</td>\n",
       "      <td>0.004695</td>\n",
       "      <td>0.000000</td>\n",
       "      <td>0.006589</td>\n",
       "      <td>0.004267</td>\n",
       "      <td>0.004769</td>\n",
       "      <td>0.006329</td>\n",
       "      <td>0.012613</td>\n",
       "      <td>0.016393</td>\n",
       "      <td>0.010417</td>\n",
       "      <td>...</td>\n",
       "      <td>0.003247</td>\n",
       "      <td>0.002646</td>\n",
       "      <td>0.007326</td>\n",
       "      <td>0.0</td>\n",
       "      <td>0.019669</td>\n",
       "      <td>1.000000</td>\n",
       "      <td>0.001297</td>\n",
       "      <td>0.010390</td>\n",
       "      <td>0.005489</td>\n",
       "      <td>0.005464</td>\n",
       "    </tr>\n",
       "    <tr>\n",
       "      <th>Pirates</th>\n",
       "      <td>0.006517</td>\n",
       "      <td>0.001274</td>\n",
       "      <td>0.000000</td>\n",
       "      <td>0.008365</td>\n",
       "      <td>0.004762</td>\n",
       "      <td>0.000000</td>\n",
       "      <td>0.000000</td>\n",
       "      <td>0.002387</td>\n",
       "      <td>0.006536</td>\n",
       "      <td>0.027140</td>\n",
       "      <td>...</td>\n",
       "      <td>0.000000</td>\n",
       "      <td>0.000000</td>\n",
       "      <td>0.002457</td>\n",
       "      <td>0.0</td>\n",
       "      <td>0.002974</td>\n",
       "      <td>0.001297</td>\n",
       "      <td>1.000000</td>\n",
       "      <td>0.002028</td>\n",
       "      <td>0.006395</td>\n",
       "      <td>0.004444</td>\n",
       "    </tr>\n",
       "    <tr>\n",
       "      <th>Hero Shooter</th>\n",
       "      <td>0.004714</td>\n",
       "      <td>0.014085</td>\n",
       "      <td>0.000000</td>\n",
       "      <td>0.004160</td>\n",
       "      <td>0.011820</td>\n",
       "      <td>0.000000</td>\n",
       "      <td>0.000000</td>\n",
       "      <td>0.014388</td>\n",
       "      <td>0.014379</td>\n",
       "      <td>0.002012</td>\n",
       "      <td>...</td>\n",
       "      <td>0.004193</td>\n",
       "      <td>0.002088</td>\n",
       "      <td>0.009828</td>\n",
       "      <td>0.0</td>\n",
       "      <td>0.001183</td>\n",
       "      <td>0.010390</td>\n",
       "      <td>0.002028</td>\n",
       "      <td>1.000000</td>\n",
       "      <td>0.000576</td>\n",
       "      <td>0.008811</td>\n",
       "    </tr>\n",
       "    <tr>\n",
       "      <th>Turn-Based</th>\n",
       "      <td>0.012040</td>\n",
       "      <td>0.000000</td>\n",
       "      <td>0.002535</td>\n",
       "      <td>0.098415</td>\n",
       "      <td>0.001203</td>\n",
       "      <td>0.003785</td>\n",
       "      <td>0.000000</td>\n",
       "      <td>0.007253</td>\n",
       "      <td>0.002490</td>\n",
       "      <td>0.005797</td>\n",
       "      <td>...</td>\n",
       "      <td>0.000912</td>\n",
       "      <td>0.000583</td>\n",
       "      <td>0.000486</td>\n",
       "      <td>0.0</td>\n",
       "      <td>0.008609</td>\n",
       "      <td>0.005489</td>\n",
       "      <td>0.006395</td>\n",
       "      <td>0.000576</td>\n",
       "      <td>1.000000</td>\n",
       "      <td>0.002959</td>\n",
       "    </tr>\n",
       "    <tr>\n",
       "      <th>Underground</th>\n",
       "      <td>0.003621</td>\n",
       "      <td>0.002674</td>\n",
       "      <td>0.003311</td>\n",
       "      <td>0.007415</td>\n",
       "      <td>0.005208</td>\n",
       "      <td>0.003215</td>\n",
       "      <td>0.000000</td>\n",
       "      <td>0.000000</td>\n",
       "      <td>0.008242</td>\n",
       "      <td>0.000000</td>\n",
       "      <td>...</td>\n",
       "      <td>0.001093</td>\n",
       "      <td>0.000000</td>\n",
       "      <td>0.002571</td>\n",
       "      <td>0.0</td>\n",
       "      <td>0.008557</td>\n",
       "      <td>0.005464</td>\n",
       "      <td>0.004444</td>\n",
       "      <td>0.008811</td>\n",
       "      <td>0.002959</td>\n",
       "      <td>1.000000</td>\n",
       "    </tr>\n",
       "  </tbody>\n",
       "</table>\n",
       "<p>446 rows × 446 columns</p>\n",
       "</div>"
      ],
      "text/plain": [
       "                         Local Co-Op  Twin Stick Shooter  Silent Protagonist  \\\n",
       "Local Co-Op                 1.000000            0.067914            0.000646   \n",
       "Twin Stick Shooter          0.067914            1.000000            0.001572   \n",
       "Silent Protagonist          0.000646            0.001572            1.000000   \n",
       "Fantasy                     0.033097            0.006761            0.002857   \n",
       "Quick-Time Events           0.003688            0.002786            0.000000   \n",
       "...                              ...                 ...                 ...   \n",
       "Artificial Intelligence     0.005068            0.004695            0.000000   \n",
       "Pirates                     0.006517            0.001274            0.000000   \n",
       "Hero Shooter                0.004714            0.014085            0.000000   \n",
       "Turn-Based                  0.012040            0.000000            0.002535   \n",
       "Underground                 0.003621            0.002674            0.003311   \n",
       "\n",
       "                          Fantasy  Quick-Time Events   Foreign  \\\n",
       "Local Co-Op              0.033097           0.003688  0.001928   \n",
       "Twin Stick Shooter       0.006761           0.002786  0.000000   \n",
       "Silent Protagonist       0.002857           0.000000  0.005051   \n",
       "Fantasy                  1.000000           0.004826  0.005515   \n",
       "Quick-Time Events        0.004826           1.000000  0.007143   \n",
       "...                           ...                ...       ...   \n",
       "Artificial Intelligence  0.006589           0.004267  0.004769   \n",
       "Pirates                  0.008365           0.004762  0.000000   \n",
       "Hero Shooter             0.004160           0.011820  0.000000   \n",
       "Turn-Based               0.098415           0.001203  0.003785   \n",
       "Underground              0.007415           0.005208  0.003215   \n",
       "\n",
       "                         Software Training  Competitive  Destruction  \\\n",
       "Local Co-Op                       0.000000     0.042175     0.016940   \n",
       "Twin Stick Shooter                0.000000     0.010657     0.018112   \n",
       "Silent Protagonist                0.000000     0.001449     0.001613   \n",
       "Fantasy                           0.000000     0.010073     0.006402   \n",
       "Quick-Time Events                 0.000000     0.000000     0.004280   \n",
       "...                                    ...          ...          ...   \n",
       "Artificial Intelligence           0.006329     0.012613     0.016393   \n",
       "Pirates                           0.000000     0.002387     0.006536   \n",
       "Hero Shooter                      0.000000     0.014388     0.014379   \n",
       "Turn-Based                        0.000000     0.007253     0.002490   \n",
       "Underground                       0.000000     0.000000     0.008242   \n",
       "\n",
       "                          Trading  ...     Music  Animation & Modeling  \\\n",
       "Local Co-Op              0.002354  ...  0.010276              0.000000   \n",
       "Twin Stick Shooter       0.000000  ...  0.012966              0.000000   \n",
       "Silent Protagonist       0.000000  ...  0.008794              0.000000   \n",
       "Fantasy                  0.004958  ...  0.009498              0.001587   \n",
       "Quick-Time Events        0.000000  ...  0.004535              0.002457   \n",
       "...                           ...  ...       ...                   ...   \n",
       "Artificial Intelligence  0.010417  ...  0.003247              0.002646   \n",
       "Pirates                  0.027140  ...  0.000000              0.000000   \n",
       "Hero Shooter             0.002012  ...  0.004193              0.002088   \n",
       "Turn-Based               0.005797  ...  0.000912              0.000583   \n",
       "Underground              0.000000  ...  0.001093              0.000000   \n",
       "\n",
       "                           Runner  Mahjong     Logic  Artificial Intelligence  \\\n",
       "Local Co-Op              0.006455      0.0  0.008354                 0.005068   \n",
       "Twin Stick Shooter       0.001799      0.0  0.000504                 0.004695   \n",
       "Silent Protagonist       0.003008      0.0  0.006549                 0.000000   \n",
       "Fantasy                  0.010876      0.0  0.017552                 0.006589   \n",
       "Quick-Time Events        0.006711      0.0  0.009975                 0.004267   \n",
       "...                           ...      ...       ...                      ...   \n",
       "Artificial Intelligence  0.007326      0.0  0.019669                 1.000000   \n",
       "Pirates                  0.002457      0.0  0.002974                 0.001297   \n",
       "Hero Shooter             0.009828      0.0  0.001183                 0.010390   \n",
       "Turn-Based               0.000486      0.0  0.008609                 0.005489   \n",
       "Underground              0.002571      0.0  0.008557                 0.005464   \n",
       "\n",
       "                          Pirates  Hero Shooter  Turn-Based  Underground  \n",
       "Local Co-Op              0.006517      0.004714    0.012040     0.003621  \n",
       "Twin Stick Shooter       0.001274      0.014085    0.000000     0.002674  \n",
       "Silent Protagonist       0.000000      0.000000    0.002535     0.003311  \n",
       "Fantasy                  0.008365      0.004160    0.098415     0.007415  \n",
       "Quick-Time Events        0.004762      0.011820    0.001203     0.005208  \n",
       "...                           ...           ...         ...          ...  \n",
       "Artificial Intelligence  0.001297      0.010390    0.005489     0.005464  \n",
       "Pirates                  1.000000      0.002028    0.006395     0.004444  \n",
       "Hero Shooter             0.002028      1.000000    0.000576     0.008811  \n",
       "Turn-Based               0.006395      0.000576    1.000000     0.002959  \n",
       "Underground              0.004444      0.008811    0.002959     1.000000  \n",
       "\n",
       "[446 rows x 446 columns]"
      ]
     },
     "execution_count": 3,
     "metadata": {},
     "output_type": "execute_result"
    }
   ],
   "source": [
    "# if not existing, compute M\n",
    "engine.compute_M()\n",
    "engine.M.to_parquet('notebooks/files/M.parquet')\n",
    "engine.M"
   ]
  },
  {
   "cell_type": "code",
   "execution_count": 5,
   "metadata": {},
   "outputs": [],
   "source": [
    "# if already existing, load M\n",
    "engine.M = pd.read_parquet('notebooks/files/M.parquet')"
   ]
  },
  {
   "cell_type": "code",
   "execution_count": 6,
   "metadata": {},
   "outputs": [
    {
     "name": "stderr",
     "output_type": "stream",
     "text": [
      "processing samples: 100%|██████████| 41895/41895 [00:11<00:00, 3643.09it/s]\n"
     ]
    }
   ],
   "source": [
    "# prepare search\n",
    "sample_vectors = engine.encode_samples(sample_list)\n",
    "nbrs = engine.compute_nbrs(sample_vectors, k=5)"
   ]
  },
  {
   "cell_type": "markdown",
   "metadata": {},
   "source": [
    "# semantic tag search"
   ]
  },
  {
   "cell_type": "markdown",
   "metadata": {},
   "source": [
    "### naive"
   ]
  },
  {
   "cell_type": "code",
   "execution_count": 7,
   "metadata": {},
   "outputs": [
    {
     "data": {
      "text/plain": [
       "['Open World',\n",
       " 'First-Person',\n",
       " 'Zombies',\n",
       " 'Psychological Horror',\n",
       " 'Survival',\n",
       " 'Horror',\n",
       " 'Survival Horror',\n",
       " 'Dark',\n",
       " 'Story Rich',\n",
       " 'Combat',\n",
       " 'Emotional',\n",
       " 'Drama',\n",
       " 'Thriller',\n",
       " 'Puzzle',\n",
       " 'Mystery',\n",
       " 'Singleplayer',\n",
       " 'Exploration',\n",
       " 'Investigation',\n",
       " 'Linear',\n",
       " '3D']"
      ]
     },
     "execution_count": 7,
     "metadata": {},
     "output_type": "execute_result"
    }
   ],
   "source": [
    "query_tag_list = [\n",
    "    'Horror',\n",
    "    'Combat', \n",
    "    'Open World'\n",
    "]\n",
    "\n",
    "# perform search\n",
    "query_vector = engine.encode_query(query_tag_list=query_tag_list, j=5)\n",
    "search_results = engine.soft_tag_filtering(nbrs, sample_list, query_vector)\n",
    "search_results[0]"
   ]
  },
  {
   "cell_type": "markdown",
   "metadata": {},
   "source": [
    "### weighted"
   ]
  },
  {
   "cell_type": "code",
   "execution_count": 8,
   "metadata": {},
   "outputs": [
    {
     "data": {
      "text/plain": [
       "['Adventure', 'Indie', 'Action', 'RPG', 'Survival', 'Open World', 'Shooter']"
      ]
     },
     "execution_count": 8,
     "metadata": {},
     "output_type": "execute_result"
    }
   ],
   "source": [
    "query_tag_dict = {\n",
    "    'Shooter' : 0.3,\n",
    "    'Open World' : 0.7,\n",
    "}\n",
    "\n",
    "# perform search\n",
    "query_vector = engine.encode_query(query_tag_dict=query_tag_dict, j=5)\n",
    "search_results = engine.soft_tag_filtering(nbrs, sample_list, query_vector)\n",
    "search_results[0]"
   ]
  },
  {
   "cell_type": "markdown",
   "metadata": {},
   "source": [
    "# validation"
   ]
  },
  {
   "cell_type": "code",
   "execution_count": 9,
   "metadata": {},
   "outputs": [],
   "source": [
    "query_tag_list = [\n",
    "    'Simulation', \n",
    "    'Exploration',\n",
    "    'Open World',\n",
    "]\n",
    "result_index = 1\n",
    "\n",
    "# semantic search\n",
    "query_vector = engine.encode_query(query_tag_list=query_tag_list, negative_score=False, j=5)\n",
    "soft_filter_results = engine.soft_tag_filtering(nbrs, sample_list, query_vector)\n",
    "soft_raw_scores, soft_mean_scores = engine.compute_neighbor_scores(soft_filter_results[result_index], query_tag_list, remove_max=False)\n",
    "\n",
    "# traditional search\n",
    "hard_filter_results = engine.hard_tag_filtering(sample_list, query_tag_list)\n",
    "hard_raw_scores, hard_mean_scores = engine.compute_neighbor_scores(hard_filter_results[result_index], query_tag_list, remove_max=False)"
   ]
  },
  {
   "cell_type": "markdown",
   "metadata": {},
   "source": [
    "### visualize flattened results"
   ]
  },
  {
   "cell_type": "code",
   "execution_count": 10,
   "metadata": {},
   "outputs": [
    {
     "data": {
      "text/html": [
       "['Simulation', 'Exploration', 'Open World']:<br><span style='background-color:rgb(82,10,0); color:white'>Adventure</span> <span style='background-color:rgb(76,11,0); color:white'>Early Access</span> <span style='background-color:rgb(124,6,0); color:white'>Simulation</span> <span style='background-color:rgb(79,11,0); color:white'>Survival</span> <span style='background-color:rgb(127,5,0); color:white'>Exploration</span> <span style='background-color:rgb(127,5,0); color:white'>Open World</span> <span style='background-color:rgb(83,10,0); color:white'>First-Person</span> <span style='background-color:rgb(77,11,0); color:white'>Realistic</span> "
      ],
      "text/plain": [
       "<IPython.core.display.HTML object>"
      ]
     },
     "metadata": {},
     "output_type": "display_data"
    },
    {
     "data": {
      "text/html": [
       "['Simulation', 'Exploration', 'Open World']:<br><span style='background-color:rgb(53,13,0); color:white'>Racing</span> <span style='background-color:rgb(127,5,0); color:white'>Open World</span> <span style='background-color:rgb(55,13,0); color:white'>Driving</span> <span style='background-color:rgb(70,12,0); color:white'>Multiplayer</span> <span style='background-color:rgb(51,14,0); color:white'>Online Co-Op</span> <span style='background-color:rgb(49,14,0); color:white'>Automobile Sim</span> <span style='background-color:rgb(85,10,0); color:white'>Singleplayer</span> <span style='background-color:rgb(77,11,0); color:white'>Realistic</span> <span style='background-color:rgb(82,10,0); color:white'>Adventure</span> <span style='background-color:rgb(48,14,0); color:white'>PvP</span> <span style='background-color:rgb(49,14,0); color:white'>Arcade</span> <span style='background-color:rgb(52,14,0); color:white'>Controller</span> <span style='background-color:rgb(124,6,0); color:white'>Simulation</span> <span style='background-color:rgb(127,5,0); color:white'>Exploration</span> <span style='background-color:rgb(73,11,0); color:white'>Action</span> <span style='background-color:rgb(56,13,0); color:white'>Sports</span> <span style='background-color:rgb(58,13,0); color:white'>Great Soundtrack</span> <span style='background-color:rgb(84,10,0); color:white'>Atmospheric</span> <span style='background-color:rgb(83,10,0); color:white'>First-Person</span> <span style='background-color:rgb(63,12,0); color:white'>Funny</span> "
      ],
      "text/plain": [
       "<IPython.core.display.HTML object>"
      ]
     },
     "metadata": {},
     "output_type": "display_data"
    }
   ],
   "source": [
    "engine.show_results(query_tag_list, soft_raw_scores, soft_filter_results[result_index], visualization_type='mean', power=0.4, visualize=True, return_html=False)\n",
    "engine.show_results(query_tag_list, hard_raw_scores, hard_filter_results[result_index], visualization_type='mean', power=0.4, visualize=True, return_html=False)"
   ]
  },
  {
   "cell_type": "markdown",
   "metadata": {},
   "source": [
    "### visualize granular results"
   ]
  },
  {
   "cell_type": "code",
   "execution_count": 11,
   "metadata": {},
   "outputs": [
    {
     "data": {
      "text/html": [
       "Simulation:<br><span style='background-color:rgb(78,11,0); color:white'>Adventure</span> <span style='background-color:rgb(83,10,0); color:white'>Early Access</span> <span style='background-color:rgb(178,0,0); color:white'>Simulation</span> <span style='background-color:rgb(68,12,0); color:white'>Survival</span> <span style='background-color:rgb(71,12,0); color:white'>Exploration</span> <span style='background-color:rgb(74,11,0); color:white'>Open World</span> <span style='background-color:rgb(75,11,0); color:white'>First-Person</span> <span style='background-color:rgb(79,11,0); color:white'>Realistic</span> "
      ],
      "text/plain": [
       "<IPython.core.display.HTML object>"
      ]
     },
     "metadata": {},
     "output_type": "display_data"
    },
    {
     "data": {
      "text/html": [
       "Exploration:<br><span style='background-color:rgb(93,9,0); color:white'>Adventure</span> <span style='background-color:rgb(69,12,0); color:white'>Early Access</span> <span style='background-color:rgb(71,12,0); color:white'>Simulation</span> <span style='background-color:rgb(79,11,0); color:white'>Survival</span> <span style='background-color:rgb(178,0,0); color:white'>Exploration</span> <span style='background-color:rgb(91,9,0); color:white'>Open World</span> <span style='background-color:rgb(93,9,0); color:white'>First-Person</span> <span style='background-color:rgb(76,11,0); color:white'>Realistic</span> "
      ],
      "text/plain": [
       "<IPython.core.display.HTML object>"
      ]
     },
     "metadata": {},
     "output_type": "display_data"
    },
    {
     "data": {
      "text/html": [
       "Open World:<br><span style='background-color:rgb(74,11,0); color:white'>Adventure</span> <span style='background-color:rgb(76,11,0); color:white'>Early Access</span> <span style='background-color:rgb(74,11,0); color:white'>Simulation</span> <span style='background-color:rgb(87,10,0); color:white'>Survival</span> <span style='background-color:rgb(91,9,0); color:white'>Exploration</span> <span style='background-color:rgb(178,0,0); color:white'>Open World</span> <span style='background-color:rgb(80,11,0); color:white'>First-Person</span> <span style='background-color:rgb(75,11,0); color:white'>Realistic</span> "
      ],
      "text/plain": [
       "<IPython.core.display.HTML object>"
      ]
     },
     "metadata": {},
     "output_type": "display_data"
    },
    {
     "name": "stdout",
     "output_type": "stream",
     "text": [
      "\n"
     ]
    },
    {
     "data": {
      "text/html": [
       "Simulation:<br><span style='background-color:rgb(62,12,0); color:white'>Racing</span> <span style='background-color:rgb(74,11,0); color:white'>Open World</span> <span style='background-color:rgb(54,13,0); color:white'>Driving</span> <span style='background-color:rgb(73,11,0); color:white'>Multiplayer</span> <span style='background-color:rgb(44,15,0); color:white'>Online Co-Op</span> <span style='background-color:rgb(53,13,0); color:white'>Automobile Sim</span> <span style='background-color:rgb(95,9,0); color:white'>Singleplayer</span> <span style='background-color:rgb(79,11,0); color:white'>Realistic</span> <span style='background-color:rgb(78,11,0); color:white'>Adventure</span> <span style='background-color:rgb(49,14,0); color:white'>PvP</span> <span style='background-color:rgb(56,13,0); color:white'>Arcade</span> <span style='background-color:rgb(47,14,0); color:white'>Controller</span> <span style='background-color:rgb(178,0,0); color:white'>Simulation</span> <span style='background-color:rgb(71,12,0); color:white'>Exploration</span> <span style='background-color:rgb(77,11,0); color:white'>Action</span> <span style='background-color:rgb(76,11,0); color:white'>Sports</span> <span style='background-color:rgb(50,14,0); color:white'>Great Soundtrack</span> <span style='background-color:rgb(74,11,0); color:white'>Atmospheric</span> <span style='background-color:rgb(75,11,0); color:white'>First-Person</span> <span style='background-color:rgb(68,12,0); color:white'>Funny</span> "
      ],
      "text/plain": [
       "<IPython.core.display.HTML object>"
      ]
     },
     "metadata": {},
     "output_type": "display_data"
    },
    {
     "data": {
      "text/html": [
       "Exploration:<br><span style='background-color:rgb(39,15,0); color:white'>Racing</span> <span style='background-color:rgb(91,9,0); color:white'>Open World</span> <span style='background-color:rgb(42,15,0); color:white'>Driving</span> <span style='background-color:rgb(54,13,0); color:white'>Multiplayer</span> <span style='background-color:rgb(47,14,0); color:white'>Online Co-Op</span> <span style='background-color:rgb(36,15,0); color:white'>Automobile Sim</span> <span style='background-color:rgb(86,10,0); color:white'>Singleplayer</span> <span style='background-color:rgb(76,11,0); color:white'>Realistic</span> <span style='background-color:rgb(93,9,0); color:white'>Adventure</span> <span style='background-color:rgb(39,15,0); color:white'>PvP</span> <span style='background-color:rgb(48,14,0); color:white'>Arcade</span> <span style='background-color:rgb(58,13,0); color:white'>Controller</span> <span style='background-color:rgb(71,12,0); color:white'>Simulation</span> <span style='background-color:rgb(178,0,0); color:white'>Exploration</span> <span style='background-color:rgb(73,11,0); color:white'>Action</span> <span style='background-color:rgb(36,15,0); color:white'>Sports</span> <span style='background-color:rgb(61,13,0); color:white'>Great Soundtrack</span> <span style='background-color:rgb(100,8,0); color:white'>Atmospheric</span> <span style='background-color:rgb(93,9,0); color:white'>First-Person</span> <span style='background-color:rgb(63,12,0); color:white'>Funny</span> "
      ],
      "text/plain": [
       "<IPython.core.display.HTML object>"
      ]
     },
     "metadata": {},
     "output_type": "display_data"
    },
    {
     "data": {
      "text/html": [
       "Open World:<br><span style='background-color:rgb(54,13,0); color:white'>Racing</span> <span style='background-color:rgb(178,0,0); color:white'>Open World</span> <span style='background-color:rgb(64,12,0); color:white'>Driving</span> <span style='background-color:rgb(79,11,0); color:white'>Multiplayer</span> <span style='background-color:rgb(61,13,0); color:white'>Online Co-Op</span> <span style='background-color:rgb(55,13,0); color:white'>Automobile Sim</span> <span style='background-color:rgb(72,11,0); color:white'>Singleplayer</span> <span style='background-color:rgb(75,11,0); color:white'>Realistic</span> <span style='background-color:rgb(74,11,0); color:white'>Adventure</span> <span style='background-color:rgb(54,13,0); color:white'>PvP</span> <span style='background-color:rgb(38,15,0); color:white'>Arcade</span> <span style='background-color:rgb(52,14,0); color:white'>Controller</span> <span style='background-color:rgb(74,11,0); color:white'>Simulation</span> <span style='background-color:rgb(91,9,0); color:white'>Exploration</span> <span style='background-color:rgb(70,12,0); color:white'>Action</span> <span style='background-color:rgb(43,15,0); color:white'>Sports</span> <span style='background-color:rgb(61,13,0); color:white'>Great Soundtrack</span> <span style='background-color:rgb(76,11,0); color:white'>Atmospheric</span> <span style='background-color:rgb(80,11,0); color:white'>First-Person</span> <span style='background-color:rgb(57,13,0); color:white'>Funny</span> "
      ],
      "text/plain": [
       "<IPython.core.display.HTML object>"
      ]
     },
     "metadata": {},
     "output_type": "display_data"
    }
   ],
   "source": [
    "engine.show_results(query_tag_list, soft_raw_scores, soft_filter_results[result_index], visualization_type='raw', power=0.4, visualize=True, return_html=False)\n",
    "print()\n",
    "engine.show_results(query_tag_list, hard_raw_scores, hard_filter_results[result_index], visualization_type='raw', power=0.4, visualize=True, return_html=False)"
   ]
  }
 ],
 "metadata": {
  "kernelspec": {
   "display_name": "env1",
   "language": "python",
   "name": "python3"
  },
  "language_info": {
   "codemirror_mode": {
    "name": "ipython",
    "version": 3
   },
   "file_extension": ".py",
   "mimetype": "text/x-python",
   "name": "python",
   "nbconvert_exporter": "python",
   "pygments_lexer": "ipython3",
   "version": "3.12.5"
  }
 },
 "nbformat": 4,
 "nbformat_minor": 2
}

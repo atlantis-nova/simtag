{
 "cells": [
  {
   "cell_type": "markdown",
   "metadata": {},
   "source": [
    "https://www.kaggle.com/datasets/deeguy/twitter-news"
   ]
  },
  {
   "cell_type": "code",
   "execution_count": 1,
   "metadata": {},
   "outputs": [],
   "source": [
    "import os\n",
    "import warnings\n",
    "\n",
    "# move directory to the root of this repo\n",
    "os.chdir('\\\\'.join(os.getcwd().split('\\\\')[:-2]))\n",
    "warnings.simplefilter(\"ignore\")\n",
    "\n",
    "from simtag.filter import simtag_filter\n",
    "import pandas as pd\n",
    "\n",
    "def import_batch_parquet(batch_prefix):\n",
    "\tdfs = [pd.read_parquet(f'{batch_prefix}{i}.parquet') for i in range(5)]\n",
    "\tdf = pd.concat(dfs, ignore_index=True)\n",
    "\treturn df\n",
    "\n",
    "def store_batch_parquet(df, batch_prefix):\n",
    "\tchunk_size = len(df) // 5\n",
    "\tfor i in range(5):\n",
    "\t\tstart = i * chunk_size\n",
    "\t\tend = (i + 1) * chunk_size if i < 4 else len(df)\n",
    "\t\tdf.iloc[start:end].to_parquet(f\"{batch_prefix}{i}.parquet\", engine='pyarrow')"
   ]
  },
  {
   "cell_type": "markdown",
   "metadata": {},
   "source": [
    "# setup the library"
   ]
  },
  {
   "cell_type": "markdown",
   "metadata": {},
   "source": [
    "### import data"
   ]
  },
  {
   "cell_type": "code",
   "execution_count": 2,
   "metadata": {},
   "outputs": [],
   "source": [
    "import pandas as pd\n",
    "import ast\n",
    "\n",
    "# list of tweets, already formatted in parquet format for easy loading\n",
    "df = pd.read_csv('notebooks/twitter-news/news_tweets.csv', lineterminator='\\n')\n",
    "df = df.dropna(subset='hashtags')\n",
    "df = df.reset_index()\n",
    "df['hashtags'] = df['hashtags'].apply(lambda x : ast.literal_eval(x))\n",
    "sample_list = df['hashtags'].tolist()\n",
    "\n",
    "# extract hashtags\n",
    "hashtags_list = [x for x in df['hashtags'].dropna()]\n",
    "hashtags = list()\n",
    "[[hashtags.append(k) for k in x] for x in hashtags_list]\n",
    "hashtags = list(set(hashtags))\n",
    "hashtags = sorted(hashtags)"
   ]
  },
  {
   "cell_type": "markdown",
   "metadata": {},
   "source": [
    "### process data"
   ]
  },
  {
   "cell_type": "code",
   "execution_count": 3,
   "metadata": {},
   "outputs": [],
   "source": [
    "# initiate recommender\n",
    "engine = simtag_filter(\n",
    "    sample_list=sample_list, \n",
    "    covariate_vector_length=384,\n",
    "    model_name='sentence-transformers/all-MiniLM-L6-v2'\n",
    ")"
   ]
  },
  {
   "cell_type": "code",
   "execution_count": 4,
   "metadata": {},
   "outputs": [],
   "source": [
    "# if not existing, compute and save M\n",
    "# M, df_M = engine.compute_M(method='encoding')\n",
    "# store as batches, you can store as a unique file if you wish\n",
    "# store_batch_parquet(df_M, 'notebooks/twitter-news/M_')\n",
    "\n",
    "# if existing, load M\n",
    "df_M = import_batch_parquet(batch_prefix='notebooks/twitter-news/M_')\n",
    "\n",
    "engine.load_M(df_M)"
   ]
  },
  {
   "cell_type": "code",
   "execution_count": 5,
   "metadata": {},
   "outputs": [],
   "source": [
    "# if not existing, compute and save samples_encoded.parquet\n",
    "# samples_vectors = engine.encode_samples(sample_list)\n",
    "# samples_encoded = pd.DataFrame([[x[0] for x in samples_vectors]], index=['vector']).T\n",
    "# store_batch_parquet(samples_encoded, 'notebooks/twitter-news/samples_encoded_')\n",
    "\n",
    "# if already existing, load samples_encoded.parquet\n",
    "samples_encoded = import_batch_parquet(batch_prefix='notebooks/twitter-news/samples_encoded_')\n",
    "sample_vectors = samples_encoded.vector.tolist()\n",
    "nbrs = engine.compute_nbrs(sample_vectors, k=4)"
   ]
  },
  {
   "cell_type": "markdown",
   "metadata": {},
   "source": [
    "# semantic tag search"
   ]
  },
  {
   "cell_type": "markdown",
   "metadata": {},
   "source": [
    "### naive"
   ]
  },
  {
   "cell_type": "code",
   "execution_count": 6,
   "metadata": {},
   "outputs": [
    {
     "data": {
      "text/plain": [
       "[['news', 'Trump'],\n",
       " ['trump', 'news'],\n",
       " ['trump', 'news'],\n",
       " ['Politics', 'Trump', 'News']]"
      ]
     },
     "execution_count": 6,
     "metadata": {},
     "output_type": "execute_result"
    }
   ],
   "source": [
    "query_tag_list = [\n",
    "    'trump', \n",
    "    'News', \n",
    "    'democracy'\n",
    "]\n",
    "\n",
    "# perform search\n",
    "query_vector = engine.encode_query(list_tags=query_tag_list, allow_new_tags=True)\n",
    "indices, search_results = engine.soft_tag_filtering(nbrs, sample_list, query_vector)\n",
    "search_results"
   ]
  },
  {
   "cell_type": "markdown",
   "metadata": {},
   "source": [
    "### weighted"
   ]
  },
  {
   "cell_type": "code",
   "execution_count": 16,
   "metadata": {},
   "outputs": [
    {
     "name": "stdout",
     "output_type": "stream",
     "text": [
      "democrats. -> Democrats\n"
     ]
    },
    {
     "data": {
      "text/plain": [
       "[['trump', 'democrats', 'news'],\n",
       " ['democrats'],\n",
       " ['Democrats'],\n",
       " ['DemocracyNotAutocracy', 'Democrat']]"
      ]
     },
     "execution_count": 16,
     "metadata": {},
     "output_type": "execute_result"
    }
   ],
   "source": [
    "query_tag_dict = {\n",
    "    'trump' : 1,\n",
    "    'democracy' : 1,\n",
    "\t'democrats.' : 1,\n",
    "}\n",
    "\n",
    "# perform search\n",
    "query_vector = engine.encode_query(dict_tags=query_tag_dict, allow_new_tags=True, print_new_tags=True)\n",
    "indices, search_results = engine.soft_tag_filtering(nbrs, sample_list, query_vector)\n",
    "search_results[0:5]"
   ]
  },
  {
   "cell_type": "code",
   "execution_count": 8,
   "metadata": {},
   "outputs": [
    {
     "data": {
      "text/plain": [
       "[['Republicans', 'Democrat'],\n",
       " ['trump', 'gop', 'republicans'],\n",
       " ['republicans', 'Trump', 'Biden'],\n",
       " ['conservative', 'conservativenews', 'trump', 'republican']]"
      ]
     },
     "execution_count": 8,
     "metadata": {},
     "output_type": "execute_result"
    }
   ],
   "source": [
    "query_tag_dict = {\n",
    "    'trump' : 1,\n",
    "    'democracy' : 0.4,\n",
    "    'republican' : 2\n",
    "}\n",
    "\n",
    "# perform search\n",
    "query_vector = engine.encode_query(dict_tags=query_tag_dict)\n",
    "indices, search_results = engine.soft_tag_filtering(nbrs, sample_list, query_vector)\n",
    "search_results[0:5]"
   ]
  },
  {
   "cell_type": "markdown",
   "metadata": {},
   "source": [
    "# validation"
   ]
  },
  {
   "cell_type": "code",
   "execution_count": 9,
   "metadata": {},
   "outputs": [],
   "source": [
    "query_tag_list = ['democracy', 'trump']\n",
    "result_index = 0\n",
    "\n",
    "# semantic search\n",
    "query_vector = engine.encode_query(list_tags=query_tag_list)\n",
    "soft_indices, soft_filter_results = engine.soft_tag_filtering(nbrs, sample_list, query_vector)\n",
    "soft_raw_scores, soft_mean_scores = engine.compute_neighbor_scores(soft_filter_results[result_index], query_tag_list, remove_max=False)\n",
    "\n",
    "# traditional search\n",
    "hard_indices, hard_filter_results = engine.hard_tag_filtering(sample_list, query_tag_list)\n",
    "hard_raw_scores, hard_mean_scores = engine.compute_neighbor_scores(hard_filter_results[result_index], query_tag_list, remove_max=False)"
   ]
  },
  {
   "cell_type": "markdown",
   "metadata": {},
   "source": [
    "### lookup data"
   ]
  },
  {
   "cell_type": "code",
   "execution_count": 10,
   "metadata": {},
   "outputs": [
    {
     "data": {
      "text/html": [
       "<div>\n",
       "<style scoped>\n",
       "    .dataframe tbody tr th:only-of-type {\n",
       "        vertical-align: middle;\n",
       "    }\n",
       "\n",
       "    .dataframe tbody tr th {\n",
       "        vertical-align: top;\n",
       "    }\n",
       "\n",
       "    .dataframe thead th {\n",
       "        text-align: right;\n",
       "    }\n",
       "</style>\n",
       "<table border=\"1\" class=\"dataframe\">\n",
       "  <thead>\n",
       "    <tr style=\"text-align: right;\">\n",
       "      <th></th>\n",
       "      <th>index</th>\n",
       "      <th>content</th>\n",
       "      <th>date</th>\n",
       "      <th>hashtags</th>\n",
       "      <th>likeCount</th>\n",
       "      <th>quoteCount</th>\n",
       "      <th>replyCount</th>\n",
       "      <th>retweetCount</th>\n",
       "      <th>retweetedTweet</th>\n",
       "      <th>sourceLabel</th>\n",
       "      <th>username</th>\n",
       "      <th>country</th>\n",
       "      <th>country_cd</th>\n",
       "      <th>quoted_content</th>\n",
       "    </tr>\n",
       "  </thead>\n",
       "  <tbody>\n",
       "    <tr>\n",
       "      <th>32270</th>\n",
       "      <td>156660</td>\n",
       "      <td>The World Bank are opressing Fox News viewers ...</td>\n",
       "      <td>2022-08-13T22:16:28+00:00</td>\n",
       "      <td>[Trump]</td>\n",
       "      <td>0</td>\n",
       "      <td>0</td>\n",
       "      <td>0</td>\n",
       "      <td>0</td>\n",
       "      <td>NaN</td>\n",
       "      <td>ArseniKarp</td>\n",
       "      <td>ArseniKarp</td>\n",
       "      <td>NaN</td>\n",
       "      <td>NaN</td>\n",
       "      <td>NaN</td>\n",
       "    </tr>\n",
       "    <tr>\n",
       "      <th>70021</th>\n",
       "      <td>354702</td>\n",
       "      <td>Hannity you owe President Obama an apology for...</td>\n",
       "      <td>2022-08-13T04:10:15+00:00</td>\n",
       "      <td>[Trump]</td>\n",
       "      <td>1</td>\n",
       "      <td>0</td>\n",
       "      <td>0</td>\n",
       "      <td>1</td>\n",
       "      <td>NaN</td>\n",
       "      <td>Twitter for iPhone</td>\n",
       "      <td>WheresPercy</td>\n",
       "      <td>NaN</td>\n",
       "      <td>NaN</td>\n",
       "      <td>NaN</td>\n",
       "    </tr>\n",
       "    <tr>\n",
       "      <th>32020</th>\n",
       "      <td>154630</td>\n",
       "      <td>Una situazione complessa e inedita BBC News - ...</td>\n",
       "      <td>2022-08-13T22:29:54+00:00</td>\n",
       "      <td>[Trump]</td>\n",
       "      <td>3</td>\n",
       "      <td>0</td>\n",
       "      <td>0</td>\n",
       "      <td>1</td>\n",
       "      <td>NaN</td>\n",
       "      <td>Twitter for Android</td>\n",
       "      <td>paoloigna1</td>\n",
       "      <td>NaN</td>\n",
       "      <td>NaN</td>\n",
       "      <td>NaN</td>\n",
       "    </tr>\n",
       "    <tr>\n",
       "      <th>36704</th>\n",
       "      <td>186879</td>\n",
       "      <td>@newsmax @foxnews\\n\\nThe real news.\\n\\nNO ONE ...</td>\n",
       "      <td>2022-08-13T19:12:59+00:00</td>\n",
       "      <td>[TRUMP]</td>\n",
       "      <td>0</td>\n",
       "      <td>0</td>\n",
       "      <td>0</td>\n",
       "      <td>0</td>\n",
       "      <td>NaN</td>\n",
       "      <td>Twitter for Android</td>\n",
       "      <td>RRobocaller</td>\n",
       "      <td>NaN</td>\n",
       "      <td>NaN</td>\n",
       "      <td>The National Archives maintains millions of un...</td>\n",
       "    </tr>\n",
       "  </tbody>\n",
       "</table>\n",
       "</div>"
      ],
      "text/plain": [
       "        index                                            content  \\\n",
       "32270  156660  The World Bank are opressing Fox News viewers ...   \n",
       "70021  354702  Hannity you owe President Obama an apology for...   \n",
       "32020  154630  Una situazione complessa e inedita BBC News - ...   \n",
       "36704  186879  @newsmax @foxnews\\n\\nThe real news.\\n\\nNO ONE ...   \n",
       "\n",
       "                            date hashtags  likeCount  quoteCount  replyCount  \\\n",
       "32270  2022-08-13T22:16:28+00:00  [Trump]          0           0           0   \n",
       "70021  2022-08-13T04:10:15+00:00  [Trump]          1           0           0   \n",
       "32020  2022-08-13T22:29:54+00:00  [Trump]          3           0           0   \n",
       "36704  2022-08-13T19:12:59+00:00  [TRUMP]          0           0           0   \n",
       "\n",
       "       retweetCount  retweetedTweet          sourceLabel     username country  \\\n",
       "32270             0             NaN           ArseniKarp   ArseniKarp     NaN   \n",
       "70021             1             NaN   Twitter for iPhone  WheresPercy     NaN   \n",
       "32020             1             NaN  Twitter for Android   paoloigna1     NaN   \n",
       "36704             0             NaN  Twitter for Android  RRobocaller     NaN   \n",
       "\n",
       "      country_cd                                     quoted_content  \n",
       "32270        NaN                                                NaN  \n",
       "70021        NaN                                                NaN  \n",
       "32020        NaN                                                NaN  \n",
       "36704        NaN  The National Archives maintains millions of un...  "
      ]
     },
     "execution_count": 10,
     "metadata": {},
     "output_type": "execute_result"
    }
   ],
   "source": [
    "# semantic tag filtering\n",
    "df.iloc[soft_indices]"
   ]
  },
  {
   "cell_type": "code",
   "execution_count": 15,
   "metadata": {},
   "outputs": [
    {
     "data": {
      "text/html": [
       "<div>\n",
       "<style scoped>\n",
       "    .dataframe tbody tr th:only-of-type {\n",
       "        vertical-align: middle;\n",
       "    }\n",
       "\n",
       "    .dataframe tbody tr th {\n",
       "        vertical-align: top;\n",
       "    }\n",
       "\n",
       "    .dataframe thead th {\n",
       "        text-align: right;\n",
       "    }\n",
       "</style>\n",
       "<table border=\"1\" class=\"dataframe\">\n",
       "  <thead>\n",
       "    <tr style=\"text-align: right;\">\n",
       "      <th></th>\n",
       "      <th>index</th>\n",
       "      <th>content</th>\n",
       "      <th>date</th>\n",
       "      <th>hashtags</th>\n",
       "      <th>likeCount</th>\n",
       "      <th>quoteCount</th>\n",
       "      <th>replyCount</th>\n",
       "      <th>retweetCount</th>\n",
       "      <th>retweetedTweet</th>\n",
       "      <th>sourceLabel</th>\n",
       "      <th>username</th>\n",
       "      <th>country</th>\n",
       "      <th>country_cd</th>\n",
       "      <th>quoted_content</th>\n",
       "    </tr>\n",
       "  </thead>\n",
       "  <tbody>\n",
       "    <tr>\n",
       "      <th>1</th>\n",
       "      <td>2</td>\n",
       "      <td>@davidmweissman @RonFilipkowski I just hope th...</td>\n",
       "      <td>2022-08-14T15:51:17+00:00</td>\n",
       "      <td>[trump, truth, RuleOfLaw, democracy]</td>\n",
       "      <td>0</td>\n",
       "      <td>0</td>\n",
       "      <td>0</td>\n",
       "      <td>0</td>\n",
       "      <td>NaN</td>\n",
       "      <td>Twitter for iPhone</td>\n",
       "      <td>Deirdre62823246</td>\n",
       "      <td>NaN</td>\n",
       "      <td>NaN</td>\n",
       "      <td>NaN</td>\n",
       "    </tr>\n",
       "  </tbody>\n",
       "</table>\n",
       "</div>"
      ],
      "text/plain": [
       "   index                                            content  \\\n",
       "1      2  @davidmweissman @RonFilipkowski I just hope th...   \n",
       "\n",
       "                        date                              hashtags  likeCount  \\\n",
       "1  2022-08-14T15:51:17+00:00  [trump, truth, RuleOfLaw, democracy]          0   \n",
       "\n",
       "   quoteCount  replyCount  retweetCount  retweetedTweet         sourceLabel  \\\n",
       "1           0           0             0             NaN  Twitter for iPhone   \n",
       "\n",
       "          username country country_cd quoted_content  \n",
       "1  Deirdre62823246     NaN        NaN            NaN  "
      ]
     },
     "execution_count": 15,
     "metadata": {},
     "output_type": "execute_result"
    }
   ],
   "source": [
    "# traditional tag filtering\n",
    "df.iloc[hard_indices]"
   ]
  },
  {
   "cell_type": "markdown",
   "metadata": {},
   "source": [
    "### visualize flattened results"
   ]
  },
  {
   "cell_type": "code",
   "execution_count": 12,
   "metadata": {},
   "outputs": [
    {
     "data": {
      "text/html": [
       "['democracy', 'trump']:<br><span style='background-color:rgb(148,3,0); color:white'>Trump</span> "
      ],
      "text/plain": [
       "<IPython.core.display.HTML object>"
      ]
     },
     "metadata": {},
     "output_type": "display_data"
    },
    {
     "data": {
      "text/html": [
       "['democracy', 'trump']:<br><span style='background-color:rgb(148,3,0); color:white'>trump</span> <span style='background-color:rgb(95,9,0); color:white'>truth</span> <span style='background-color:rgb(77,11,0); color:white'>RuleOfLaw</span> <span style='background-color:rgb(148,3,0); color:white'>democracy</span> "
      ],
      "text/plain": [
       "<IPython.core.display.HTML object>"
      ]
     },
     "metadata": {},
     "output_type": "display_data"
    }
   ],
   "source": [
    "engine.show_results(query_tag_list, soft_raw_scores, soft_filter_results[result_index], visualization_type='mean', power=0.4, title=f'{query_tag_list}', visualize=True, return_html=False)\n",
    "engine.show_results(query_tag_list, hard_raw_scores, hard_filter_results[result_index], visualization_type='mean', power=0.4, title=f'{query_tag_list}', visualize=True, return_html=False)"
   ]
  },
  {
   "cell_type": "markdown",
   "metadata": {},
   "source": [
    "### visualize granular results"
   ]
  },
  {
   "cell_type": "code",
   "execution_count": 14,
   "metadata": {},
   "outputs": [
    {
     "data": {
      "text/html": [
       "['democracy', 'trump']:<br><span style='background-color:rgb(104,8,0); color:white'>Trump</span> "
      ],
      "text/plain": [
       "<IPython.core.display.HTML object>"
      ]
     },
     "metadata": {},
     "output_type": "display_data"
    },
    {
     "data": {
      "text/html": [
       "['democracy', 'trump']:<br><span style='background-color:rgb(178,0,0); color:white'>Trump</span> "
      ],
      "text/plain": [
       "<IPython.core.display.HTML object>"
      ]
     },
     "metadata": {},
     "output_type": "display_data"
    },
    {
     "name": "stdout",
     "output_type": "stream",
     "text": [
      "\n"
     ]
    },
    {
     "data": {
      "text/html": [
       "['democracy', 'trump']:<br><span style='background-color:rgb(104,8,0); color:white'>trump</span> <span style='background-color:rgb(95,9,0); color:white'>truth</span> <span style='background-color:rgb(89,9,0); color:white'>RuleOfLaw</span> <span style='background-color:rgb(178,0,0); color:white'>democracy</span> "
      ],
      "text/plain": [
       "<IPython.core.display.HTML object>"
      ]
     },
     "metadata": {},
     "output_type": "display_data"
    },
    {
     "data": {
      "text/html": [
       "['democracy', 'trump']:<br><span style='background-color:rgb(178,0,0); color:white'>trump</span> <span style='background-color:rgb(95,9,0); color:white'>truth</span> <span style='background-color:rgb(62,13,0); color:white'>RuleOfLaw</span> <span style='background-color:rgb(104,8,0); color:white'>democracy</span> "
      ],
      "text/plain": [
       "<IPython.core.display.HTML object>"
      ]
     },
     "metadata": {},
     "output_type": "display_data"
    }
   ],
   "source": [
    "engine.show_results(query_tag_list, soft_raw_scores, soft_filter_results[result_index], visualization_type='raw', power=0.4, title=f'{query_tag_list}', visualize=True, return_html=False)\n",
    "print()\n",
    "engine.show_results(query_tag_list, hard_raw_scores, hard_filter_results[result_index], visualization_type='raw', power=0.4, title=f'{query_tag_list}', visualize=True, return_html=False)"
   ]
  }
 ],
 "metadata": {
  "kernelspec": {
   "display_name": "env1",
   "language": "python",
   "name": "python3"
  },
  "language_info": {
   "codemirror_mode": {
    "name": "ipython",
    "version": 3
   },
   "file_extension": ".py",
   "mimetype": "text/x-python",
   "name": "python",
   "nbconvert_exporter": "python",
   "pygments_lexer": "ipython3",
   "version": "3.12.5"
  }
 },
 "nbformat": 4,
 "nbformat_minor": 2
}
